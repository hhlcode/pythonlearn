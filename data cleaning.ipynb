{
 "cells": [
  {
   "cell_type": "markdown",
   "metadata": {},
   "source": [
    "## <font color='blue'>数据清洗案例"
   ]
  },
  {
   "cell_type": "markdown",
   "metadata": {},
   "source": [
    "### 1. 导入相关包"
   ]
  },
  {
   "cell_type": "code",
   "execution_count": 1,
   "metadata": {},
   "outputs": [],
   "source": [
    "import pandas as pd\n",
    "import numpy as np\n",
    "import matplotlib.pyplot as plt\n",
    "%matplotlib inline \n",
    "#jupyter notebook一定运行这一行代码，在cell中显示图形"
   ]
  },
  {
   "cell_type": "markdown",
   "metadata": {},
   "source": [
    "### 2.导入数据集"
   ]
  },
  {
   "cell_type": "code",
   "execution_count": 2,
   "metadata": {},
   "outputs": [],
   "source": [
    "df=pd.read_csv('qunar_freetrip.csv',index_col=0)"
   ]
  },
  {
   "cell_type": "code",
   "execution_count": 3,
   "metadata": {},
   "outputs": [
    {
     "data": {
      "text/html": [
       "<div>\n",
       "<style scoped>\n",
       "    .dataframe tbody tr th:only-of-type {\n",
       "        vertical-align: middle;\n",
       "    }\n",
       "\n",
       "    .dataframe tbody tr th {\n",
       "        vertical-align: top;\n",
       "    }\n",
       "\n",
       "    .dataframe thead th {\n",
       "        text-align: right;\n",
       "    }\n",
       "</style>\n",
       "<table border=\"1\" class=\"dataframe\">\n",
       "  <thead>\n",
       "    <tr style=\"text-align: right;\">\n",
       "      <th></th>\n",
       "      <th>出发地</th>\n",
       "      <th>目的地</th>\n",
       "      <th>价格</th>\n",
       "      <th>节省</th>\n",
       "      <th>路线名</th>\n",
       "      <th>酒店</th>\n",
       "      <th>房间</th>\n",
       "      <th>去程航司</th>\n",
       "      <th>去程方式</th>\n",
       "      <th>去程时间</th>\n",
       "      <th>回程航司</th>\n",
       "      <th>回程方式</th>\n",
       "      <th>回程时间</th>\n",
       "    </tr>\n",
       "  </thead>\n",
       "  <tbody>\n",
       "    <tr>\n",
       "      <th>0</th>\n",
       "      <td>哈尔滨</td>\n",
       "      <td>北海</td>\n",
       "      <td>2208.0</td>\n",
       "      <td>650.0</td>\n",
       "      <td>哈尔滨-北海3天2晚 | 入住北海祥丰嘉年华大酒店 + 春秋航空往返机票</td>\n",
       "      <td>北海祥丰嘉年华大酒店 舒适型 4.7分/5分</td>\n",
       "      <td>标准双人间(双床) 双床 不含早 1间2晚</td>\n",
       "      <td>春秋航空 9C8741</td>\n",
       "      <td>直飞</td>\n",
       "      <td>17:10-21:50</td>\n",
       "      <td>春秋航空 9C8742</td>\n",
       "      <td>直飞</td>\n",
       "      <td>10:20-15:05</td>\n",
       "    </tr>\n",
       "    <tr>\n",
       "      <th>1</th>\n",
       "      <td>成都</td>\n",
       "      <td>泸沽湖</td>\n",
       "      <td>1145.0</td>\n",
       "      <td>376.0</td>\n",
       "      <td>成都-泸沽湖3天2晚 | 入住7天酒店丽江古城中心店 + 成都航空往返机票</td>\n",
       "      <td>7天酒店丽江古城中心店 经济型 4.0分/5分</td>\n",
       "      <td>经济房-不含早-限时特... 其他 不含早 1间2晚</td>\n",
       "      <td>成都航空 EU2237</td>\n",
       "      <td>直飞</td>\n",
       "      <td>19:45-21:20</td>\n",
       "      <td>成都航空 EU2738</td>\n",
       "      <td>直飞</td>\n",
       "      <td>23:30-01:05</td>\n",
       "    </tr>\n",
       "  </tbody>\n",
       "</table>\n",
       "</div>"
      ],
      "text/plain": [
       "  出发地   目的地     价格      节省                                    路线名  \\\n",
       "0  哈尔滨   北海  2208.0  650.0   哈尔滨-北海3天2晚 | 入住北海祥丰嘉年华大酒店 + 春秋航空往返机票   \n",
       "1   成都  泸沽湖  1145.0  376.0  成都-泸沽湖3天2晚 | 入住7天酒店丽江古城中心店 + 成都航空往返机票   \n",
       "\n",
       "                        酒店                          房间         去程航司 去程方式  \\\n",
       "0   北海祥丰嘉年华大酒店 舒适型 4.7分/5分       标准双人间(双床) 双床 不含早 1间2晚  春秋航空 9C8741   直飞   \n",
       "1  7天酒店丽江古城中心店 经济型 4.0分/5分  经济房-不含早-限时特... 其他 不含早 1间2晚  成都航空 EU2237   直飞   \n",
       "\n",
       "          去程时间         回程航司 回程方式          回程时间  \n",
       "0  17:10-21:50  春秋航空 9C8742    直飞  10:20-15:05  \n",
       "1  19:45-21:20  成都航空 EU2738    直飞  23:30-01:05  "
      ]
     },
     "execution_count": 3,
     "metadata": {},
     "output_type": "execute_result"
    }
   ],
   "source": [
    "df.head(2)"
   ]
  },
  {
   "cell_type": "markdown",
   "metadata": {},
   "source": [
    "### 3. 初步探索数据"
   ]
  },
  {
   "cell_type": "code",
   "execution_count": 4,
   "metadata": {},
   "outputs": [
    {
     "data": {
      "text/plain": [
       "(5100, 13)"
      ]
     },
     "execution_count": 4,
     "metadata": {},
     "output_type": "execute_result"
    }
   ],
   "source": [
    "#查看数据形状\n",
    "df.shape"
   ]
  },
  {
   "cell_type": "code",
   "execution_count": 5,
   "metadata": {},
   "outputs": [
    {
     "name": "stdout",
     "output_type": "stream",
     "text": [
      "<class 'pandas.core.frame.DataFrame'>\n",
      "Int64Index: 5100 entries, 0 to 5099\n",
      "Data columns (total 13 columns):\n",
      " #   Column  Non-Null Count  Dtype  \n",
      "---  ------  --------------  -----  \n",
      " 0   出发地     5098 non-null   object \n",
      " 1    目的地    5099 non-null   object \n",
      " 2   价格      5072 non-null   float64\n",
      " 3   节省      5083 non-null   float64\n",
      " 4   路线名     5100 non-null   object \n",
      " 5   酒店      5100 non-null   object \n",
      " 6   房间      5100 non-null   object \n",
      " 7   去程航司    5100 non-null   object \n",
      " 8   去程方式    5100 non-null   object \n",
      " 9   去程时间    5100 non-null   object \n",
      " 10  回程航司    5100 non-null   object \n",
      " 11  回程方式    5100 non-null   object \n",
      " 12  回程时间    5100 non-null   object \n",
      "dtypes: float64(2), object(11)\n",
      "memory usage: 557.8+ KB\n"
     ]
    }
   ],
   "source": [
    "#快速了解数据的结构\n",
    "df.info()"
   ]
  },
  {
   "cell_type": "code",
   "execution_count": 6,
   "metadata": {},
   "outputs": [
    {
     "data": {
      "text/html": [
       "<div>\n",
       "<style scoped>\n",
       "    .dataframe tbody tr th:only-of-type {\n",
       "        vertical-align: middle;\n",
       "    }\n",
       "\n",
       "    .dataframe tbody tr th {\n",
       "        vertical-align: top;\n",
       "    }\n",
       "\n",
       "    .dataframe thead th {\n",
       "        text-align: right;\n",
       "    }\n",
       "</style>\n",
       "<table border=\"1\" class=\"dataframe\">\n",
       "  <thead>\n",
       "    <tr style=\"text-align: right;\">\n",
       "      <th></th>\n",
       "      <th>价格</th>\n",
       "      <th>节省</th>\n",
       "    </tr>\n",
       "  </thead>\n",
       "  <tbody>\n",
       "    <tr>\n",
       "      <th>count</th>\n",
       "      <td>5072.000000</td>\n",
       "      <td>5083.000000</td>\n",
       "    </tr>\n",
       "    <tr>\n",
       "      <th>mean</th>\n",
       "      <td>1765.714905</td>\n",
       "      <td>474.139878</td>\n",
       "    </tr>\n",
       "    <tr>\n",
       "      <th>std</th>\n",
       "      <td>2580.129644</td>\n",
       "      <td>168.893780</td>\n",
       "    </tr>\n",
       "    <tr>\n",
       "      <th>min</th>\n",
       "      <td>578.000000</td>\n",
       "      <td>306.000000</td>\n",
       "    </tr>\n",
       "    <tr>\n",
       "      <th>25%</th>\n",
       "      <td>1253.000000</td>\n",
       "      <td>358.000000</td>\n",
       "    </tr>\n",
       "    <tr>\n",
       "      <th>50%</th>\n",
       "      <td>1632.000000</td>\n",
       "      <td>436.000000</td>\n",
       "    </tr>\n",
       "    <tr>\n",
       "      <th>75%</th>\n",
       "      <td>2028.250000</td>\n",
       "      <td>530.000000</td>\n",
       "    </tr>\n",
       "    <tr>\n",
       "      <th>max</th>\n",
       "      <td>179500.000000</td>\n",
       "      <td>3500.000000</td>\n",
       "    </tr>\n",
       "  </tbody>\n",
       "</table>\n",
       "</div>"
      ],
      "text/plain": [
       "                 价格            节省\n",
       "count    5072.000000  5083.000000\n",
       "mean     1765.714905   474.139878\n",
       "std      2580.129644   168.893780\n",
       "min       578.000000   306.000000\n",
       "25%      1253.000000   358.000000\n",
       "50%      1632.000000   436.000000\n",
       "75%      2028.250000   530.000000\n",
       "max    179500.000000  3500.000000"
      ]
     },
     "execution_count": 6,
     "metadata": {},
     "output_type": "execute_result"
    }
   ],
   "source": [
    "#快速查看数据的描述性统计信息\n",
    "df.describe() #显示数值型数据的描述统计"
   ]
  },
  {
   "cell_type": "markdown",
   "metadata": {},
   "source": [
    "### 4.简单数据处理"
   ]
  },
  {
   "cell_type": "code",
   "execution_count": 7,
   "metadata": {},
   "outputs": [
    {
     "data": {
      "text/plain": [
       "Index(['出发地 ', ' 目的地', '价格 ', '节省', '路线名', '酒店', '房间', '去程航司', '去程方式', '去程时间',\n",
       "       '回程航司', '回程方式 ', '回程时间'],\n",
       "      dtype='object')"
      ]
     },
     "execution_count": 7,
     "metadata": {},
     "output_type": "execute_result"
    }
   ],
   "source": [
    "df.columns"
   ]
  },
  {
   "cell_type": "code",
   "execution_count": 8,
   "metadata": {},
   "outputs": [
    {
     "data": {
      "text/html": [
       "<div>\n",
       "<style scoped>\n",
       "    .dataframe tbody tr th:only-of-type {\n",
       "        vertical-align: middle;\n",
       "    }\n",
       "\n",
       "    .dataframe tbody tr th {\n",
       "        vertical-align: top;\n",
       "    }\n",
       "\n",
       "    .dataframe thead th {\n",
       "        text-align: right;\n",
       "    }\n",
       "</style>\n",
       "<table border=\"1\" class=\"dataframe\">\n",
       "  <thead>\n",
       "    <tr style=\"text-align: right;\">\n",
       "      <th></th>\n",
       "      <th>出发地</th>\n",
       "      <th>目的地</th>\n",
       "      <th>价格</th>\n",
       "      <th>节省</th>\n",
       "      <th>路线名</th>\n",
       "      <th>酒店</th>\n",
       "      <th>房间</th>\n",
       "      <th>去程航司</th>\n",
       "      <th>去程方式</th>\n",
       "      <th>去程时间</th>\n",
       "      <th>回程航司</th>\n",
       "      <th>回程方式</th>\n",
       "      <th>回程时间</th>\n",
       "    </tr>\n",
       "  </thead>\n",
       "  <tbody>\n",
       "    <tr>\n",
       "      <th>0</th>\n",
       "      <td>哈尔滨</td>\n",
       "      <td>北海</td>\n",
       "      <td>2208.0</td>\n",
       "      <td>650.0</td>\n",
       "      <td>哈尔滨-北海3天2晚 | 入住北海祥丰嘉年华大酒店 + 春秋航空往返机票</td>\n",
       "      <td>北海祥丰嘉年华大酒店 舒适型 4.7分/5分</td>\n",
       "      <td>标准双人间(双床) 双床 不含早 1间2晚</td>\n",
       "      <td>春秋航空 9C8741</td>\n",
       "      <td>直飞</td>\n",
       "      <td>17:10-21:50</td>\n",
       "      <td>春秋航空 9C8742</td>\n",
       "      <td>直飞</td>\n",
       "      <td>10:20-15:05</td>\n",
       "    </tr>\n",
       "    <tr>\n",
       "      <th>1</th>\n",
       "      <td>成都</td>\n",
       "      <td>泸沽湖</td>\n",
       "      <td>1145.0</td>\n",
       "      <td>376.0</td>\n",
       "      <td>成都-泸沽湖3天2晚 | 入住7天酒店丽江古城中心店 + 成都航空往返机票</td>\n",
       "      <td>7天酒店丽江古城中心店 经济型 4.0分/5分</td>\n",
       "      <td>经济房-不含早-限时特... 其他 不含早 1间2晚</td>\n",
       "      <td>成都航空 EU2237</td>\n",
       "      <td>直飞</td>\n",
       "      <td>19:45-21:20</td>\n",
       "      <td>成都航空 EU2738</td>\n",
       "      <td>直飞</td>\n",
       "      <td>23:30-01:05</td>\n",
       "    </tr>\n",
       "  </tbody>\n",
       "</table>\n",
       "</div>"
      ],
      "text/plain": [
       "  出发地   目的地     价格      节省                                    路线名  \\\n",
       "0  哈尔滨   北海  2208.0  650.0   哈尔滨-北海3天2晚 | 入住北海祥丰嘉年华大酒店 + 春秋航空往返机票   \n",
       "1   成都  泸沽湖  1145.0  376.0  成都-泸沽湖3天2晚 | 入住7天酒店丽江古城中心店 + 成都航空往返机票   \n",
       "\n",
       "                        酒店                          房间         去程航司 去程方式  \\\n",
       "0   北海祥丰嘉年华大酒店 舒适型 4.7分/5分       标准双人间(双床) 双床 不含早 1间2晚  春秋航空 9C8741   直飞   \n",
       "1  7天酒店丽江古城中心店 经济型 4.0分/5分  经济房-不含早-限时特... 其他 不含早 1间2晚  成都航空 EU2237   直飞   \n",
       "\n",
       "          去程时间         回程航司 回程方式          回程时间  \n",
       "0  17:10-21:50  春秋航空 9C8742    直飞  10:20-15:05  \n",
       "1  19:45-21:20  成都航空 EU2738    直飞  23:30-01:05  "
      ]
     },
     "execution_count": 8,
     "metadata": {},
     "output_type": "execute_result"
    }
   ],
   "source": [
    "df.head(2)"
   ]
  },
  {
   "cell_type": "code",
   "execution_count": 9,
   "metadata": {},
   "outputs": [],
   "source": [
    "col = df.columns.values"
   ]
  },
  {
   "cell_type": "code",
   "execution_count": 10,
   "metadata": {},
   "outputs": [
    {
     "data": {
      "text/plain": [
       "array(['出发地 ', ' 目的地', '价格 ', '节省', '路线名', '酒店', '房间', '去程航司', '去程方式',\n",
       "       '去程时间', '回程航司', '回程方式 ', '回程时间'], dtype=object)"
      ]
     },
     "execution_count": 10,
     "metadata": {},
     "output_type": "execute_result"
    }
   ],
   "source": [
    "col"
   ]
  },
  {
   "cell_type": "code",
   "execution_count": 11,
   "metadata": {},
   "outputs": [
    {
     "data": {
      "text/plain": [
       "'出发地'"
      ]
     },
     "execution_count": 11,
     "metadata": {},
     "output_type": "execute_result"
    }
   ],
   "source": [
    "col[0].strip() #strip函数一次只能处理一个数据"
   ]
  },
  {
   "cell_type": "code",
   "execution_count": 12,
   "metadata": {},
   "outputs": [
    {
     "data": {
      "text/plain": [
       "['出发地',\n",
       " '目的地',\n",
       " '价格',\n",
       " '节省',\n",
       " '路线名',\n",
       " '酒店',\n",
       " '房间',\n",
       " '去程航司',\n",
       " '去程方式',\n",
       " '去程时间',\n",
       " '回程航司',\n",
       " '回程方式',\n",
       " '回程时间']"
      ]
     },
     "execution_count": 12,
     "metadata": {},
     "output_type": "execute_result"
    }
   ],
   "source": [
    "[x.strip() for x in col]\n",
    "#strip去除前后空格"
   ]
  },
  {
   "cell_type": "code",
   "execution_count": 13,
   "metadata": {},
   "outputs": [],
   "source": [
    "df.columns = [x.strip() for x in col]"
   ]
  },
  {
   "cell_type": "code",
   "execution_count": 14,
   "metadata": {},
   "outputs": [
    {
     "data": {
      "text/plain": [
       "Index(['出发地', '目的地', '价格', '节省', '路线名', '酒店', '房间', '去程航司', '去程方式', '去程时间',\n",
       "       '回程航司', '回程方式', '回程时间'],\n",
       "      dtype='object')"
      ]
     },
     "execution_count": 14,
     "metadata": {},
     "output_type": "execute_result"
    }
   ],
   "source": [
    "df.columns"
   ]
  },
  {
   "cell_type": "markdown",
   "metadata": {},
   "source": [
    "### 5.重复值的处理"
   ]
  },
  {
   "cell_type": "markdown",
   "metadata": {},
   "source": [
    "#### 检查重复值duplicated()\n",
    "Duplicated函数功能：查找并显示数据表中的重复值   \n",
    "这里需要注意的是：    \n",
    "- 当两条记录中所有的数据都相等时duplicated函数才会判断为重复值        \n",
    "- duplicated支持从前向后(first)，和从后向前(last)两种重复值查找模式   \n",
    "- 默认是从前向后进行重复值的查找和判断，也就是后面的条目在重复值判断中显示为True    "
   ]
  },
  {
   "cell_type": "code",
   "execution_count": 15,
   "metadata": {},
   "outputs": [],
   "source": [
    "#第一行数据\n",
    "#第二行数据和第一行一样\n",
    "#从前向后就把第二行数据判断为重复值\n",
    "#从后向前就把第一行数据判断为重复值"
   ]
  },
  {
   "cell_type": "code",
   "execution_count": 16,
   "metadata": {},
   "outputs": [
    {
     "data": {
      "text/plain": [
       "0       False\n",
       "1       False\n",
       "2       False\n",
       "3       False\n",
       "4       False\n",
       "        ...  \n",
       "5095     True\n",
       "5096    False\n",
       "5097    False\n",
       "5098    False\n",
       "5099    False\n",
       "Length: 5100, dtype: bool"
      ]
     },
     "execution_count": 16,
     "metadata": {},
     "output_type": "execute_result"
    }
   ],
   "source": [
    "df.duplicated() #返回布尔型数据，告诉重复值的位置"
   ]
  },
  {
   "cell_type": "code",
   "execution_count": 17,
   "metadata": {},
   "outputs": [
    {
     "data": {
      "text/plain": [
       "100"
      ]
     },
     "execution_count": 17,
     "metadata": {},
     "output_type": "execute_result"
    }
   ],
   "source": [
    "df.duplicated().sum()#说明有100个重复值"
   ]
  },
  {
   "cell_type": "code",
   "execution_count": 18,
   "metadata": {},
   "outputs": [
    {
     "data": {
      "text/html": [
       "<div>\n",
       "<style scoped>\n",
       "    .dataframe tbody tr th:only-of-type {\n",
       "        vertical-align: middle;\n",
       "    }\n",
       "\n",
       "    .dataframe tbody tr th {\n",
       "        vertical-align: top;\n",
       "    }\n",
       "\n",
       "    .dataframe thead th {\n",
       "        text-align: right;\n",
       "    }\n",
       "</style>\n",
       "<table border=\"1\" class=\"dataframe\">\n",
       "  <thead>\n",
       "    <tr style=\"text-align: right;\">\n",
       "      <th></th>\n",
       "      <th>出发地</th>\n",
       "      <th>目的地</th>\n",
       "      <th>价格</th>\n",
       "      <th>节省</th>\n",
       "      <th>路线名</th>\n",
       "      <th>酒店</th>\n",
       "      <th>房间</th>\n",
       "      <th>去程航司</th>\n",
       "      <th>去程方式</th>\n",
       "      <th>去程时间</th>\n",
       "      <th>回程航司</th>\n",
       "      <th>回程方式</th>\n",
       "      <th>回程时间</th>\n",
       "    </tr>\n",
       "  </thead>\n",
       "  <tbody>\n",
       "    <tr>\n",
       "      <th>454</th>\n",
       "      <td>广州</td>\n",
       "      <td>黄山</td>\n",
       "      <td>1871.0</td>\n",
       "      <td>492.0</td>\n",
       "      <td>广州-黄山3天2晚 | 入住黄山汤口醉享主题酒店 + 南方航空往返机票</td>\n",
       "      <td>黄山汤口醉享主题酒店 舒适型 4.8分/5分</td>\n",
       "      <td>睫毛弯弯(大床) 大床 不含早 1间2晚</td>\n",
       "      <td>南方航空 CZ3627</td>\n",
       "      <td>直飞</td>\n",
       "      <td>19:20-21:15</td>\n",
       "      <td>南方航空 CZ3628</td>\n",
       "      <td>直飞</td>\n",
       "      <td>22:05-23:50</td>\n",
       "    </tr>\n",
       "    <tr>\n",
       "      <th>649</th>\n",
       "      <td>济南</td>\n",
       "      <td>长沙</td>\n",
       "      <td>1134.0</td>\n",
       "      <td>360.0</td>\n",
       "      <td>济南-长沙3天2晚 | 入住长沙喜迎宾华天大酒店 + 山东航空往返机票</td>\n",
       "      <td>长沙喜迎宾华天大酒店 高档型 3.7分/5分</td>\n",
       "      <td>特惠双间(特惠抢购)(... 双床 不含早 1间2晚</td>\n",
       "      <td>山东航空 SC1185</td>\n",
       "      <td>直飞</td>\n",
       "      <td>18:40-20:50</td>\n",
       "      <td>山东航空 SC1186</td>\n",
       "      <td>直飞</td>\n",
       "      <td>10:20-12:15</td>\n",
       "    </tr>\n",
       "    <tr>\n",
       "      <th>685</th>\n",
       "      <td>青岛</td>\n",
       "      <td>重庆</td>\n",
       "      <td>1474.0</td>\n",
       "      <td>420.0</td>\n",
       "      <td>青岛-重庆3天2晚 | 入住怡家丽景酒店重庆垫江店 + 山东航空/华夏航空往返机票</td>\n",
       "      <td>怡家丽景酒店重庆垫江店 舒适型 4.3分/5分</td>\n",
       "      <td>法式房(内宾)(无窗)... 大床 不含早 1间2晚</td>\n",
       "      <td>山东航空 SC4709</td>\n",
       "      <td>经停</td>\n",
       "      <td>19:30-00:05</td>\n",
       "      <td>华夏航空 G54710</td>\n",
       "      <td>经停</td>\n",
       "      <td>18:00-22:25</td>\n",
       "    </tr>\n",
       "    <tr>\n",
       "      <th>852</th>\n",
       "      <td>北京</td>\n",
       "      <td>哈尔滨</td>\n",
       "      <td>1450.0</td>\n",
       "      <td>368.0</td>\n",
       "      <td>北京-哈尔滨3天2晚 | 入住哈尔滨水逸城市酒店 + 南方航空/大新华航空往返机票</td>\n",
       "      <td>哈尔滨水逸城市酒店 舒适型 4.6分/5分</td>\n",
       "      <td>标准间-【预付特惠】独... 双床 双早 1间2晚</td>\n",
       "      <td>南方航空 CZ6202</td>\n",
       "      <td>直飞</td>\n",
       "      <td>22:20-00:20</td>\n",
       "      <td>大新华航空 CN7150</td>\n",
       "      <td>直飞</td>\n",
       "      <td>22:50-00:55</td>\n",
       "    </tr>\n",
       "    <tr>\n",
       "      <th>922</th>\n",
       "      <td>北京</td>\n",
       "      <td>长沙</td>\n",
       "      <td>1289.0</td>\n",
       "      <td>334.0</td>\n",
       "      <td>北京-长沙3天2晚 | 入住浏阳市华尔宫大酒店 + 海南航空/南方航空往返机票</td>\n",
       "      <td>浏阳市华尔宫大酒店 3.8分/5分</td>\n",
       "      <td>豪华双人间(双床) 双床 不含早 1间2晚</td>\n",
       "      <td>海南航空 HU7135</td>\n",
       "      <td>直飞</td>\n",
       "      <td>17:45-20:30</td>\n",
       "      <td>南方航空 CZ3855</td>\n",
       "      <td>直飞</td>\n",
       "      <td>22:55-01:10</td>\n",
       "    </tr>\n",
       "    <tr>\n",
       "      <th>...</th>\n",
       "      <td>...</td>\n",
       "      <td>...</td>\n",
       "      <td>...</td>\n",
       "      <td>...</td>\n",
       "      <td>...</td>\n",
       "      <td>...</td>\n",
       "      <td>...</td>\n",
       "      <td>...</td>\n",
       "      <td>...</td>\n",
       "      <td>...</td>\n",
       "      <td>...</td>\n",
       "      <td>...</td>\n",
       "      <td>...</td>\n",
       "    </tr>\n",
       "    <tr>\n",
       "      <th>5045</th>\n",
       "      <td>杭州</td>\n",
       "      <td>丽江</td>\n",
       "      <td>2872.0</td>\n",
       "      <td>718.0</td>\n",
       "      <td>杭州-丽江3天2晚 | 入住丽江松竹居客栈玉观音店 + 长龙航空/首都航空往返机票</td>\n",
       "      <td>丽江松竹居客栈玉观音店 高档型 4.6分/5分</td>\n",
       "      <td>特惠房(大床) 大床 不含早 1间2晚</td>\n",
       "      <td>长龙航空 GJ8869</td>\n",
       "      <td>经停</td>\n",
       "      <td>08:50-13:35</td>\n",
       "      <td>首都航空 JD5192</td>\n",
       "      <td>直飞</td>\n",
       "      <td>13:00-16:15</td>\n",
       "    </tr>\n",
       "    <tr>\n",
       "      <th>5066</th>\n",
       "      <td>哈尔滨</td>\n",
       "      <td>西安</td>\n",
       "      <td>1843.0</td>\n",
       "      <td>450.0</td>\n",
       "      <td>哈尔滨-西安3天2晚 | 入住西安铁通商务酒店贵宾楼 + 天津航空/东方航空往返...</td>\n",
       "      <td>西安铁通商务酒店贵宾楼 舒适型 4.2分/5分</td>\n",
       "      <td>标准间(持房卡尊享清凉... 双床 不含早 1间2晚</td>\n",
       "      <td>天津航空 GS7584</td>\n",
       "      <td>经停</td>\n",
       "      <td>12:30-17:40</td>\n",
       "      <td>东方航空 MU2211</td>\n",
       "      <td>经停</td>\n",
       "      <td>08:45-13:25</td>\n",
       "    </tr>\n",
       "    <tr>\n",
       "      <th>5068</th>\n",
       "      <td>南京</td>\n",
       "      <td>成都</td>\n",
       "      <td>1922.0</td>\n",
       "      <td>552.0</td>\n",
       "      <td>南京-成都3天2晚 | 入住成都伊丽特酒店 + 东方航空/西藏航空往返机票</td>\n",
       "      <td>成都伊丽特酒店 高档型 4.5分/5分</td>\n",
       "      <td>行政标准间-含早立即确... 双床 双早 1间2晚</td>\n",
       "      <td>东方航空 MU2880</td>\n",
       "      <td>直飞</td>\n",
       "      <td>21:55-00:35</td>\n",
       "      <td>西藏航空 TV9839</td>\n",
       "      <td>直飞</td>\n",
       "      <td>06:30-08:55</td>\n",
       "    </tr>\n",
       "    <tr>\n",
       "      <th>5081</th>\n",
       "      <td>上海</td>\n",
       "      <td>青岛</td>\n",
       "      <td>769.0</td>\n",
       "      <td>354.0</td>\n",
       "      <td>上海-青岛3天2晚 | 入住青岛金中太大酒店 + 春秋航空/吉祥航空往返机票</td>\n",
       "      <td>青岛金中太大酒店 舒适型 4.8分/5分</td>\n",
       "      <td>特惠大床房[无早] 大床 不含早 1间2晚</td>\n",
       "      <td>春秋航空 9C8853</td>\n",
       "      <td>直飞</td>\n",
       "      <td>19:50-21:35</td>\n",
       "      <td>吉祥航空 HO1242</td>\n",
       "      <td>直飞</td>\n",
       "      <td>23:05-00:35</td>\n",
       "    </tr>\n",
       "    <tr>\n",
       "      <th>5095</th>\n",
       "      <td>宁波</td>\n",
       "      <td>九寨沟</td>\n",
       "      <td>2085.0</td>\n",
       "      <td>562.0</td>\n",
       "      <td>宁波-九寨沟3天2晚 | 入住黑水县达古冰山国际大酒店 + 成都航空/四川航空往...</td>\n",
       "      <td>黑水县达古冰山国际大酒店 豪华型 3.9分/5分</td>\n",
       "      <td>B区豪华标间(双床) 双床 不含早 1间2晚</td>\n",
       "      <td>成都航空 EU2730</td>\n",
       "      <td>经停</td>\n",
       "      <td>19:45-00:45</td>\n",
       "      <td>四川航空 3U8927</td>\n",
       "      <td>经停</td>\n",
       "      <td>07:55-12:15</td>\n",
       "    </tr>\n",
       "  </tbody>\n",
       "</table>\n",
       "<p>100 rows × 13 columns</p>\n",
       "</div>"
      ],
      "text/plain": [
       "      出发地  目的地      价格     节省                                          路线名  \\\n",
       "454    广州   黄山  1871.0  492.0          广州-黄山3天2晚 | 入住黄山汤口醉享主题酒店 + 南方航空往返机票   \n",
       "649    济南   长沙  1134.0  360.0          济南-长沙3天2晚 | 入住长沙喜迎宾华天大酒店 + 山东航空往返机票   \n",
       "685    青岛   重庆  1474.0  420.0    青岛-重庆3天2晚 | 入住怡家丽景酒店重庆垫江店 + 山东航空/华夏航空往返机票   \n",
       "852    北京  哈尔滨  1450.0  368.0    北京-哈尔滨3天2晚 | 入住哈尔滨水逸城市酒店 + 南方航空/大新华航空往返机票   \n",
       "922    北京   长沙  1289.0  334.0      北京-长沙3天2晚 | 入住浏阳市华尔宫大酒店 + 海南航空/南方航空往返机票   \n",
       "...   ...  ...     ...    ...                                          ...   \n",
       "5045   杭州   丽江  2872.0  718.0    杭州-丽江3天2晚 | 入住丽江松竹居客栈玉观音店 + 长龙航空/首都航空往返机票   \n",
       "5066  哈尔滨   西安  1843.0  450.0  哈尔滨-西安3天2晚 | 入住西安铁通商务酒店贵宾楼 + 天津航空/东方航空往返...   \n",
       "5068   南京   成都  1922.0  552.0        南京-成都3天2晚 | 入住成都伊丽特酒店 + 东方航空/西藏航空往返机票   \n",
       "5081   上海   青岛   769.0  354.0       上海-青岛3天2晚 | 入住青岛金中太大酒店 + 春秋航空/吉祥航空往返机票   \n",
       "5095   宁波  九寨沟  2085.0  562.0  宁波-九寨沟3天2晚 | 入住黑水县达古冰山国际大酒店 + 成都航空/四川航空往...   \n",
       "\n",
       "                            酒店                          房间         去程航司 去程方式  \\\n",
       "454     黄山汤口醉享主题酒店 舒适型 4.8分/5分        睫毛弯弯(大床) 大床 不含早 1间2晚  南方航空 CZ3627   直飞   \n",
       "649     长沙喜迎宾华天大酒店 高档型 3.7分/5分  特惠双间(特惠抢购)(... 双床 不含早 1间2晚  山东航空 SC1185   直飞   \n",
       "685    怡家丽景酒店重庆垫江店 舒适型 4.3分/5分  法式房(内宾)(无窗)... 大床 不含早 1间2晚  山东航空 SC4709   经停   \n",
       "852      哈尔滨水逸城市酒店 舒适型 4.6分/5分   标准间-【预付特惠】独... 双床 双早 1间2晚  南方航空 CZ6202   直飞   \n",
       "922          浏阳市华尔宫大酒店 3.8分/5分       豪华双人间(双床) 双床 不含早 1间2晚  海南航空 HU7135   直飞   \n",
       "...                        ...                         ...          ...  ...   \n",
       "5045   丽江松竹居客栈玉观音店 高档型 4.6分/5分         特惠房(大床) 大床 不含早 1间2晚  长龙航空 GJ8869   经停   \n",
       "5066   西安铁通商务酒店贵宾楼 舒适型 4.2分/5分  标准间(持房卡尊享清凉... 双床 不含早 1间2晚  天津航空 GS7584   经停   \n",
       "5068       成都伊丽特酒店 高档型 4.5分/5分   行政标准间-含早立即确... 双床 双早 1间2晚  东方航空 MU2880   直飞   \n",
       "5081      青岛金中太大酒店 舒适型 4.8分/5分       特惠大床房[无早] 大床 不含早 1间2晚  春秋航空 9C8853   直飞   \n",
       "5095  黑水县达古冰山国际大酒店 豪华型 3.9分/5分      B区豪华标间(双床) 双床 不含早 1间2晚  成都航空 EU2730   经停   \n",
       "\n",
       "             去程时间          回程航司 回程方式         回程时间  \n",
       "454   19:20-21:15   南方航空 CZ3628   直飞  22:05-23:50  \n",
       "649   18:40-20:50   山东航空 SC1186   直飞  10:20-12:15  \n",
       "685   19:30-00:05   华夏航空 G54710   经停  18:00-22:25  \n",
       "852   22:20-00:20  大新华航空 CN7150   直飞  22:50-00:55  \n",
       "922   17:45-20:30   南方航空 CZ3855   直飞  22:55-01:10  \n",
       "...           ...           ...  ...          ...  \n",
       "5045  08:50-13:35   首都航空 JD5192   直飞  13:00-16:15  \n",
       "5066  12:30-17:40   东方航空 MU2211   经停  08:45-13:25  \n",
       "5068  21:55-00:35   西藏航空 TV9839   直飞  06:30-08:55  \n",
       "5081  19:50-21:35   吉祥航空 HO1242   直飞  23:05-00:35  \n",
       "5095  19:45-00:45   四川航空 3U8927   经停  07:55-12:15  \n",
       "\n",
       "[100 rows x 13 columns]"
      ]
     },
     "execution_count": 18,
     "metadata": {},
     "output_type": "execute_result"
    }
   ],
   "source": [
    "#查看重复的记录\n",
    "df[df.duplicated()]"
   ]
  },
  {
   "cell_type": "markdown",
   "metadata": {},
   "source": [
    "#### 删除重复值drop_duplicates()   \n",
    "drop_duplicates函数功能是：删除数据表中的重复值，判断标准和逻辑与duplicated函数一样   "
   ]
  },
  {
   "cell_type": "code",
   "execution_count": 19,
   "metadata": {},
   "outputs": [],
   "source": [
    "df.drop_duplicates(inplace=True) \n",
    "#inplace=True表示直接在源数据上进行操作"
   ]
  },
  {
   "cell_type": "code",
   "execution_count": 20,
   "metadata": {},
   "outputs": [
    {
     "data": {
      "text/html": [
       "<div>\n",
       "<style scoped>\n",
       "    .dataframe tbody tr th:only-of-type {\n",
       "        vertical-align: middle;\n",
       "    }\n",
       "\n",
       "    .dataframe tbody tr th {\n",
       "        vertical-align: top;\n",
       "    }\n",
       "\n",
       "    .dataframe thead th {\n",
       "        text-align: right;\n",
       "    }\n",
       "</style>\n",
       "<table border=\"1\" class=\"dataframe\">\n",
       "  <thead>\n",
       "    <tr style=\"text-align: right;\">\n",
       "      <th></th>\n",
       "      <th>出发地</th>\n",
       "      <th>目的地</th>\n",
       "      <th>价格</th>\n",
       "      <th>节省</th>\n",
       "      <th>路线名</th>\n",
       "      <th>酒店</th>\n",
       "      <th>房间</th>\n",
       "      <th>去程航司</th>\n",
       "      <th>去程方式</th>\n",
       "      <th>去程时间</th>\n",
       "      <th>回程航司</th>\n",
       "      <th>回程方式</th>\n",
       "      <th>回程时间</th>\n",
       "    </tr>\n",
       "  </thead>\n",
       "  <tbody>\n",
       "    <tr>\n",
       "      <th>0</th>\n",
       "      <td>哈尔滨</td>\n",
       "      <td>北海</td>\n",
       "      <td>2208.0</td>\n",
       "      <td>650.0</td>\n",
       "      <td>哈尔滨-北海3天2晚 | 入住北海祥丰嘉年华大酒店 + 春秋航空往返机票</td>\n",
       "      <td>北海祥丰嘉年华大酒店 舒适型 4.7分/5分</td>\n",
       "      <td>标准双人间(双床) 双床 不含早 1间2晚</td>\n",
       "      <td>春秋航空 9C8741</td>\n",
       "      <td>直飞</td>\n",
       "      <td>17:10-21:50</td>\n",
       "      <td>春秋航空 9C8742</td>\n",
       "      <td>直飞</td>\n",
       "      <td>10:20-15:05</td>\n",
       "    </tr>\n",
       "    <tr>\n",
       "      <th>1</th>\n",
       "      <td>成都</td>\n",
       "      <td>泸沽湖</td>\n",
       "      <td>1145.0</td>\n",
       "      <td>376.0</td>\n",
       "      <td>成都-泸沽湖3天2晚 | 入住7天酒店丽江古城中心店 + 成都航空往返机票</td>\n",
       "      <td>7天酒店丽江古城中心店 经济型 4.0分/5分</td>\n",
       "      <td>经济房-不含早-限时特... 其他 不含早 1间2晚</td>\n",
       "      <td>成都航空 EU2237</td>\n",
       "      <td>直飞</td>\n",
       "      <td>19:45-21:20</td>\n",
       "      <td>成都航空 EU2738</td>\n",
       "      <td>直飞</td>\n",
       "      <td>23:30-01:05</td>\n",
       "    </tr>\n",
       "    <tr>\n",
       "      <th>2</th>\n",
       "      <td>广州</td>\n",
       "      <td>沈阳</td>\n",
       "      <td>2702.0</td>\n",
       "      <td>618.0</td>\n",
       "      <td>广州-沈阳3天2晚 | 入住沈阳中煤宾馆 + 南方航空/深圳航空往返机票</td>\n",
       "      <td>沈阳中煤宾馆 舒适型 4.5分/5分</td>\n",
       "      <td>大床间(内宾) 大床 双早 1间2晚</td>\n",
       "      <td>南方航空 CZ6384</td>\n",
       "      <td>直飞</td>\n",
       "      <td>08:05-11:45</td>\n",
       "      <td>深圳航空 ZH9652</td>\n",
       "      <td>经停</td>\n",
       "      <td>08:20-13:05</td>\n",
       "    </tr>\n",
       "    <tr>\n",
       "      <th>3</th>\n",
       "      <td>上海</td>\n",
       "      <td>九寨沟</td>\n",
       "      <td>1954.0</td>\n",
       "      <td>484.0</td>\n",
       "      <td>上海-九寨沟3天2晚 | 入住红原芸谊大酒店 + 成都航空往返机票</td>\n",
       "      <td>红原芸谊大酒店 舒适型 4.6分/5分</td>\n",
       "      <td>豪华双床房[双早] 双床 双早 1间2晚</td>\n",
       "      <td>成都航空 EU6678</td>\n",
       "      <td>直飞</td>\n",
       "      <td>21:55-01:15</td>\n",
       "      <td>成都航空 EU6677</td>\n",
       "      <td>直飞</td>\n",
       "      <td>17:45-20:35</td>\n",
       "    </tr>\n",
       "    <tr>\n",
       "      <th>4</th>\n",
       "      <td>广州</td>\n",
       "      <td>天津</td>\n",
       "      <td>1608.0</td>\n",
       "      <td>422.0</td>\n",
       "      <td>广州-天津3天2晚 | 入住天津逸海明珠大酒店 + 奥凯航空/海南航空往返机票</td>\n",
       "      <td>天津逸海明珠大酒店 高档型 4.1分/5分</td>\n",
       "      <td>豪华双床房(预付) 双床 不含早 1间2晚</td>\n",
       "      <td>奥凯航空 BK2787</td>\n",
       "      <td>直飞</td>\n",
       "      <td>06:55-10:00</td>\n",
       "      <td>海南航空 HU7201</td>\n",
       "      <td>直飞</td>\n",
       "      <td>20:15-23:25</td>\n",
       "    </tr>\n",
       "  </tbody>\n",
       "</table>\n",
       "</div>"
      ],
      "text/plain": [
       "   出发地  目的地      价格     节省                                      路线名  \\\n",
       "0  哈尔滨   北海  2208.0  650.0     哈尔滨-北海3天2晚 | 入住北海祥丰嘉年华大酒店 + 春秋航空往返机票   \n",
       "1   成都  泸沽湖  1145.0  376.0    成都-泸沽湖3天2晚 | 入住7天酒店丽江古城中心店 + 成都航空往返机票   \n",
       "2   广州   沈阳  2702.0  618.0     广州-沈阳3天2晚 | 入住沈阳中煤宾馆 + 南方航空/深圳航空往返机票   \n",
       "3   上海  九寨沟  1954.0  484.0        上海-九寨沟3天2晚 | 入住红原芸谊大酒店 + 成都航空往返机票   \n",
       "4   广州   天津  1608.0  422.0  广州-天津3天2晚 | 入住天津逸海明珠大酒店 + 奥凯航空/海南航空往返机票   \n",
       "\n",
       "                        酒店                          房间         去程航司 去程方式  \\\n",
       "0   北海祥丰嘉年华大酒店 舒适型 4.7分/5分       标准双人间(双床) 双床 不含早 1间2晚  春秋航空 9C8741   直飞   \n",
       "1  7天酒店丽江古城中心店 经济型 4.0分/5分  经济房-不含早-限时特... 其他 不含早 1间2晚  成都航空 EU2237   直飞   \n",
       "2       沈阳中煤宾馆 舒适型 4.5分/5分          大床间(内宾) 大床 双早 1间2晚  南方航空 CZ6384   直飞   \n",
       "3      红原芸谊大酒店 舒适型 4.6分/5分        豪华双床房[双早] 双床 双早 1间2晚  成都航空 EU6678   直飞   \n",
       "4    天津逸海明珠大酒店 高档型 4.1分/5分       豪华双床房(预付) 双床 不含早 1间2晚  奥凯航空 BK2787   直飞   \n",
       "\n",
       "          去程时间         回程航司 回程方式         回程时间  \n",
       "0  17:10-21:50  春秋航空 9C8742   直飞  10:20-15:05  \n",
       "1  19:45-21:20  成都航空 EU2738   直飞  23:30-01:05  \n",
       "2  08:05-11:45  深圳航空 ZH9652   经停  08:20-13:05  \n",
       "3  21:55-01:15  成都航空 EU6677   直飞  17:45-20:35  \n",
       "4  06:55-10:00  海南航空 HU7201   直飞  20:15-23:25  "
      ]
     },
     "execution_count": 20,
     "metadata": {},
     "output_type": "execute_result"
    }
   ],
   "source": [
    "df.head()"
   ]
  },
  {
   "cell_type": "code",
   "execution_count": 21,
   "metadata": {},
   "outputs": [
    {
     "data": {
      "text/plain": [
       "(5000, 13)"
      ]
     },
     "execution_count": 21,
     "metadata": {},
     "output_type": "execute_result"
    }
   ],
   "source": [
    "df.shape"
   ]
  },
  {
   "cell_type": "code",
   "execution_count": 22,
   "metadata": {},
   "outputs": [
    {
     "data": {
      "text/html": [
       "<div>\n",
       "<style scoped>\n",
       "    .dataframe tbody tr th:only-of-type {\n",
       "        vertical-align: middle;\n",
       "    }\n",
       "\n",
       "    .dataframe tbody tr th {\n",
       "        vertical-align: top;\n",
       "    }\n",
       "\n",
       "    .dataframe thead th {\n",
       "        text-align: right;\n",
       "    }\n",
       "</style>\n",
       "<table border=\"1\" class=\"dataframe\">\n",
       "  <thead>\n",
       "    <tr style=\"text-align: right;\">\n",
       "      <th></th>\n",
       "      <th>出发地</th>\n",
       "      <th>目的地</th>\n",
       "      <th>价格</th>\n",
       "      <th>节省</th>\n",
       "      <th>路线名</th>\n",
       "      <th>酒店</th>\n",
       "      <th>房间</th>\n",
       "      <th>去程航司</th>\n",
       "      <th>去程方式</th>\n",
       "      <th>去程时间</th>\n",
       "      <th>回程航司</th>\n",
       "      <th>回程方式</th>\n",
       "      <th>回程时间</th>\n",
       "    </tr>\n",
       "  </thead>\n",
       "  <tbody>\n",
       "    <tr>\n",
       "      <th>0</th>\n",
       "      <td>哈尔滨</td>\n",
       "      <td>北海</td>\n",
       "      <td>2208.0</td>\n",
       "      <td>650.0</td>\n",
       "      <td>哈尔滨-北海3天2晚 | 入住北海祥丰嘉年华大酒店 + 春秋航空往返机票</td>\n",
       "      <td>北海祥丰嘉年华大酒店 舒适型 4.7分/5分</td>\n",
       "      <td>标准双人间(双床) 双床 不含早 1间2晚</td>\n",
       "      <td>春秋航空 9C8741</td>\n",
       "      <td>直飞</td>\n",
       "      <td>17:10-21:50</td>\n",
       "      <td>春秋航空 9C8742</td>\n",
       "      <td>直飞</td>\n",
       "      <td>10:20-15:05</td>\n",
       "    </tr>\n",
       "    <tr>\n",
       "      <th>1</th>\n",
       "      <td>成都</td>\n",
       "      <td>泸沽湖</td>\n",
       "      <td>1145.0</td>\n",
       "      <td>376.0</td>\n",
       "      <td>成都-泸沽湖3天2晚 | 入住7天酒店丽江古城中心店 + 成都航空往返机票</td>\n",
       "      <td>7天酒店丽江古城中心店 经济型 4.0分/5分</td>\n",
       "      <td>经济房-不含早-限时特... 其他 不含早 1间2晚</td>\n",
       "      <td>成都航空 EU2237</td>\n",
       "      <td>直飞</td>\n",
       "      <td>19:45-21:20</td>\n",
       "      <td>成都航空 EU2738</td>\n",
       "      <td>直飞</td>\n",
       "      <td>23:30-01:05</td>\n",
       "    </tr>\n",
       "    <tr>\n",
       "      <th>2</th>\n",
       "      <td>广州</td>\n",
       "      <td>沈阳</td>\n",
       "      <td>2702.0</td>\n",
       "      <td>618.0</td>\n",
       "      <td>广州-沈阳3天2晚 | 入住沈阳中煤宾馆 + 南方航空/深圳航空往返机票</td>\n",
       "      <td>沈阳中煤宾馆 舒适型 4.5分/5分</td>\n",
       "      <td>大床间(内宾) 大床 双早 1间2晚</td>\n",
       "      <td>南方航空 CZ6384</td>\n",
       "      <td>直飞</td>\n",
       "      <td>08:05-11:45</td>\n",
       "      <td>深圳航空 ZH9652</td>\n",
       "      <td>经停</td>\n",
       "      <td>08:20-13:05</td>\n",
       "    </tr>\n",
       "    <tr>\n",
       "      <th>3</th>\n",
       "      <td>上海</td>\n",
       "      <td>九寨沟</td>\n",
       "      <td>1954.0</td>\n",
       "      <td>484.0</td>\n",
       "      <td>上海-九寨沟3天2晚 | 入住红原芸谊大酒店 + 成都航空往返机票</td>\n",
       "      <td>红原芸谊大酒店 舒适型 4.6分/5分</td>\n",
       "      <td>豪华双床房[双早] 双床 双早 1间2晚</td>\n",
       "      <td>成都航空 EU6678</td>\n",
       "      <td>直飞</td>\n",
       "      <td>21:55-01:15</td>\n",
       "      <td>成都航空 EU6677</td>\n",
       "      <td>直飞</td>\n",
       "      <td>17:45-20:35</td>\n",
       "    </tr>\n",
       "    <tr>\n",
       "      <th>4</th>\n",
       "      <td>广州</td>\n",
       "      <td>天津</td>\n",
       "      <td>1608.0</td>\n",
       "      <td>422.0</td>\n",
       "      <td>广州-天津3天2晚 | 入住天津逸海明珠大酒店 + 奥凯航空/海南航空往返机票</td>\n",
       "      <td>天津逸海明珠大酒店 高档型 4.1分/5分</td>\n",
       "      <td>豪华双床房(预付) 双床 不含早 1间2晚</td>\n",
       "      <td>奥凯航空 BK2787</td>\n",
       "      <td>直飞</td>\n",
       "      <td>06:55-10:00</td>\n",
       "      <td>海南航空 HU7201</td>\n",
       "      <td>直飞</td>\n",
       "      <td>20:15-23:25</td>\n",
       "    </tr>\n",
       "    <tr>\n",
       "      <th>...</th>\n",
       "      <td>...</td>\n",
       "      <td>...</td>\n",
       "      <td>...</td>\n",
       "      <td>...</td>\n",
       "      <td>...</td>\n",
       "      <td>...</td>\n",
       "      <td>...</td>\n",
       "      <td>...</td>\n",
       "      <td>...</td>\n",
       "      <td>...</td>\n",
       "      <td>...</td>\n",
       "      <td>...</td>\n",
       "      <td>...</td>\n",
       "    </tr>\n",
       "    <tr>\n",
       "      <th>5094</th>\n",
       "      <td>大连</td>\n",
       "      <td>武汉</td>\n",
       "      <td>1473.0</td>\n",
       "      <td>368.0</td>\n",
       "      <td>大连-武汉3天2晚 | 入住武汉保利大酒店 + 南方航空/东方航空往返机票</td>\n",
       "      <td>武汉保利大酒店 豪华型 4.3分/5分</td>\n",
       "      <td>附楼标准间（双床） 双床 双早 1间2晚</td>\n",
       "      <td>南方航空 CZ8306</td>\n",
       "      <td>直飞</td>\n",
       "      <td>18:35-21:10</td>\n",
       "      <td>东方航空 MU2517</td>\n",
       "      <td>经停</td>\n",
       "      <td>07:40-12:05</td>\n",
       "    </tr>\n",
       "    <tr>\n",
       "      <th>5096</th>\n",
       "      <td>成都</td>\n",
       "      <td>泸沽湖</td>\n",
       "      <td>1158.0</td>\n",
       "      <td>376.0</td>\n",
       "      <td>成都-泸沽湖3天2晚 | 入住丽江望月阁客栈 + 成都航空往返机票</td>\n",
       "      <td>丽江望月阁客栈 经济型 4.6分/5分</td>\n",
       "      <td>标准双人间-不含早（预... 双床 不含早 1间2晚</td>\n",
       "      <td>成都航空 EU2237</td>\n",
       "      <td>直飞</td>\n",
       "      <td>19:45-21:20</td>\n",
       "      <td>成都航空 EU2738</td>\n",
       "      <td>直飞</td>\n",
       "      <td>23:30-01:05</td>\n",
       "    </tr>\n",
       "    <tr>\n",
       "      <th>5097</th>\n",
       "      <td>天津</td>\n",
       "      <td>丽江</td>\n",
       "      <td>1616.0</td>\n",
       "      <td>426.0</td>\n",
       "      <td>天津-丽江3天2晚 | 入住丽江凡间度假连锁客栈青旅店 + 天津航空/首都航空往...</td>\n",
       "      <td>丽江凡间度假连锁客栈青旅店 经济型 4.5分/5分</td>\n",
       "      <td>大床房-预付 大床 不含早 1间2晚</td>\n",
       "      <td>天津航空 GS7861</td>\n",
       "      <td>直飞</td>\n",
       "      <td>16:25-19:45</td>\n",
       "      <td>首都航空 JD5739</td>\n",
       "      <td>直飞</td>\n",
       "      <td>07:50-10:50</td>\n",
       "    </tr>\n",
       "    <tr>\n",
       "      <th>5098</th>\n",
       "      <td>大连</td>\n",
       "      <td>重庆</td>\n",
       "      <td>1703.0</td>\n",
       "      <td>446.0</td>\n",
       "      <td>大连-重庆3天2晚 | 入住重庆酉阳锦宏大酒店 + 华夏航空/山东航空往返机票</td>\n",
       "      <td>重庆酉阳锦宏大酒店 舒适型 4.0分/5分</td>\n",
       "      <td>特惠房(大床) 大床 不含早 1间2晚</td>\n",
       "      <td>华夏航空 G52762</td>\n",
       "      <td>经停</td>\n",
       "      <td>18:25-23:30</td>\n",
       "      <td>山东航空 SC4837</td>\n",
       "      <td>经停</td>\n",
       "      <td>07:00-11:30</td>\n",
       "    </tr>\n",
       "    <tr>\n",
       "      <th>5099</th>\n",
       "      <td>天津</td>\n",
       "      <td>哈尔滨</td>\n",
       "      <td>1192.0</td>\n",
       "      <td>356.0</td>\n",
       "      <td>天津-哈尔滨3天2晚 | 入住哈尔滨钰轩酒店中央大街店 + 奥凯航空/福州往返机票</td>\n",
       "      <td>哈尔滨钰轩酒店中央大街店 舒适型 4.0分/5分</td>\n",
       "      <td>标准大床房 大床 大床 双早 1间2晚</td>\n",
       "      <td>奥凯航空 BK2918</td>\n",
       "      <td>直飞</td>\n",
       "      <td>21:10-23:25</td>\n",
       "      <td>福州 FU6556</td>\n",
       "      <td>直飞</td>\n",
       "      <td>11:35-13:45</td>\n",
       "    </tr>\n",
       "  </tbody>\n",
       "</table>\n",
       "<p>5000 rows × 13 columns</p>\n",
       "</div>"
      ],
      "text/plain": [
       "      出发地  目的地      价格     节省                                          路线名  \\\n",
       "0     哈尔滨   北海  2208.0  650.0         哈尔滨-北海3天2晚 | 入住北海祥丰嘉年华大酒店 + 春秋航空往返机票   \n",
       "1      成都  泸沽湖  1145.0  376.0        成都-泸沽湖3天2晚 | 入住7天酒店丽江古城中心店 + 成都航空往返机票   \n",
       "2      广州   沈阳  2702.0  618.0         广州-沈阳3天2晚 | 入住沈阳中煤宾馆 + 南方航空/深圳航空往返机票   \n",
       "3      上海  九寨沟  1954.0  484.0            上海-九寨沟3天2晚 | 入住红原芸谊大酒店 + 成都航空往返机票   \n",
       "4      广州   天津  1608.0  422.0      广州-天津3天2晚 | 入住天津逸海明珠大酒店 + 奥凯航空/海南航空往返机票   \n",
       "...   ...  ...     ...    ...                                          ...   \n",
       "5094   大连   武汉  1473.0  368.0        大连-武汉3天2晚 | 入住武汉保利大酒店 + 南方航空/东方航空往返机票   \n",
       "5096   成都  泸沽湖  1158.0  376.0            成都-泸沽湖3天2晚 | 入住丽江望月阁客栈 + 成都航空往返机票   \n",
       "5097   天津   丽江  1616.0  426.0  天津-丽江3天2晚 | 入住丽江凡间度假连锁客栈青旅店 + 天津航空/首都航空往...   \n",
       "5098   大连   重庆  1703.0  446.0      大连-重庆3天2晚 | 入住重庆酉阳锦宏大酒店 + 华夏航空/山东航空往返机票   \n",
       "5099   天津  哈尔滨  1192.0  356.0    天津-哈尔滨3天2晚 | 入住哈尔滨钰轩酒店中央大街店 + 奥凯航空/福州往返机票   \n",
       "\n",
       "                             酒店                          房间         去程航司 去程方式  \\\n",
       "0        北海祥丰嘉年华大酒店 舒适型 4.7分/5分       标准双人间(双床) 双床 不含早 1间2晚  春秋航空 9C8741   直飞   \n",
       "1       7天酒店丽江古城中心店 经济型 4.0分/5分  经济房-不含早-限时特... 其他 不含早 1间2晚  成都航空 EU2237   直飞   \n",
       "2            沈阳中煤宾馆 舒适型 4.5分/5分          大床间(内宾) 大床 双早 1间2晚  南方航空 CZ6384   直飞   \n",
       "3           红原芸谊大酒店 舒适型 4.6分/5分        豪华双床房[双早] 双床 双早 1间2晚  成都航空 EU6678   直飞   \n",
       "4         天津逸海明珠大酒店 高档型 4.1分/5分       豪华双床房(预付) 双床 不含早 1间2晚  奥凯航空 BK2787   直飞   \n",
       "...                         ...                         ...          ...  ...   \n",
       "5094        武汉保利大酒店 豪华型 4.3分/5分        附楼标准间（双床） 双床 双早 1间2晚  南方航空 CZ8306   直飞   \n",
       "5096        丽江望月阁客栈 经济型 4.6分/5分  标准双人间-不含早（预... 双床 不含早 1间2晚  成都航空 EU2237   直飞   \n",
       "5097  丽江凡间度假连锁客栈青旅店 经济型 4.5分/5分          大床房-预付 大床 不含早 1间2晚  天津航空 GS7861   直飞   \n",
       "5098      重庆酉阳锦宏大酒店 舒适型 4.0分/5分         特惠房(大床) 大床 不含早 1间2晚  华夏航空 G52762   经停   \n",
       "5099   哈尔滨钰轩酒店中央大街店 舒适型 4.0分/5分         标准大床房 大床 大床 双早 1间2晚  奥凯航空 BK2918   直飞   \n",
       "\n",
       "             去程时间         回程航司 回程方式         回程时间  \n",
       "0     17:10-21:50  春秋航空 9C8742   直飞  10:20-15:05  \n",
       "1     19:45-21:20  成都航空 EU2738   直飞  23:30-01:05  \n",
       "2     08:05-11:45  深圳航空 ZH9652   经停  08:20-13:05  \n",
       "3     21:55-01:15  成都航空 EU6677   直飞  17:45-20:35  \n",
       "4     06:55-10:00  海南航空 HU7201   直飞  20:15-23:25  \n",
       "...           ...          ...  ...          ...  \n",
       "5094  18:35-21:10  东方航空 MU2517   经停  07:40-12:05  \n",
       "5096  19:45-21:20  成都航空 EU2738   直飞  23:30-01:05  \n",
       "5097  16:25-19:45  首都航空 JD5739   直飞  07:50-10:50  \n",
       "5098  18:25-23:30  山东航空 SC4837   经停  07:00-11:30  \n",
       "5099  21:10-23:25    福州 FU6556   直飞  11:35-13:45  \n",
       "\n",
       "[5000 rows x 13 columns]"
      ]
     },
     "execution_count": 22,
     "metadata": {},
     "output_type": "execute_result"
    }
   ],
   "source": [
    "df"
   ]
  },
  {
   "cell_type": "code",
   "execution_count": 23,
   "metadata": {},
   "outputs": [
    {
     "data": {
      "text/plain": [
       "5000"
      ]
     },
     "execution_count": 23,
     "metadata": {},
     "output_type": "execute_result"
    }
   ],
   "source": [
    "df.shape[0]"
   ]
  },
  {
   "cell_type": "code",
   "execution_count": 24,
   "metadata": {},
   "outputs": [
    {
     "data": {
      "text/plain": [
       "range(0, 5000)"
      ]
     },
     "execution_count": 24,
     "metadata": {},
     "output_type": "execute_result"
    }
   ],
   "source": [
    "range(df.shape[0])"
   ]
  },
  {
   "cell_type": "code",
   "execution_count": 25,
   "metadata": {},
   "outputs": [],
   "source": [
    "df.index = range(df.shape[0])"
   ]
  },
  {
   "cell_type": "code",
   "execution_count": 26,
   "metadata": {},
   "outputs": [
    {
     "data": {
      "text/plain": [
       "RangeIndex(start=0, stop=5000, step=1)"
      ]
     },
     "execution_count": 26,
     "metadata": {},
     "output_type": "execute_result"
    }
   ],
   "source": [
    "df.index"
   ]
  },
  {
   "cell_type": "markdown",
   "metadata": {},
   "source": [
    "### 6.异常值的处理"
   ]
  },
  {
   "cell_type": "code",
   "execution_count": 27,
   "metadata": {},
   "outputs": [
    {
     "data": {
      "text/html": [
       "<div>\n",
       "<style scoped>\n",
       "    .dataframe tbody tr th:only-of-type {\n",
       "        vertical-align: middle;\n",
       "    }\n",
       "\n",
       "    .dataframe tbody tr th {\n",
       "        vertical-align: top;\n",
       "    }\n",
       "\n",
       "    .dataframe thead th {\n",
       "        text-align: right;\n",
       "    }\n",
       "</style>\n",
       "<table border=\"1\" class=\"dataframe\">\n",
       "  <thead>\n",
       "    <tr style=\"text-align: right;\">\n",
       "      <th></th>\n",
       "      <th>count</th>\n",
       "      <th>mean</th>\n",
       "      <th>std</th>\n",
       "      <th>min</th>\n",
       "      <th>25%</th>\n",
       "      <th>50%</th>\n",
       "      <th>75%</th>\n",
       "      <th>max</th>\n",
       "    </tr>\n",
       "  </thead>\n",
       "  <tbody>\n",
       "    <tr>\n",
       "      <th>价格</th>\n",
       "      <td>4972.0</td>\n",
       "      <td>1767.782381</td>\n",
       "      <td>2604.329780</td>\n",
       "      <td>578.0</td>\n",
       "      <td>1253.0</td>\n",
       "      <td>1633.0</td>\n",
       "      <td>2031.0</td>\n",
       "      <td>179500.0</td>\n",
       "    </tr>\n",
       "    <tr>\n",
       "      <th>节省</th>\n",
       "      <td>4983.0</td>\n",
       "      <td>474.490869</td>\n",
       "      <td>169.148391</td>\n",
       "      <td>306.0</td>\n",
       "      <td>358.0</td>\n",
       "      <td>436.0</td>\n",
       "      <td>532.0</td>\n",
       "      <td>3500.0</td>\n",
       "    </tr>\n",
       "  </tbody>\n",
       "</table>\n",
       "</div>"
      ],
      "text/plain": [
       "     count         mean          std    min     25%     50%     75%       max\n",
       "价格  4972.0  1767.782381  2604.329780  578.0  1253.0  1633.0  2031.0  179500.0\n",
       "节省  4983.0   474.490869   169.148391  306.0   358.0   436.0   532.0    3500.0"
      ]
     },
     "execution_count": 27,
     "metadata": {},
     "output_type": "execute_result"
    }
   ],
   "source": [
    "df.describe().T"
   ]
  },
  {
   "cell_type": "code",
   "execution_count": 28,
   "metadata": {},
   "outputs": [],
   "source": [
    "#找出'价格'异常值\n",
    "sta=(df['价格']-df['价格'].mean())/df['价格'].std()"
   ]
  },
  {
   "cell_type": "code",
   "execution_count": 29,
   "metadata": {},
   "outputs": [
    {
     "data": {
      "text/plain": [
       "0    0.169033\n",
       "1   -0.239133\n",
       "2    0.358717\n",
       "3    0.071503\n",
       "4   -0.061353\n",
       "5   -0.072104\n",
       "6   -0.054825\n",
       "7   -0.036394\n",
       "8   -0.229534\n",
       "9   -0.175393\n",
       "Name: 价格, dtype: float64"
      ]
     },
     "execution_count": 29,
     "metadata": {},
     "output_type": "execute_result"
    }
   ],
   "source": [
    "sta[:10]"
   ]
  },
  {
   "cell_type": "code",
   "execution_count": 30,
   "metadata": {},
   "outputs": [
    {
     "data": {
      "text/plain": [
       "0    0.169033\n",
       "1    0.239133\n",
       "2    0.358717\n",
       "3    0.071503\n",
       "4    0.061353\n",
       "5    0.072104\n",
       "6    0.054825\n",
       "7    0.036394\n",
       "8    0.229534\n",
       "9    0.175393\n",
       "Name: 价格, dtype: float64"
      ]
     },
     "execution_count": 30,
     "metadata": {},
     "output_type": "execute_result"
    }
   ],
   "source": [
    "sta.abs()[:10]"
   ]
  },
  {
   "cell_type": "code",
   "execution_count": 31,
   "metadata": {},
   "outputs": [
    {
     "data": {
      "text/plain": [
       "0       False\n",
       "1       False\n",
       "2       False\n",
       "3       False\n",
       "4       False\n",
       "        ...  \n",
       "4995    False\n",
       "4996    False\n",
       "4997    False\n",
       "4998    False\n",
       "4999    False\n",
       "Name: 价格, Length: 5000, dtype: bool"
      ]
     },
     "execution_count": 31,
     "metadata": {},
     "output_type": "execute_result"
    }
   ],
   "source": [
    "sta.abs()>3"
   ]
  },
  {
   "cell_type": "code",
   "execution_count": 32,
   "metadata": {},
   "outputs": [
    {
     "data": {
      "text/html": [
       "<div>\n",
       "<style scoped>\n",
       "    .dataframe tbody tr th:only-of-type {\n",
       "        vertical-align: middle;\n",
       "    }\n",
       "\n",
       "    .dataframe tbody tr th {\n",
       "        vertical-align: top;\n",
       "    }\n",
       "\n",
       "    .dataframe thead th {\n",
       "        text-align: right;\n",
       "    }\n",
       "</style>\n",
       "<table border=\"1\" class=\"dataframe\">\n",
       "  <thead>\n",
       "    <tr style=\"text-align: right;\">\n",
       "      <th></th>\n",
       "      <th>出发地</th>\n",
       "      <th>目的地</th>\n",
       "      <th>价格</th>\n",
       "      <th>节省</th>\n",
       "      <th>路线名</th>\n",
       "      <th>酒店</th>\n",
       "      <th>房间</th>\n",
       "      <th>去程航司</th>\n",
       "      <th>去程方式</th>\n",
       "      <th>去程时间</th>\n",
       "      <th>回程航司</th>\n",
       "      <th>回程方式</th>\n",
       "      <th>回程时间</th>\n",
       "    </tr>\n",
       "  </thead>\n",
       "  <tbody>\n",
       "    <tr>\n",
       "      <th>2763</th>\n",
       "      <td>杭州</td>\n",
       "      <td>九寨沟</td>\n",
       "      <td>179500.0</td>\n",
       "      <td>538.0</td>\n",
       "      <td>杭州-九寨沟3天2晚 | 入住九寨沟九乡宾馆 + 成都航空/长龙航空往返机票</td>\n",
       "      <td>九寨沟九乡宾馆 舒适型 4.3分/5分</td>\n",
       "      <td>特惠房(双床) 双床 不含早 1间2晚</td>\n",
       "      <td>成都航空 EU2206</td>\n",
       "      <td>经停</td>\n",
       "      <td>20:30-01:00</td>\n",
       "      <td>长龙航空 GJ8680</td>\n",
       "      <td>经停</td>\n",
       "      <td>20:25-00:50</td>\n",
       "    </tr>\n",
       "  </tbody>\n",
       "</table>\n",
       "</div>"
      ],
      "text/plain": [
       "     出发地  目的地        价格     节省                                     路线名  \\\n",
       "2763  杭州  九寨沟  179500.0  538.0  杭州-九寨沟3天2晚 | 入住九寨沟九乡宾馆 + 成都航空/长龙航空往返机票   \n",
       "\n",
       "                       酒店                   房间         去程航司 去程方式         去程时间  \\\n",
       "2763  九寨沟九乡宾馆 舒适型 4.3分/5分  特惠房(双床) 双床 不含早 1间2晚  成都航空 EU2206   经停  20:30-01:00   \n",
       "\n",
       "             回程航司 回程方式         回程时间  \n",
       "2763  长龙航空 GJ8680   经停  20:25-00:50  "
      ]
     },
     "execution_count": 32,
     "metadata": {},
     "output_type": "execute_result"
    }
   ],
   "source": [
    "df[sta.abs()>3]"
   ]
  },
  {
   "cell_type": "code",
   "execution_count": 33,
   "metadata": {},
   "outputs": [
    {
     "data": {
      "text/html": [
       "<div>\n",
       "<style scoped>\n",
       "    .dataframe tbody tr th:only-of-type {\n",
       "        vertical-align: middle;\n",
       "    }\n",
       "\n",
       "    .dataframe tbody tr th {\n",
       "        vertical-align: top;\n",
       "    }\n",
       "\n",
       "    .dataframe thead th {\n",
       "        text-align: right;\n",
       "    }\n",
       "</style>\n",
       "<table border=\"1\" class=\"dataframe\">\n",
       "  <thead>\n",
       "    <tr style=\"text-align: right;\">\n",
       "      <th></th>\n",
       "      <th>出发地</th>\n",
       "      <th>目的地</th>\n",
       "      <th>价格</th>\n",
       "      <th>节省</th>\n",
       "      <th>路线名</th>\n",
       "      <th>酒店</th>\n",
       "      <th>房间</th>\n",
       "      <th>去程航司</th>\n",
       "      <th>去程方式</th>\n",
       "      <th>去程时间</th>\n",
       "      <th>回程航司</th>\n",
       "      <th>回程方式</th>\n",
       "      <th>回程时间</th>\n",
       "    </tr>\n",
       "  </thead>\n",
       "  <tbody>\n",
       "    <tr>\n",
       "      <th>0</th>\n",
       "      <td>哈尔滨</td>\n",
       "      <td>北海</td>\n",
       "      <td>2208.0</td>\n",
       "      <td>650.0</td>\n",
       "      <td>哈尔滨-北海3天2晚 | 入住北海祥丰嘉年华大酒店 + 春秋航空往返机票</td>\n",
       "      <td>北海祥丰嘉年华大酒店 舒适型 4.7分/5分</td>\n",
       "      <td>标准双人间(双床) 双床 不含早 1间2晚</td>\n",
       "      <td>春秋航空 9C8741</td>\n",
       "      <td>直飞</td>\n",
       "      <td>17:10-21:50</td>\n",
       "      <td>春秋航空 9C8742</td>\n",
       "      <td>直飞</td>\n",
       "      <td>10:20-15:05</td>\n",
       "    </tr>\n",
       "    <tr>\n",
       "      <th>1</th>\n",
       "      <td>成都</td>\n",
       "      <td>泸沽湖</td>\n",
       "      <td>1145.0</td>\n",
       "      <td>376.0</td>\n",
       "      <td>成都-泸沽湖3天2晚 | 入住7天酒店丽江古城中心店 + 成都航空往返机票</td>\n",
       "      <td>7天酒店丽江古城中心店 经济型 4.0分/5分</td>\n",
       "      <td>经济房-不含早-限时特... 其他 不含早 1间2晚</td>\n",
       "      <td>成都航空 EU2237</td>\n",
       "      <td>直飞</td>\n",
       "      <td>19:45-21:20</td>\n",
       "      <td>成都航空 EU2738</td>\n",
       "      <td>直飞</td>\n",
       "      <td>23:30-01:05</td>\n",
       "    </tr>\n",
       "    <tr>\n",
       "      <th>2</th>\n",
       "      <td>广州</td>\n",
       "      <td>沈阳</td>\n",
       "      <td>2702.0</td>\n",
       "      <td>618.0</td>\n",
       "      <td>广州-沈阳3天2晚 | 入住沈阳中煤宾馆 + 南方航空/深圳航空往返机票</td>\n",
       "      <td>沈阳中煤宾馆 舒适型 4.5分/5分</td>\n",
       "      <td>大床间(内宾) 大床 双早 1间2晚</td>\n",
       "      <td>南方航空 CZ6384</td>\n",
       "      <td>直飞</td>\n",
       "      <td>08:05-11:45</td>\n",
       "      <td>深圳航空 ZH9652</td>\n",
       "      <td>经停</td>\n",
       "      <td>08:20-13:05</td>\n",
       "    </tr>\n",
       "    <tr>\n",
       "      <th>3</th>\n",
       "      <td>上海</td>\n",
       "      <td>九寨沟</td>\n",
       "      <td>1954.0</td>\n",
       "      <td>484.0</td>\n",
       "      <td>上海-九寨沟3天2晚 | 入住红原芸谊大酒店 + 成都航空往返机票</td>\n",
       "      <td>红原芸谊大酒店 舒适型 4.6分/5分</td>\n",
       "      <td>豪华双床房[双早] 双床 双早 1间2晚</td>\n",
       "      <td>成都航空 EU6678</td>\n",
       "      <td>直飞</td>\n",
       "      <td>21:55-01:15</td>\n",
       "      <td>成都航空 EU6677</td>\n",
       "      <td>直飞</td>\n",
       "      <td>17:45-20:35</td>\n",
       "    </tr>\n",
       "    <tr>\n",
       "      <th>4</th>\n",
       "      <td>广州</td>\n",
       "      <td>天津</td>\n",
       "      <td>1608.0</td>\n",
       "      <td>422.0</td>\n",
       "      <td>广州-天津3天2晚 | 入住天津逸海明珠大酒店 + 奥凯航空/海南航空往返机票</td>\n",
       "      <td>天津逸海明珠大酒店 高档型 4.1分/5分</td>\n",
       "      <td>豪华双床房(预付) 双床 不含早 1间2晚</td>\n",
       "      <td>奥凯航空 BK2787</td>\n",
       "      <td>直飞</td>\n",
       "      <td>06:55-10:00</td>\n",
       "      <td>海南航空 HU7201</td>\n",
       "      <td>直飞</td>\n",
       "      <td>20:15-23:25</td>\n",
       "    </tr>\n",
       "    <tr>\n",
       "      <th>5</th>\n",
       "      <td>长春</td>\n",
       "      <td>青岛</td>\n",
       "      <td>1580.0</td>\n",
       "      <td>390.0</td>\n",
       "      <td>长春-青岛3天2晚 | 入住青岛康大豪生大酒店 + 南方航空往返机票</td>\n",
       "      <td>青岛康大豪生大酒店 豪华型 4.6分/5分</td>\n",
       "      <td>精选房(大床)[酒店★... 大床 不含早 1间2晚</td>\n",
       "      <td>南方航空 CZ3938</td>\n",
       "      <td>直飞</td>\n",
       "      <td>20:00-21:55</td>\n",
       "      <td>南方航空 CZ3963</td>\n",
       "      <td>直飞</td>\n",
       "      <td>15:40-17:30</td>\n",
       "    </tr>\n",
       "    <tr>\n",
       "      <th>6</th>\n",
       "      <td>济南</td>\n",
       "      <td>九寨沟</td>\n",
       "      <td>1625.0</td>\n",
       "      <td>396.0</td>\n",
       "      <td>济南-九寨沟3天2晚 | 入住阿坝松潘松林酒店 + 中国国航/成都航空往返机票</td>\n",
       "      <td>阿坝松潘松林酒店 舒适型 4.3分/5分</td>\n",
       "      <td>豪华标准间(双床) 双床 不含早 1间2晚</td>\n",
       "      <td>中国国航 CA4528</td>\n",
       "      <td>直飞</td>\n",
       "      <td>21:00-23:30</td>\n",
       "      <td>成都航空 EU2719</td>\n",
       "      <td>直飞</td>\n",
       "      <td>06:55-09:25</td>\n",
       "    </tr>\n",
       "    <tr>\n",
       "      <th>7</th>\n",
       "      <td>宁波</td>\n",
       "      <td>重庆</td>\n",
       "      <td>1673.0</td>\n",
       "      <td>404.0</td>\n",
       "      <td>宁波-重庆3天2晚 | 入住重庆运通假日酒店汽博中心店 + 南方航空/四川航空往...</td>\n",
       "      <td>重庆运通假日酒店汽博中心店 舒适型 4.3分/5分</td>\n",
       "      <td>特惠房(大床) 大床 双早 1间2晚</td>\n",
       "      <td>南方航空 CZ8116</td>\n",
       "      <td>直飞</td>\n",
       "      <td>17:15-19:40</td>\n",
       "      <td>四川航空 3U8983</td>\n",
       "      <td>直飞</td>\n",
       "      <td>06:55-09:35</td>\n",
       "    </tr>\n",
       "    <tr>\n",
       "      <th>8</th>\n",
       "      <td>哈尔滨</td>\n",
       "      <td>南京</td>\n",
       "      <td>1170.0</td>\n",
       "      <td>340.0</td>\n",
       "      <td>哈尔滨-南京3天2晚 | 入住维也纳酒店南京南站汇景店 + 吉祥航空/厦门航空往...</td>\n",
       "      <td>维也纳酒店南京南站汇景店 舒适型 4.4分/5分</td>\n",
       "      <td>特惠大床房（无窗）[双... 大床 双早 1间2晚</td>\n",
       "      <td>吉祥航空 HO1651</td>\n",
       "      <td>直飞</td>\n",
       "      <td>17:10-20:00</td>\n",
       "      <td>厦门航空 MF8067</td>\n",
       "      <td>直飞</td>\n",
       "      <td>19:40-22:25</td>\n",
       "    </tr>\n",
       "    <tr>\n",
       "      <th>9</th>\n",
       "      <td>深圳</td>\n",
       "      <td>厦门</td>\n",
       "      <td>1311.0</td>\n",
       "      <td>350.0</td>\n",
       "      <td>深圳-厦门3天2晚 | 入住厦门泊旅时尚酒店会展中心店 + 海南航空往返机票</td>\n",
       "      <td>厦门泊旅时尚酒店会展中心店 舒适型 4.0分/5分</td>\n",
       "      <td>时尚标准双床房 双床 双早 1间2晚</td>\n",
       "      <td>海南航空 HU7065</td>\n",
       "      <td>直飞</td>\n",
       "      <td>07:30-08:40</td>\n",
       "      <td>海南航空 HU7066</td>\n",
       "      <td>直飞</td>\n",
       "      <td>15:30-16:40</td>\n",
       "    </tr>\n",
       "  </tbody>\n",
       "</table>\n",
       "</div>"
      ],
      "text/plain": [
       "   出发地  目的地      价格     节省                                          路线名  \\\n",
       "0  哈尔滨   北海  2208.0  650.0         哈尔滨-北海3天2晚 | 入住北海祥丰嘉年华大酒店 + 春秋航空往返机票   \n",
       "1   成都  泸沽湖  1145.0  376.0        成都-泸沽湖3天2晚 | 入住7天酒店丽江古城中心店 + 成都航空往返机票   \n",
       "2   广州   沈阳  2702.0  618.0         广州-沈阳3天2晚 | 入住沈阳中煤宾馆 + 南方航空/深圳航空往返机票   \n",
       "3   上海  九寨沟  1954.0  484.0            上海-九寨沟3天2晚 | 入住红原芸谊大酒店 + 成都航空往返机票   \n",
       "4   广州   天津  1608.0  422.0      广州-天津3天2晚 | 入住天津逸海明珠大酒店 + 奥凯航空/海南航空往返机票   \n",
       "5   长春   青岛  1580.0  390.0           长春-青岛3天2晚 | 入住青岛康大豪生大酒店 + 南方航空往返机票   \n",
       "6   济南  九寨沟  1625.0  396.0      济南-九寨沟3天2晚 | 入住阿坝松潘松林酒店 + 中国国航/成都航空往返机票   \n",
       "7   宁波   重庆  1673.0  404.0  宁波-重庆3天2晚 | 入住重庆运通假日酒店汽博中心店 + 南方航空/四川航空往...   \n",
       "8  哈尔滨   南京  1170.0  340.0  哈尔滨-南京3天2晚 | 入住维也纳酒店南京南站汇景店 + 吉祥航空/厦门航空往...   \n",
       "9   深圳   厦门  1311.0  350.0       深圳-厦门3天2晚 | 入住厦门泊旅时尚酒店会展中心店 + 海南航空往返机票   \n",
       "\n",
       "                          酒店                          房间         去程航司 去程方式  \\\n",
       "0     北海祥丰嘉年华大酒店 舒适型 4.7分/5分       标准双人间(双床) 双床 不含早 1间2晚  春秋航空 9C8741   直飞   \n",
       "1    7天酒店丽江古城中心店 经济型 4.0分/5分  经济房-不含早-限时特... 其他 不含早 1间2晚  成都航空 EU2237   直飞   \n",
       "2         沈阳中煤宾馆 舒适型 4.5分/5分          大床间(内宾) 大床 双早 1间2晚  南方航空 CZ6384   直飞   \n",
       "3        红原芸谊大酒店 舒适型 4.6分/5分        豪华双床房[双早] 双床 双早 1间2晚  成都航空 EU6678   直飞   \n",
       "4      天津逸海明珠大酒店 高档型 4.1分/5分       豪华双床房(预付) 双床 不含早 1间2晚  奥凯航空 BK2787   直飞   \n",
       "5      青岛康大豪生大酒店 豪华型 4.6分/5分  精选房(大床)[酒店★... 大床 不含早 1间2晚  南方航空 CZ3938   直飞   \n",
       "6       阿坝松潘松林酒店 舒适型 4.3分/5分       豪华标准间(双床) 双床 不含早 1间2晚  中国国航 CA4528   直飞   \n",
       "7  重庆运通假日酒店汽博中心店 舒适型 4.3分/5分          特惠房(大床) 大床 双早 1间2晚  南方航空 CZ8116   直飞   \n",
       "8   维也纳酒店南京南站汇景店 舒适型 4.4分/5分   特惠大床房（无窗）[双... 大床 双早 1间2晚  吉祥航空 HO1651   直飞   \n",
       "9  厦门泊旅时尚酒店会展中心店 舒适型 4.0分/5分          时尚标准双床房 双床 双早 1间2晚  海南航空 HU7065   直飞   \n",
       "\n",
       "          去程时间         回程航司 回程方式         回程时间  \n",
       "0  17:10-21:50  春秋航空 9C8742   直飞  10:20-15:05  \n",
       "1  19:45-21:20  成都航空 EU2738   直飞  23:30-01:05  \n",
       "2  08:05-11:45  深圳航空 ZH9652   经停  08:20-13:05  \n",
       "3  21:55-01:15  成都航空 EU6677   直飞  17:45-20:35  \n",
       "4  06:55-10:00  海南航空 HU7201   直飞  20:15-23:25  \n",
       "5  20:00-21:55  南方航空 CZ3963   直飞  15:40-17:30  \n",
       "6  21:00-23:30  成都航空 EU2719   直飞  06:55-09:25  \n",
       "7  17:15-19:40  四川航空 3U8983   直飞  06:55-09:35  \n",
       "8  17:10-20:00  厦门航空 MF8067   直飞  19:40-22:25  \n",
       "9  07:30-08:40  海南航空 HU7066   直飞  15:30-16:40  "
      ]
     },
     "execution_count": 33,
     "metadata": {},
     "output_type": "execute_result"
    }
   ],
   "source": [
    "df.head(10)"
   ]
  },
  {
   "cell_type": "code",
   "execution_count": 34,
   "metadata": {},
   "outputs": [
    {
     "data": {
      "text/plain": [
       "4952"
      ]
     },
     "execution_count": 34,
     "metadata": {},
     "output_type": "execute_result"
    }
   ],
   "source": [
    "sum(df.价格>df.节省)"
   ]
  },
  {
   "cell_type": "code",
   "execution_count": 35,
   "metadata": {},
   "outputs": [
    {
     "data": {
      "text/html": [
       "<div>\n",
       "<style scoped>\n",
       "    .dataframe tbody tr th:only-of-type {\n",
       "        vertical-align: middle;\n",
       "    }\n",
       "\n",
       "    .dataframe tbody tr th {\n",
       "        vertical-align: top;\n",
       "    }\n",
       "\n",
       "    .dataframe thead th {\n",
       "        text-align: right;\n",
       "    }\n",
       "</style>\n",
       "<table border=\"1\" class=\"dataframe\">\n",
       "  <thead>\n",
       "    <tr style=\"text-align: right;\">\n",
       "      <th></th>\n",
       "      <th>出发地</th>\n",
       "      <th>目的地</th>\n",
       "      <th>价格</th>\n",
       "      <th>节省</th>\n",
       "      <th>路线名</th>\n",
       "      <th>酒店</th>\n",
       "      <th>房间</th>\n",
       "      <th>去程航司</th>\n",
       "      <th>去程方式</th>\n",
       "      <th>去程时间</th>\n",
       "      <th>回程航司</th>\n",
       "      <th>回程方式</th>\n",
       "      <th>回程时间</th>\n",
       "    </tr>\n",
       "  </thead>\n",
       "  <tbody>\n",
       "    <tr>\n",
       "      <th>2904</th>\n",
       "      <td>武汉</td>\n",
       "      <td>西安</td>\n",
       "      <td>949.0</td>\n",
       "      <td>3500.0</td>\n",
       "      <td>武汉-西安3天2晚 | 入住西安西稍门大酒店 + 东方航空往返机票</td>\n",
       "      <td>西安西稍门大酒店 舒适型 3.3分/5分</td>\n",
       "      <td>标准间B(丝路之旅)(... 双床 不含早 1间2晚</td>\n",
       "      <td>东方航空 MU2194</td>\n",
       "      <td>直飞</td>\n",
       "      <td>21:50-23:30</td>\n",
       "      <td>东方航空 MU2462</td>\n",
       "      <td>直飞</td>\n",
       "      <td>19:35-21:20</td>\n",
       "    </tr>\n",
       "    <tr>\n",
       "      <th>3108</th>\n",
       "      <td>济南</td>\n",
       "      <td>大连</td>\n",
       "      <td>911.0</td>\n",
       "      <td>3180.0</td>\n",
       "      <td>济南-大连3天2晚 | 入住普兰店科洋大酒店 + 山东航空/厦门航空往返机票</td>\n",
       "      <td>普兰店科洋大酒店 舒适型 4.4分/5分</td>\n",
       "      <td>大床房(限量促销) 大床 不含早 1间2晚</td>\n",
       "      <td>山东航空 SC4916</td>\n",
       "      <td>直飞</td>\n",
       "      <td>19:45-20:50</td>\n",
       "      <td>厦门航空 MF8042</td>\n",
       "      <td>直飞</td>\n",
       "      <td>13:10-14:20</td>\n",
       "    </tr>\n",
       "    <tr>\n",
       "      <th>3660</th>\n",
       "      <td>沈阳</td>\n",
       "      <td>青岛</td>\n",
       "      <td>924.0</td>\n",
       "      <td>3200.0</td>\n",
       "      <td>沈阳-青岛3天2晚 | 入住星程酒店青岛台东步行街店 + 青岛航/南方航空往返机票</td>\n",
       "      <td>星程酒店青岛台东步行街店 舒适型 4.2分/5分</td>\n",
       "      <td>大床房(内宾)(提前1... 大床 不含早 1间2晚</td>\n",
       "      <td>青岛航 QW9780</td>\n",
       "      <td>直飞</td>\n",
       "      <td>22:35-00:10</td>\n",
       "      <td>南方航空 CZ6568</td>\n",
       "      <td>直飞</td>\n",
       "      <td>20:55-22:35</td>\n",
       "    </tr>\n",
       "  </tbody>\n",
       "</table>\n",
       "</div>"
      ],
      "text/plain": [
       "     出发地 目的地     价格      节省                                        路线名  \\\n",
       "2904  武汉  西安  949.0  3500.0          武汉-西安3天2晚 | 入住西安西稍门大酒店 + 东方航空往返机票   \n",
       "3108  济南  大连  911.0  3180.0     济南-大连3天2晚 | 入住普兰店科洋大酒店 + 山东航空/厦门航空往返机票   \n",
       "3660  沈阳  青岛  924.0  3200.0  沈阳-青岛3天2晚 | 入住星程酒店青岛台东步行街店 + 青岛航/南方航空往返机票   \n",
       "\n",
       "                            酒店                          房间         去程航司 去程方式  \\\n",
       "2904      西安西稍门大酒店 舒适型 3.3分/5分  标准间B(丝路之旅)(... 双床 不含早 1间2晚  东方航空 MU2194   直飞   \n",
       "3108      普兰店科洋大酒店 舒适型 4.4分/5分       大床房(限量促销) 大床 不含早 1间2晚  山东航空 SC4916   直飞   \n",
       "3660  星程酒店青岛台东步行街店 舒适型 4.2分/5分  大床房(内宾)(提前1... 大床 不含早 1间2晚   青岛航 QW9780   直飞   \n",
       "\n",
       "             去程时间         回程航司 回程方式         回程时间  \n",
       "2904  21:50-23:30  东方航空 MU2462   直飞  19:35-21:20  \n",
       "3108  19:45-20:50  厦门航空 MF8042   直飞  13:10-14:20  \n",
       "3660  22:35-00:10  南方航空 CZ6568   直飞  20:55-22:35  "
      ]
     },
     "execution_count": 35,
     "metadata": {},
     "output_type": "execute_result"
    }
   ],
   "source": [
    "#找出'节省'异常值\n",
    "df[df.节省>df.价格]"
   ]
  },
  {
   "cell_type": "markdown",
   "metadata": {},
   "source": [
    "- 对于建模来说，通常会删掉异常值   \n",
    "- 但是对于业务来说，异常值中可能包含有更多的价值"
   ]
  },
  {
   "cell_type": "code",
   "execution_count": 36,
   "metadata": {},
   "outputs": [
    {
     "data": {
      "text/html": [
       "<div>\n",
       "<style scoped>\n",
       "    .dataframe tbody tr th:only-of-type {\n",
       "        vertical-align: middle;\n",
       "    }\n",
       "\n",
       "    .dataframe tbody tr th {\n",
       "        vertical-align: top;\n",
       "    }\n",
       "\n",
       "    .dataframe thead th {\n",
       "        text-align: right;\n",
       "    }\n",
       "</style>\n",
       "<table border=\"1\" class=\"dataframe\">\n",
       "  <thead>\n",
       "    <tr style=\"text-align: right;\">\n",
       "      <th></th>\n",
       "      <th>出发地</th>\n",
       "      <th>目的地</th>\n",
       "      <th>价格</th>\n",
       "      <th>节省</th>\n",
       "      <th>路线名</th>\n",
       "      <th>酒店</th>\n",
       "      <th>房间</th>\n",
       "      <th>去程航司</th>\n",
       "      <th>去程方式</th>\n",
       "      <th>去程时间</th>\n",
       "      <th>回程航司</th>\n",
       "      <th>回程方式</th>\n",
       "      <th>回程时间</th>\n",
       "    </tr>\n",
       "  </thead>\n",
       "  <tbody>\n",
       "    <tr>\n",
       "      <th>2904</th>\n",
       "      <td>武汉</td>\n",
       "      <td>西安</td>\n",
       "      <td>949.0</td>\n",
       "      <td>3500.0</td>\n",
       "      <td>武汉-西安3天2晚 | 入住西安西稍门大酒店 + 东方航空往返机票</td>\n",
       "      <td>西安西稍门大酒店 舒适型 3.3分/5分</td>\n",
       "      <td>标准间B(丝路之旅)(... 双床 不含早 1间2晚</td>\n",
       "      <td>东方航空 MU2194</td>\n",
       "      <td>直飞</td>\n",
       "      <td>21:50-23:30</td>\n",
       "      <td>东方航空 MU2462</td>\n",
       "      <td>直飞</td>\n",
       "      <td>19:35-21:20</td>\n",
       "    </tr>\n",
       "    <tr>\n",
       "      <th>3108</th>\n",
       "      <td>济南</td>\n",
       "      <td>大连</td>\n",
       "      <td>911.0</td>\n",
       "      <td>3180.0</td>\n",
       "      <td>济南-大连3天2晚 | 入住普兰店科洋大酒店 + 山东航空/厦门航空往返机票</td>\n",
       "      <td>普兰店科洋大酒店 舒适型 4.4分/5分</td>\n",
       "      <td>大床房(限量促销) 大床 不含早 1间2晚</td>\n",
       "      <td>山东航空 SC4916</td>\n",
       "      <td>直飞</td>\n",
       "      <td>19:45-20:50</td>\n",
       "      <td>厦门航空 MF8042</td>\n",
       "      <td>直飞</td>\n",
       "      <td>13:10-14:20</td>\n",
       "    </tr>\n",
       "    <tr>\n",
       "      <th>3660</th>\n",
       "      <td>沈阳</td>\n",
       "      <td>青岛</td>\n",
       "      <td>924.0</td>\n",
       "      <td>3200.0</td>\n",
       "      <td>沈阳-青岛3天2晚 | 入住星程酒店青岛台东步行街店 + 青岛航/南方航空往返机票</td>\n",
       "      <td>星程酒店青岛台东步行街店 舒适型 4.2分/5分</td>\n",
       "      <td>大床房(内宾)(提前1... 大床 不含早 1间2晚</td>\n",
       "      <td>青岛航 QW9780</td>\n",
       "      <td>直飞</td>\n",
       "      <td>22:35-00:10</td>\n",
       "      <td>南方航空 CZ6568</td>\n",
       "      <td>直飞</td>\n",
       "      <td>20:55-22:35</td>\n",
       "    </tr>\n",
       "    <tr>\n",
       "      <th>2763</th>\n",
       "      <td>杭州</td>\n",
       "      <td>九寨沟</td>\n",
       "      <td>179500.0</td>\n",
       "      <td>538.0</td>\n",
       "      <td>杭州-九寨沟3天2晚 | 入住九寨沟九乡宾馆 + 成都航空/长龙航空往返机票</td>\n",
       "      <td>九寨沟九乡宾馆 舒适型 4.3分/5分</td>\n",
       "      <td>特惠房(双床) 双床 不含早 1间2晚</td>\n",
       "      <td>成都航空 EU2206</td>\n",
       "      <td>经停</td>\n",
       "      <td>20:30-01:00</td>\n",
       "      <td>长龙航空 GJ8680</td>\n",
       "      <td>经停</td>\n",
       "      <td>20:25-00:50</td>\n",
       "    </tr>\n",
       "  </tbody>\n",
       "</table>\n",
       "</div>"
      ],
      "text/plain": [
       "     出发地  目的地        价格      节省                                        路线名  \\\n",
       "2904  武汉   西安     949.0  3500.0          武汉-西安3天2晚 | 入住西安西稍门大酒店 + 东方航空往返机票   \n",
       "3108  济南   大连     911.0  3180.0     济南-大连3天2晚 | 入住普兰店科洋大酒店 + 山东航空/厦门航空往返机票   \n",
       "3660  沈阳   青岛     924.0  3200.0  沈阳-青岛3天2晚 | 入住星程酒店青岛台东步行街店 + 青岛航/南方航空往返机票   \n",
       "2763  杭州  九寨沟  179500.0   538.0     杭州-九寨沟3天2晚 | 入住九寨沟九乡宾馆 + 成都航空/长龙航空往返机票   \n",
       "\n",
       "                            酒店                          房间         去程航司 去程方式  \\\n",
       "2904      西安西稍门大酒店 舒适型 3.3分/5分  标准间B(丝路之旅)(... 双床 不含早 1间2晚  东方航空 MU2194   直飞   \n",
       "3108      普兰店科洋大酒店 舒适型 4.4分/5分       大床房(限量促销) 大床 不含早 1间2晚  山东航空 SC4916   直飞   \n",
       "3660  星程酒店青岛台东步行街店 舒适型 4.2分/5分  大床房(内宾)(提前1... 大床 不含早 1间2晚   青岛航 QW9780   直飞   \n",
       "2763       九寨沟九乡宾馆 舒适型 4.3分/5分         特惠房(双床) 双床 不含早 1间2晚  成都航空 EU2206   经停   \n",
       "\n",
       "             去程时间         回程航司 回程方式         回程时间  \n",
       "2904  21:50-23:30  东方航空 MU2462   直飞  19:35-21:20  \n",
       "3108  19:45-20:50  厦门航空 MF8042   直飞  13:10-14:20  \n",
       "3660  22:35-00:10  南方航空 CZ6568   直飞  20:55-22:35  \n",
       "2763  20:30-01:00  长龙航空 GJ8680   经停  20:25-00:50  "
      ]
     },
     "execution_count": 36,
     "metadata": {},
     "output_type": "execute_result"
    }
   ],
   "source": [
    "pd.concat([df[df.节省>df.价格],df[sta.abs()>3]])"
   ]
  },
  {
   "cell_type": "code",
   "execution_count": 54,
   "metadata": {},
   "outputs": [
    {
     "data": {
      "text/plain": [
       "Int64Index([2904, 3108, 3660, 2763], dtype='int64')"
      ]
     },
     "execution_count": 54,
     "metadata": {},
     "output_type": "execute_result"
    }
   ],
   "source": [
    "pd.concat([df[df.节省>df.价格],df[sta.abs()>3]]).index"
   ]
  },
  {
   "cell_type": "code",
   "execution_count": 56,
   "metadata": {},
   "outputs": [],
   "source": [
    "delindex = pd.concat([df[df.节省>df.价格],df[sta.abs()>3]]).index"
   ]
  },
  {
   "cell_type": "code",
   "execution_count": 58,
   "metadata": {},
   "outputs": [],
   "source": [
    "df.drop(delindex,inplace=True)"
   ]
  },
  {
   "cell_type": "code",
   "execution_count": 59,
   "metadata": {},
   "outputs": [
    {
     "data": {
      "text/plain": [
       "(4996, 13)"
      ]
     },
     "execution_count": 59,
     "metadata": {},
     "output_type": "execute_result"
    }
   ],
   "source": [
    "df.shape"
   ]
  },
  {
   "cell_type": "markdown",
   "metadata": {},
   "source": [
    "### 7.缺失值的处理"
   ]
  },
  {
   "cell_type": "markdown",
   "metadata": {},
   "source": [
    "- df.isnull()  #查看缺失值\n",
    "- df.notnull() #查看不是缺失值的数据\n",
    "- df.dropna()  #删除缺失值\n",
    "- df.fillna()  #填补缺失值 "
   ]
  },
  {
   "cell_type": "code",
   "execution_count": 61,
   "metadata": {},
   "outputs": [
    {
     "data": {
      "text/plain": [
       "出发地      2\n",
       "目的地      1\n",
       "价格      28\n",
       "节省      17\n",
       "路线名      0\n",
       "酒店       0\n",
       "房间       0\n",
       "去程航司     0\n",
       "去程方式     0\n",
       "去程时间     0\n",
       "回程航司     0\n",
       "回程方式     0\n",
       "回程时间     0\n",
       "dtype: int64"
      ]
     },
     "execution_count": 61,
     "metadata": {},
     "output_type": "execute_result"
    }
   ],
   "source": [
    "df.isnull().sum()"
   ]
  },
  {
   "cell_type": "code",
   "execution_count": 62,
   "metadata": {},
   "outputs": [
    {
     "data": {
      "text/html": [
       "<div>\n",
       "<style scoped>\n",
       "    .dataframe tbody tr th:only-of-type {\n",
       "        vertical-align: middle;\n",
       "    }\n",
       "\n",
       "    .dataframe tbody tr th {\n",
       "        vertical-align: top;\n",
       "    }\n",
       "\n",
       "    .dataframe thead th {\n",
       "        text-align: right;\n",
       "    }\n",
       "</style>\n",
       "<table border=\"1\" class=\"dataframe\">\n",
       "  <thead>\n",
       "    <tr style=\"text-align: right;\">\n",
       "      <th></th>\n",
       "      <th>出发地</th>\n",
       "      <th>目的地</th>\n",
       "      <th>价格</th>\n",
       "      <th>节省</th>\n",
       "      <th>路线名</th>\n",
       "      <th>酒店</th>\n",
       "      <th>房间</th>\n",
       "      <th>去程航司</th>\n",
       "      <th>去程方式</th>\n",
       "      <th>去程时间</th>\n",
       "      <th>回程航司</th>\n",
       "      <th>回程方式</th>\n",
       "      <th>回程时间</th>\n",
       "    </tr>\n",
       "  </thead>\n",
       "  <tbody>\n",
       "    <tr>\n",
       "      <th>1850</th>\n",
       "      <td>NaN</td>\n",
       "      <td>烟台</td>\n",
       "      <td>647.0</td>\n",
       "      <td>348.0</td>\n",
       "      <td>大连-烟台3天2晚 | 入住烟台海阳黄金海岸大酒店 + 幸福航空/天津航空往返机票</td>\n",
       "      <td>烟台海阳黄金海岸大酒店 3.7分/5分</td>\n",
       "      <td>海景标准间(内宾)[双... 双床 双早 1间2晚</td>\n",
       "      <td>幸福航空 JR1582</td>\n",
       "      <td>直飞</td>\n",
       "      <td>10:05-11:05</td>\n",
       "      <td>天津航空 GS6402</td>\n",
       "      <td>直飞</td>\n",
       "      <td>16:30-17:25</td>\n",
       "    </tr>\n",
       "    <tr>\n",
       "      <th>1915</th>\n",
       "      <td>NaN</td>\n",
       "      <td>西安</td>\n",
       "      <td>1030.0</td>\n",
       "      <td>326.0</td>\n",
       "      <td>济南-西安3天2晚 | 入住西安丝路秦国际青年旅舍钟楼回民街店 + 华夏航空往返...</td>\n",
       "      <td>西安丝路秦国际青年旅舍钟楼回民街店 经济型 4.4分/5分</td>\n",
       "      <td>标准间（独卫）-吃货天... 双床 不含早 1间2晚</td>\n",
       "      <td>华夏航空 G54963</td>\n",
       "      <td>直飞</td>\n",
       "      <td>07:10-08:55</td>\n",
       "      <td>华夏航空 G58858</td>\n",
       "      <td>直飞</td>\n",
       "      <td>23:10-00:55</td>\n",
       "    </tr>\n",
       "  </tbody>\n",
       "</table>\n",
       "</div>"
      ],
      "text/plain": [
       "      出发地 目的地      价格     节省                                          路线名  \\\n",
       "1850  NaN  烟台   647.0  348.0    大连-烟台3天2晚 | 入住烟台海阳黄金海岸大酒店 + 幸福航空/天津航空往返机票   \n",
       "1915  NaN  西安  1030.0  326.0  济南-西安3天2晚 | 入住西安丝路秦国际青年旅舍钟楼回民街店 + 华夏航空往返...   \n",
       "\n",
       "                                 酒店                          房间         去程航司  \\\n",
       "1850            烟台海阳黄金海岸大酒店 3.7分/5分   海景标准间(内宾)[双... 双床 双早 1间2晚  幸福航空 JR1582   \n",
       "1915  西安丝路秦国际青年旅舍钟楼回民街店 经济型 4.4分/5分  标准间（独卫）-吃货天... 双床 不含早 1间2晚  华夏航空 G54963   \n",
       "\n",
       "     去程方式         去程时间         回程航司 回程方式         回程时间  \n",
       "1850   直飞  10:05-11:05  天津航空 GS6402   直飞  16:30-17:25  \n",
       "1915   直飞  07:10-08:55  华夏航空 G58858   直飞  23:10-00:55  "
      ]
     },
     "execution_count": 62,
     "metadata": {},
     "output_type": "execute_result"
    }
   ],
   "source": [
    "df[df.出发地.isnull()]"
   ]
  },
  {
   "cell_type": "code",
   "execution_count": 63,
   "metadata": {},
   "outputs": [
    {
     "data": {
      "text/plain": [
       "['大连', '济南']"
      ]
     },
     "execution_count": 63,
     "metadata": {},
     "output_type": "execute_result"
    }
   ],
   "source": [
    "[str(x)[:2] for x in df.loc[df.出发地.isnull(),'路线名']]"
   ]
  },
  {
   "cell_type": "code",
   "execution_count": 64,
   "metadata": {},
   "outputs": [],
   "source": [
    "df.loc[df.出发地.isnull(),'出发地'] = [str(x)[:2] for x in df.loc[df.出发地.isnull(),'路线名']]"
   ]
  },
  {
   "cell_type": "code",
   "execution_count": 65,
   "metadata": {},
   "outputs": [
    {
     "data": {
      "text/html": [
       "<div>\n",
       "<style scoped>\n",
       "    .dataframe tbody tr th:only-of-type {\n",
       "        vertical-align: middle;\n",
       "    }\n",
       "\n",
       "    .dataframe tbody tr th {\n",
       "        vertical-align: top;\n",
       "    }\n",
       "\n",
       "    .dataframe thead th {\n",
       "        text-align: right;\n",
       "    }\n",
       "</style>\n",
       "<table border=\"1\" class=\"dataframe\">\n",
       "  <thead>\n",
       "    <tr style=\"text-align: right;\">\n",
       "      <th></th>\n",
       "      <th>出发地</th>\n",
       "      <th>目的地</th>\n",
       "      <th>价格</th>\n",
       "      <th>节省</th>\n",
       "      <th>路线名</th>\n",
       "      <th>酒店</th>\n",
       "      <th>房间</th>\n",
       "      <th>去程航司</th>\n",
       "      <th>去程方式</th>\n",
       "      <th>去程时间</th>\n",
       "      <th>回程航司</th>\n",
       "      <th>回程方式</th>\n",
       "      <th>回程时间</th>\n",
       "    </tr>\n",
       "  </thead>\n",
       "  <tbody>\n",
       "  </tbody>\n",
       "</table>\n",
       "</div>"
      ],
      "text/plain": [
       "Empty DataFrame\n",
       "Columns: [出发地, 目的地, 价格, 节省, 路线名, 酒店, 房间, 去程航司, 去程方式, 去程时间, 回程航司, 回程方式, 回程时间]\n",
       "Index: []"
      ]
     },
     "execution_count": 65,
     "metadata": {},
     "output_type": "execute_result"
    }
   ],
   "source": [
    "df[df.出发地.isnull()]"
   ]
  },
  {
   "cell_type": "code",
   "execution_count": 66,
   "metadata": {},
   "outputs": [
    {
     "data": {
      "text/plain": [
       "0"
      ]
     },
     "execution_count": 66,
     "metadata": {},
     "output_type": "execute_result"
    }
   ],
   "source": [
    "df.出发地.isnull().sum()"
   ]
  },
  {
   "cell_type": "code",
   "execution_count": 67,
   "metadata": {},
   "outputs": [
    {
     "data": {
      "text/html": [
       "<div>\n",
       "<style scoped>\n",
       "    .dataframe tbody tr th:only-of-type {\n",
       "        vertical-align: middle;\n",
       "    }\n",
       "\n",
       "    .dataframe tbody tr th {\n",
       "        vertical-align: top;\n",
       "    }\n",
       "\n",
       "    .dataframe thead th {\n",
       "        text-align: right;\n",
       "    }\n",
       "</style>\n",
       "<table border=\"1\" class=\"dataframe\">\n",
       "  <thead>\n",
       "    <tr style=\"text-align: right;\">\n",
       "      <th></th>\n",
       "      <th>出发地</th>\n",
       "      <th>目的地</th>\n",
       "      <th>价格</th>\n",
       "      <th>节省</th>\n",
       "      <th>路线名</th>\n",
       "      <th>酒店</th>\n",
       "      <th>房间</th>\n",
       "      <th>去程航司</th>\n",
       "      <th>去程方式</th>\n",
       "      <th>去程时间</th>\n",
       "      <th>回程航司</th>\n",
       "      <th>回程方式</th>\n",
       "      <th>回程时间</th>\n",
       "    </tr>\n",
       "  </thead>\n",
       "  <tbody>\n",
       "    <tr>\n",
       "      <th>1860</th>\n",
       "      <td>深圳</td>\n",
       "      <td>NaN</td>\n",
       "      <td>2149.0</td>\n",
       "      <td>494.0</td>\n",
       "      <td>深圳-大连3天2晚 | 入住大连黄金山大酒店 + 南方航空/东海往返机票</td>\n",
       "      <td>大连黄金山大酒店 舒适型 3.4分/5分</td>\n",
       "      <td>标准间 大/双床 不含早 1间2晚</td>\n",
       "      <td>南方航空 CZ6833</td>\n",
       "      <td>直飞</td>\n",
       "      <td>09:10-12:40</td>\n",
       "      <td>东海 DZ6242</td>\n",
       "      <td>经停</td>\n",
       "      <td>12:40-18:00</td>\n",
       "    </tr>\n",
       "  </tbody>\n",
       "</table>\n",
       "</div>"
      ],
      "text/plain": [
       "     出发地  目的地      价格     节省                                   路线名  \\\n",
       "1860  深圳  NaN  2149.0  494.0  深圳-大连3天2晚 | 入住大连黄金山大酒店 + 南方航空/东海往返机票   \n",
       "\n",
       "                        酒店                 房间         去程航司 去程方式         去程时间  \\\n",
       "1860  大连黄金山大酒店 舒适型 3.4分/5分  标准间 大/双床 不含早 1间2晚  南方航空 CZ6833   直飞  09:10-12:40   \n",
       "\n",
       "           回程航司 回程方式         回程时间  \n",
       "1860  东海 DZ6242   经停  12:40-18:00  "
      ]
     },
     "execution_count": 67,
     "metadata": {},
     "output_type": "execute_result"
    }
   ],
   "source": [
    "df[df.目的地.isnull()]"
   ]
  },
  {
   "cell_type": "code",
   "execution_count": 69,
   "metadata": {},
   "outputs": [
    {
     "data": {
      "text/plain": [
       "'大连'"
      ]
     },
     "execution_count": 69,
     "metadata": {},
     "output_type": "execute_result"
    }
   ],
   "source": [
    "str(df.loc[df.目的地.isnull(),'路线名'].values)[5:7]"
   ]
  },
  {
   "cell_type": "code",
   "execution_count": 70,
   "metadata": {},
   "outputs": [],
   "source": [
    "df.loc[df.目的地.isnull(),'目的地'] = str(df.loc[df.目的地.isnull(),'路线名'].values)[5:7]"
   ]
  },
  {
   "cell_type": "code",
   "execution_count": 72,
   "metadata": {},
   "outputs": [
    {
     "data": {
      "text/plain": [
       "1733.0"
      ]
     },
     "execution_count": 72,
     "metadata": {},
     "output_type": "execute_result"
    }
   ],
   "source": [
    "round(df['价格'].mean(),0)"
   ]
  },
  {
   "cell_type": "code",
   "execution_count": 73,
   "metadata": {},
   "outputs": [],
   "source": [
    "#处理价格缺失值\n",
    "df['价格'].fillna(round(df['价格'].mean(),0),inplace=True)"
   ]
  },
  {
   "cell_type": "code",
   "execution_count": 74,
   "metadata": {},
   "outputs": [],
   "source": [
    "#处理节省缺失值\n",
    "df['节省'].fillna(round(df['节省'].mean(),0),inplace=True)"
   ]
  },
  {
   "cell_type": "code",
   "execution_count": 75,
   "metadata": {},
   "outputs": [
    {
     "data": {
      "text/plain": [
       "出发地     0\n",
       "目的地     0\n",
       "价格      0\n",
       "节省      0\n",
       "路线名     0\n",
       "酒店      0\n",
       "房间      0\n",
       "去程航司    0\n",
       "去程方式    0\n",
       "去程时间    0\n",
       "回程航司    0\n",
       "回程方式    0\n",
       "回程时间    0\n",
       "dtype: int64"
      ]
     },
     "execution_count": 75,
     "metadata": {},
     "output_type": "execute_result"
    }
   ],
   "source": [
    "df.isnull().sum()"
   ]
  },
  {
   "cell_type": "markdown",
   "metadata": {},
   "source": [
    "### 8. 处理文本型数据"
   ]
  },
  {
   "cell_type": "code",
   "execution_count": 109,
   "metadata": {},
   "outputs": [],
   "source": [
    "# 如果我们想要在一系列文本提取信息,可以使用正则表达式\n",
    "# 正则表达式通常被用来检索某个规则的文本"
   ]
  },
  {
   "cell_type": "code",
   "execution_count": 77,
   "metadata": {},
   "outputs": [
    {
     "data": {
      "text/html": [
       "<div>\n",
       "<style scoped>\n",
       "    .dataframe tbody tr th:only-of-type {\n",
       "        vertical-align: middle;\n",
       "    }\n",
       "\n",
       "    .dataframe tbody tr th {\n",
       "        vertical-align: top;\n",
       "    }\n",
       "\n",
       "    .dataframe thead th {\n",
       "        text-align: right;\n",
       "    }\n",
       "</style>\n",
       "<table border=\"1\" class=\"dataframe\">\n",
       "  <thead>\n",
       "    <tr style=\"text-align: right;\">\n",
       "      <th></th>\n",
       "      <th>出发地</th>\n",
       "      <th>目的地</th>\n",
       "      <th>价格</th>\n",
       "      <th>节省</th>\n",
       "      <th>路线名</th>\n",
       "      <th>酒店</th>\n",
       "      <th>房间</th>\n",
       "      <th>去程航司</th>\n",
       "      <th>去程方式</th>\n",
       "      <th>去程时间</th>\n",
       "      <th>回程航司</th>\n",
       "      <th>回程方式</th>\n",
       "      <th>回程时间</th>\n",
       "    </tr>\n",
       "  </thead>\n",
       "  <tbody>\n",
       "    <tr>\n",
       "      <th>0</th>\n",
       "      <td>哈尔滨</td>\n",
       "      <td>北海</td>\n",
       "      <td>2208.0</td>\n",
       "      <td>650.0</td>\n",
       "      <td>哈尔滨-北海3天2晚 | 入住北海祥丰嘉年华大酒店 + 春秋航空往返机票</td>\n",
       "      <td>北海祥丰嘉年华大酒店 舒适型 4.7分/5分</td>\n",
       "      <td>标准双人间(双床) 双床 不含早 1间2晚</td>\n",
       "      <td>春秋航空 9C8741</td>\n",
       "      <td>直飞</td>\n",
       "      <td>17:10-21:50</td>\n",
       "      <td>春秋航空 9C8742</td>\n",
       "      <td>直飞</td>\n",
       "      <td>10:20-15:05</td>\n",
       "    </tr>\n",
       "    <tr>\n",
       "      <th>1</th>\n",
       "      <td>成都</td>\n",
       "      <td>泸沽湖</td>\n",
       "      <td>1145.0</td>\n",
       "      <td>376.0</td>\n",
       "      <td>成都-泸沽湖3天2晚 | 入住7天酒店丽江古城中心店 + 成都航空往返机票</td>\n",
       "      <td>7天酒店丽江古城中心店 经济型 4.0分/5分</td>\n",
       "      <td>经济房-不含早-限时特... 其他 不含早 1间2晚</td>\n",
       "      <td>成都航空 EU2237</td>\n",
       "      <td>直飞</td>\n",
       "      <td>19:45-21:20</td>\n",
       "      <td>成都航空 EU2738</td>\n",
       "      <td>直飞</td>\n",
       "      <td>23:30-01:05</td>\n",
       "    </tr>\n",
       "    <tr>\n",
       "      <th>2</th>\n",
       "      <td>广州</td>\n",
       "      <td>沈阳</td>\n",
       "      <td>2702.0</td>\n",
       "      <td>618.0</td>\n",
       "      <td>广州-沈阳3天2晚 | 入住沈阳中煤宾馆 + 南方航空/深圳航空往返机票</td>\n",
       "      <td>沈阳中煤宾馆 舒适型 4.5分/5分</td>\n",
       "      <td>大床间(内宾) 大床 双早 1间2晚</td>\n",
       "      <td>南方航空 CZ6384</td>\n",
       "      <td>直飞</td>\n",
       "      <td>08:05-11:45</td>\n",
       "      <td>深圳航空 ZH9652</td>\n",
       "      <td>经停</td>\n",
       "      <td>08:20-13:05</td>\n",
       "    </tr>\n",
       "    <tr>\n",
       "      <th>3</th>\n",
       "      <td>上海</td>\n",
       "      <td>九寨沟</td>\n",
       "      <td>1954.0</td>\n",
       "      <td>484.0</td>\n",
       "      <td>上海-九寨沟3天2晚 | 入住红原芸谊大酒店 + 成都航空往返机票</td>\n",
       "      <td>红原芸谊大酒店 舒适型 4.6分/5分</td>\n",
       "      <td>豪华双床房[双早] 双床 双早 1间2晚</td>\n",
       "      <td>成都航空 EU6678</td>\n",
       "      <td>直飞</td>\n",
       "      <td>21:55-01:15</td>\n",
       "      <td>成都航空 EU6677</td>\n",
       "      <td>直飞</td>\n",
       "      <td>17:45-20:35</td>\n",
       "    </tr>\n",
       "    <tr>\n",
       "      <th>4</th>\n",
       "      <td>广州</td>\n",
       "      <td>天津</td>\n",
       "      <td>1608.0</td>\n",
       "      <td>422.0</td>\n",
       "      <td>广州-天津3天2晚 | 入住天津逸海明珠大酒店 + 奥凯航空/海南航空往返机票</td>\n",
       "      <td>天津逸海明珠大酒店 高档型 4.1分/5分</td>\n",
       "      <td>豪华双床房(预付) 双床 不含早 1间2晚</td>\n",
       "      <td>奥凯航空 BK2787</td>\n",
       "      <td>直飞</td>\n",
       "      <td>06:55-10:00</td>\n",
       "      <td>海南航空 HU7201</td>\n",
       "      <td>直飞</td>\n",
       "      <td>20:15-23:25</td>\n",
       "    </tr>\n",
       "    <tr>\n",
       "      <th>5</th>\n",
       "      <td>长春</td>\n",
       "      <td>青岛</td>\n",
       "      <td>1580.0</td>\n",
       "      <td>390.0</td>\n",
       "      <td>长春-青岛3天2晚 | 入住青岛康大豪生大酒店 + 南方航空往返机票</td>\n",
       "      <td>青岛康大豪生大酒店 豪华型 4.6分/5分</td>\n",
       "      <td>精选房(大床)[酒店★... 大床 不含早 1间2晚</td>\n",
       "      <td>南方航空 CZ3938</td>\n",
       "      <td>直飞</td>\n",
       "      <td>20:00-21:55</td>\n",
       "      <td>南方航空 CZ3963</td>\n",
       "      <td>直飞</td>\n",
       "      <td>15:40-17:30</td>\n",
       "    </tr>\n",
       "    <tr>\n",
       "      <th>6</th>\n",
       "      <td>济南</td>\n",
       "      <td>九寨沟</td>\n",
       "      <td>1625.0</td>\n",
       "      <td>396.0</td>\n",
       "      <td>济南-九寨沟3天2晚 | 入住阿坝松潘松林酒店 + 中国国航/成都航空往返机票</td>\n",
       "      <td>阿坝松潘松林酒店 舒适型 4.3分/5分</td>\n",
       "      <td>豪华标准间(双床) 双床 不含早 1间2晚</td>\n",
       "      <td>中国国航 CA4528</td>\n",
       "      <td>直飞</td>\n",
       "      <td>21:00-23:30</td>\n",
       "      <td>成都航空 EU2719</td>\n",
       "      <td>直飞</td>\n",
       "      <td>06:55-09:25</td>\n",
       "    </tr>\n",
       "    <tr>\n",
       "      <th>7</th>\n",
       "      <td>宁波</td>\n",
       "      <td>重庆</td>\n",
       "      <td>1673.0</td>\n",
       "      <td>404.0</td>\n",
       "      <td>宁波-重庆3天2晚 | 入住重庆运通假日酒店汽博中心店 + 南方航空/四川航空往...</td>\n",
       "      <td>重庆运通假日酒店汽博中心店 舒适型 4.3分/5分</td>\n",
       "      <td>特惠房(大床) 大床 双早 1间2晚</td>\n",
       "      <td>南方航空 CZ8116</td>\n",
       "      <td>直飞</td>\n",
       "      <td>17:15-19:40</td>\n",
       "      <td>四川航空 3U8983</td>\n",
       "      <td>直飞</td>\n",
       "      <td>06:55-09:35</td>\n",
       "    </tr>\n",
       "    <tr>\n",
       "      <th>8</th>\n",
       "      <td>哈尔滨</td>\n",
       "      <td>南京</td>\n",
       "      <td>1170.0</td>\n",
       "      <td>340.0</td>\n",
       "      <td>哈尔滨-南京3天2晚 | 入住维也纳酒店南京南站汇景店 + 吉祥航空/厦门航空往...</td>\n",
       "      <td>维也纳酒店南京南站汇景店 舒适型 4.4分/5分</td>\n",
       "      <td>特惠大床房（无窗）[双... 大床 双早 1间2晚</td>\n",
       "      <td>吉祥航空 HO1651</td>\n",
       "      <td>直飞</td>\n",
       "      <td>17:10-20:00</td>\n",
       "      <td>厦门航空 MF8067</td>\n",
       "      <td>直飞</td>\n",
       "      <td>19:40-22:25</td>\n",
       "    </tr>\n",
       "    <tr>\n",
       "      <th>9</th>\n",
       "      <td>深圳</td>\n",
       "      <td>厦门</td>\n",
       "      <td>1311.0</td>\n",
       "      <td>350.0</td>\n",
       "      <td>深圳-厦门3天2晚 | 入住厦门泊旅时尚酒店会展中心店 + 海南航空往返机票</td>\n",
       "      <td>厦门泊旅时尚酒店会展中心店 舒适型 4.0分/5分</td>\n",
       "      <td>时尚标准双床房 双床 双早 1间2晚</td>\n",
       "      <td>海南航空 HU7065</td>\n",
       "      <td>直飞</td>\n",
       "      <td>07:30-08:40</td>\n",
       "      <td>海南航空 HU7066</td>\n",
       "      <td>直飞</td>\n",
       "      <td>15:30-16:40</td>\n",
       "    </tr>\n",
       "  </tbody>\n",
       "</table>\n",
       "</div>"
      ],
      "text/plain": [
       "   出发地  目的地      价格     节省                                          路线名  \\\n",
       "0  哈尔滨   北海  2208.0  650.0         哈尔滨-北海3天2晚 | 入住北海祥丰嘉年华大酒店 + 春秋航空往返机票   \n",
       "1   成都  泸沽湖  1145.0  376.0        成都-泸沽湖3天2晚 | 入住7天酒店丽江古城中心店 + 成都航空往返机票   \n",
       "2   广州   沈阳  2702.0  618.0         广州-沈阳3天2晚 | 入住沈阳中煤宾馆 + 南方航空/深圳航空往返机票   \n",
       "3   上海  九寨沟  1954.0  484.0            上海-九寨沟3天2晚 | 入住红原芸谊大酒店 + 成都航空往返机票   \n",
       "4   广州   天津  1608.0  422.0      广州-天津3天2晚 | 入住天津逸海明珠大酒店 + 奥凯航空/海南航空往返机票   \n",
       "5   长春   青岛  1580.0  390.0           长春-青岛3天2晚 | 入住青岛康大豪生大酒店 + 南方航空往返机票   \n",
       "6   济南  九寨沟  1625.0  396.0      济南-九寨沟3天2晚 | 入住阿坝松潘松林酒店 + 中国国航/成都航空往返机票   \n",
       "7   宁波   重庆  1673.0  404.0  宁波-重庆3天2晚 | 入住重庆运通假日酒店汽博中心店 + 南方航空/四川航空往...   \n",
       "8  哈尔滨   南京  1170.0  340.0  哈尔滨-南京3天2晚 | 入住维也纳酒店南京南站汇景店 + 吉祥航空/厦门航空往...   \n",
       "9   深圳   厦门  1311.0  350.0       深圳-厦门3天2晚 | 入住厦门泊旅时尚酒店会展中心店 + 海南航空往返机票   \n",
       "\n",
       "                          酒店                          房间         去程航司 去程方式  \\\n",
       "0     北海祥丰嘉年华大酒店 舒适型 4.7分/5分       标准双人间(双床) 双床 不含早 1间2晚  春秋航空 9C8741   直飞   \n",
       "1    7天酒店丽江古城中心店 经济型 4.0分/5分  经济房-不含早-限时特... 其他 不含早 1间2晚  成都航空 EU2237   直飞   \n",
       "2         沈阳中煤宾馆 舒适型 4.5分/5分          大床间(内宾) 大床 双早 1间2晚  南方航空 CZ6384   直飞   \n",
       "3        红原芸谊大酒店 舒适型 4.6分/5分        豪华双床房[双早] 双床 双早 1间2晚  成都航空 EU6678   直飞   \n",
       "4      天津逸海明珠大酒店 高档型 4.1分/5分       豪华双床房(预付) 双床 不含早 1间2晚  奥凯航空 BK2787   直飞   \n",
       "5      青岛康大豪生大酒店 豪华型 4.6分/5分  精选房(大床)[酒店★... 大床 不含早 1间2晚  南方航空 CZ3938   直飞   \n",
       "6       阿坝松潘松林酒店 舒适型 4.3分/5分       豪华标准间(双床) 双床 不含早 1间2晚  中国国航 CA4528   直飞   \n",
       "7  重庆运通假日酒店汽博中心店 舒适型 4.3分/5分          特惠房(大床) 大床 双早 1间2晚  南方航空 CZ8116   直飞   \n",
       "8   维也纳酒店南京南站汇景店 舒适型 4.4分/5分   特惠大床房（无窗）[双... 大床 双早 1间2晚  吉祥航空 HO1651   直飞   \n",
       "9  厦门泊旅时尚酒店会展中心店 舒适型 4.0分/5分          时尚标准双床房 双床 双早 1间2晚  海南航空 HU7065   直飞   \n",
       "\n",
       "          去程时间         回程航司 回程方式         回程时间  \n",
       "0  17:10-21:50  春秋航空 9C8742   直飞  10:20-15:05  \n",
       "1  19:45-21:20  成都航空 EU2738   直飞  23:30-01:05  \n",
       "2  08:05-11:45  深圳航空 ZH9652   经停  08:20-13:05  \n",
       "3  21:55-01:15  成都航空 EU6677   直飞  17:45-20:35  \n",
       "4  06:55-10:00  海南航空 HU7201   直飞  20:15-23:25  \n",
       "5  20:00-21:55  南方航空 CZ3963   直飞  15:40-17:30  \n",
       "6  21:00-23:30  成都航空 EU2719   直飞  06:55-09:25  \n",
       "7  17:15-19:40  四川航空 3U8983   直飞  06:55-09:35  \n",
       "8  17:10-20:00  厦门航空 MF8067   直飞  19:40-22:25  \n",
       "9  07:30-08:40  海南航空 HU7066   直飞  15:30-16:40  "
      ]
     },
     "execution_count": 77,
     "metadata": {},
     "output_type": "execute_result"
    }
   ],
   "source": [
    "df.head(10)"
   ]
  },
  {
   "cell_type": "code",
   "execution_count": 79,
   "metadata": {},
   "outputs": [
    {
     "data": {
      "text/plain": [
       "0       北海祥丰嘉年华大酒店 舒适型 4.7分/5分\n",
       "1      7天酒店丽江古城中心店 经济型 4.0分/5分\n",
       "2           沈阳中煤宾馆 舒适型 4.5分/5分\n",
       "3          红原芸谊大酒店 舒适型 4.6分/5分\n",
       "4        天津逸海明珠大酒店 高档型 4.1分/5分\n",
       "5        青岛康大豪生大酒店 豪华型 4.6分/5分\n",
       "6         阿坝松潘松林酒店 舒适型 4.3分/5分\n",
       "7    重庆运通假日酒店汽博中心店 舒适型 4.3分/5分\n",
       "8     维也纳酒店南京南站汇景店 舒适型 4.4分/5分\n",
       "9    厦门泊旅时尚酒店会展中心店 舒适型 4.0分/5分\n",
       "Name: 酒店, dtype: object"
      ]
     },
     "execution_count": 79,
     "metadata": {},
     "output_type": "execute_result"
    }
   ],
   "source": [
    "df.酒店[:10]"
   ]
  },
  {
   "cell_type": "code",
   "execution_count": 82,
   "metadata": {},
   "outputs": [
    {
     "data": {
      "text/html": [
       "<div>\n",
       "<style scoped>\n",
       "    .dataframe tbody tr th:only-of-type {\n",
       "        vertical-align: middle;\n",
       "    }\n",
       "\n",
       "    .dataframe tbody tr th {\n",
       "        vertical-align: top;\n",
       "    }\n",
       "\n",
       "    .dataframe thead th {\n",
       "        text-align: right;\n",
       "    }\n",
       "</style>\n",
       "<table border=\"1\" class=\"dataframe\">\n",
       "  <thead>\n",
       "    <tr style=\"text-align: right;\">\n",
       "      <th></th>\n",
       "      <th>0</th>\n",
       "    </tr>\n",
       "  </thead>\n",
       "  <tbody>\n",
       "    <tr>\n",
       "      <th>0</th>\n",
       "      <td>4.7</td>\n",
       "    </tr>\n",
       "    <tr>\n",
       "      <th>1</th>\n",
       "      <td>4.0</td>\n",
       "    </tr>\n",
       "    <tr>\n",
       "      <th>2</th>\n",
       "      <td>4.5</td>\n",
       "    </tr>\n",
       "    <tr>\n",
       "      <th>3</th>\n",
       "      <td>4.6</td>\n",
       "    </tr>\n",
       "    <tr>\n",
       "      <th>4</th>\n",
       "      <td>4.1</td>\n",
       "    </tr>\n",
       "    <tr>\n",
       "      <th>5</th>\n",
       "      <td>4.6</td>\n",
       "    </tr>\n",
       "    <tr>\n",
       "      <th>6</th>\n",
       "      <td>4.3</td>\n",
       "    </tr>\n",
       "    <tr>\n",
       "      <th>7</th>\n",
       "      <td>4.3</td>\n",
       "    </tr>\n",
       "    <tr>\n",
       "      <th>8</th>\n",
       "      <td>4.4</td>\n",
       "    </tr>\n",
       "    <tr>\n",
       "      <th>9</th>\n",
       "      <td>4.0</td>\n",
       "    </tr>\n",
       "  </tbody>\n",
       "</table>\n",
       "</div>"
      ],
      "text/plain": [
       "     0\n",
       "0  4.7\n",
       "1  4.0\n",
       "2  4.5\n",
       "3  4.6\n",
       "4  4.1\n",
       "5  4.6\n",
       "6  4.3\n",
       "7  4.3\n",
       "8  4.4\n",
       "9  4.0"
      ]
     },
     "execution_count": 82,
     "metadata": {},
     "output_type": "execute_result"
    }
   ],
   "source": [
    "df.酒店.str.extract('(\\d\\.\\d)分/5分',expand=True)[:10]"
   ]
  },
  {
   "cell_type": "code",
   "execution_count": 83,
   "metadata": {},
   "outputs": [],
   "source": [
    "#提取酒店评分\n",
    "df['酒店评分'] = df.酒店.str.extract('(\\d\\.\\d)分/5分',expand=False)\n",
    "\n",
    "#expand=False (return Index/Series)\n",
    "#expand=True (return DataFrame)"
   ]
  },
  {
   "cell_type": "code",
   "execution_count": 84,
   "metadata": {},
   "outputs": [
    {
     "data": {
      "text/html": [
       "<div>\n",
       "<style scoped>\n",
       "    .dataframe tbody tr th:only-of-type {\n",
       "        vertical-align: middle;\n",
       "    }\n",
       "\n",
       "    .dataframe tbody tr th {\n",
       "        vertical-align: top;\n",
       "    }\n",
       "\n",
       "    .dataframe thead th {\n",
       "        text-align: right;\n",
       "    }\n",
       "</style>\n",
       "<table border=\"1\" class=\"dataframe\">\n",
       "  <thead>\n",
       "    <tr style=\"text-align: right;\">\n",
       "      <th></th>\n",
       "      <th>出发地</th>\n",
       "      <th>目的地</th>\n",
       "      <th>价格</th>\n",
       "      <th>节省</th>\n",
       "      <th>路线名</th>\n",
       "      <th>酒店</th>\n",
       "      <th>房间</th>\n",
       "      <th>去程航司</th>\n",
       "      <th>去程方式</th>\n",
       "      <th>去程时间</th>\n",
       "      <th>回程航司</th>\n",
       "      <th>回程方式</th>\n",
       "      <th>回程时间</th>\n",
       "      <th>酒店评分</th>\n",
       "    </tr>\n",
       "  </thead>\n",
       "  <tbody>\n",
       "    <tr>\n",
       "      <th>0</th>\n",
       "      <td>哈尔滨</td>\n",
       "      <td>北海</td>\n",
       "      <td>2208.0</td>\n",
       "      <td>650.0</td>\n",
       "      <td>哈尔滨-北海3天2晚 | 入住北海祥丰嘉年华大酒店 + 春秋航空往返机票</td>\n",
       "      <td>北海祥丰嘉年华大酒店 舒适型 4.7分/5分</td>\n",
       "      <td>标准双人间(双床) 双床 不含早 1间2晚</td>\n",
       "      <td>春秋航空 9C8741</td>\n",
       "      <td>直飞</td>\n",
       "      <td>17:10-21:50</td>\n",
       "      <td>春秋航空 9C8742</td>\n",
       "      <td>直飞</td>\n",
       "      <td>10:20-15:05</td>\n",
       "      <td>4.7</td>\n",
       "    </tr>\n",
       "    <tr>\n",
       "      <th>1</th>\n",
       "      <td>成都</td>\n",
       "      <td>泸沽湖</td>\n",
       "      <td>1145.0</td>\n",
       "      <td>376.0</td>\n",
       "      <td>成都-泸沽湖3天2晚 | 入住7天酒店丽江古城中心店 + 成都航空往返机票</td>\n",
       "      <td>7天酒店丽江古城中心店 经济型 4.0分/5分</td>\n",
       "      <td>经济房-不含早-限时特... 其他 不含早 1间2晚</td>\n",
       "      <td>成都航空 EU2237</td>\n",
       "      <td>直飞</td>\n",
       "      <td>19:45-21:20</td>\n",
       "      <td>成都航空 EU2738</td>\n",
       "      <td>直飞</td>\n",
       "      <td>23:30-01:05</td>\n",
       "      <td>4.0</td>\n",
       "    </tr>\n",
       "  </tbody>\n",
       "</table>\n",
       "</div>"
      ],
      "text/plain": [
       "   出发地  目的地      价格     节省                                    路线名  \\\n",
       "0  哈尔滨   北海  2208.0  650.0   哈尔滨-北海3天2晚 | 入住北海祥丰嘉年华大酒店 + 春秋航空往返机票   \n",
       "1   成都  泸沽湖  1145.0  376.0  成都-泸沽湖3天2晚 | 入住7天酒店丽江古城中心店 + 成都航空往返机票   \n",
       "\n",
       "                        酒店                          房间         去程航司 去程方式  \\\n",
       "0   北海祥丰嘉年华大酒店 舒适型 4.7分/5分       标准双人间(双床) 双床 不含早 1间2晚  春秋航空 9C8741   直飞   \n",
       "1  7天酒店丽江古城中心店 经济型 4.0分/5分  经济房-不含早-限时特... 其他 不含早 1间2晚  成都航空 EU2237   直飞   \n",
       "\n",
       "          去程时间         回程航司 回程方式         回程时间 酒店评分  \n",
       "0  17:10-21:50  春秋航空 9C8742   直飞  10:20-15:05  4.7  \n",
       "1  19:45-21:20  成都航空 EU2738   直飞  23:30-01:05  4.0  "
      ]
     },
     "execution_count": 84,
     "metadata": {},
     "output_type": "execute_result"
    }
   ],
   "source": [
    "df.head(2)"
   ]
  },
  {
   "cell_type": "code",
   "execution_count": 85,
   "metadata": {},
   "outputs": [
    {
     "data": {
      "text/plain": [
       "0       北海祥丰嘉年华大酒店 舒适型 4.7分/5分\n",
       "1      7天酒店丽江古城中心店 经济型 4.0分/5分\n",
       "2           沈阳中煤宾馆 舒适型 4.5分/5分\n",
       "3          红原芸谊大酒店 舒适型 4.6分/5分\n",
       "4        天津逸海明珠大酒店 高档型 4.1分/5分\n",
       "5        青岛康大豪生大酒店 豪华型 4.6分/5分\n",
       "6         阿坝松潘松林酒店 舒适型 4.3分/5分\n",
       "7    重庆运通假日酒店汽博中心店 舒适型 4.3分/5分\n",
       "8     维也纳酒店南京南站汇景店 舒适型 4.4分/5分\n",
       "9    厦门泊旅时尚酒店会展中心店 舒适型 4.0分/5分\n",
       "Name: 酒店, dtype: object"
      ]
     },
     "execution_count": 85,
     "metadata": {},
     "output_type": "execute_result"
    }
   ],
   "source": [
    "df.酒店[:10]"
   ]
  },
  {
   "cell_type": "code",
   "execution_count": 87,
   "metadata": {},
   "outputs": [
    {
     "data": {
      "text/plain": [
       "0    舒适型\n",
       "1    经济型\n",
       "2    舒适型\n",
       "3    舒适型\n",
       "4    高档型\n",
       "Name: 酒店, dtype: object"
      ]
     },
     "execution_count": 87,
     "metadata": {},
     "output_type": "execute_result"
    }
   ],
   "source": [
    "df.酒店.str.extract(' (.+) ',expand=False)[:5]"
   ]
  },
  {
   "cell_type": "code",
   "execution_count": 88,
   "metadata": {},
   "outputs": [],
   "source": [
    "#提取酒店等级\n",
    "df['酒店等级'] = df.酒店.str.extract(' (.+) ',expand=False)#+号表示的是贪婪模式，也就是所有的数据都要提取出来"
   ]
  },
  {
   "cell_type": "code",
   "execution_count": 91,
   "metadata": {},
   "outputs": [],
   "source": [
    "#提取天数信息\n",
    "df['天数']=df.路线名.str.extract('(\\d+)天\\d晚',expand=False)"
   ]
  },
  {
   "cell_type": "code",
   "execution_count": 92,
   "metadata": {},
   "outputs": [
    {
     "data": {
      "text/html": [
       "<div>\n",
       "<style scoped>\n",
       "    .dataframe tbody tr th:only-of-type {\n",
       "        vertical-align: middle;\n",
       "    }\n",
       "\n",
       "    .dataframe tbody tr th {\n",
       "        vertical-align: top;\n",
       "    }\n",
       "\n",
       "    .dataframe thead th {\n",
       "        text-align: right;\n",
       "    }\n",
       "</style>\n",
       "<table border=\"1\" class=\"dataframe\">\n",
       "  <thead>\n",
       "    <tr style=\"text-align: right;\">\n",
       "      <th></th>\n",
       "      <th>出发地</th>\n",
       "      <th>目的地</th>\n",
       "      <th>价格</th>\n",
       "      <th>节省</th>\n",
       "      <th>路线名</th>\n",
       "      <th>酒店</th>\n",
       "      <th>房间</th>\n",
       "      <th>去程航司</th>\n",
       "      <th>去程方式</th>\n",
       "      <th>去程时间</th>\n",
       "      <th>回程航司</th>\n",
       "      <th>回程方式</th>\n",
       "      <th>回程时间</th>\n",
       "      <th>酒店评分</th>\n",
       "      <th>酒店等级</th>\n",
       "      <th>天数</th>\n",
       "    </tr>\n",
       "  </thead>\n",
       "  <tbody>\n",
       "    <tr>\n",
       "      <th>0</th>\n",
       "      <td>哈尔滨</td>\n",
       "      <td>北海</td>\n",
       "      <td>2208.0</td>\n",
       "      <td>650.0</td>\n",
       "      <td>哈尔滨-北海3天2晚 | 入住北海祥丰嘉年华大酒店 + 春秋航空往返机票</td>\n",
       "      <td>北海祥丰嘉年华大酒店 舒适型 4.7分/5分</td>\n",
       "      <td>标准双人间(双床) 双床 不含早 1间2晚</td>\n",
       "      <td>春秋航空 9C8741</td>\n",
       "      <td>直飞</td>\n",
       "      <td>17:10-21:50</td>\n",
       "      <td>春秋航空 9C8742</td>\n",
       "      <td>直飞</td>\n",
       "      <td>10:20-15:05</td>\n",
       "      <td>4.7</td>\n",
       "      <td>舒适型</td>\n",
       "      <td>3</td>\n",
       "    </tr>\n",
       "    <tr>\n",
       "      <th>1</th>\n",
       "      <td>成都</td>\n",
       "      <td>泸沽湖</td>\n",
       "      <td>1145.0</td>\n",
       "      <td>376.0</td>\n",
       "      <td>成都-泸沽湖3天2晚 | 入住7天酒店丽江古城中心店 + 成都航空往返机票</td>\n",
       "      <td>7天酒店丽江古城中心店 经济型 4.0分/5分</td>\n",
       "      <td>经济房-不含早-限时特... 其他 不含早 1间2晚</td>\n",
       "      <td>成都航空 EU2237</td>\n",
       "      <td>直飞</td>\n",
       "      <td>19:45-21:20</td>\n",
       "      <td>成都航空 EU2738</td>\n",
       "      <td>直飞</td>\n",
       "      <td>23:30-01:05</td>\n",
       "      <td>4.0</td>\n",
       "      <td>经济型</td>\n",
       "      <td>3</td>\n",
       "    </tr>\n",
       "    <tr>\n",
       "      <th>2</th>\n",
       "      <td>广州</td>\n",
       "      <td>沈阳</td>\n",
       "      <td>2702.0</td>\n",
       "      <td>618.0</td>\n",
       "      <td>广州-沈阳3天2晚 | 入住沈阳中煤宾馆 + 南方航空/深圳航空往返机票</td>\n",
       "      <td>沈阳中煤宾馆 舒适型 4.5分/5分</td>\n",
       "      <td>大床间(内宾) 大床 双早 1间2晚</td>\n",
       "      <td>南方航空 CZ6384</td>\n",
       "      <td>直飞</td>\n",
       "      <td>08:05-11:45</td>\n",
       "      <td>深圳航空 ZH9652</td>\n",
       "      <td>经停</td>\n",
       "      <td>08:20-13:05</td>\n",
       "      <td>4.5</td>\n",
       "      <td>舒适型</td>\n",
       "      <td>3</td>\n",
       "    </tr>\n",
       "    <tr>\n",
       "      <th>3</th>\n",
       "      <td>上海</td>\n",
       "      <td>九寨沟</td>\n",
       "      <td>1954.0</td>\n",
       "      <td>484.0</td>\n",
       "      <td>上海-九寨沟3天2晚 | 入住红原芸谊大酒店 + 成都航空往返机票</td>\n",
       "      <td>红原芸谊大酒店 舒适型 4.6分/5分</td>\n",
       "      <td>豪华双床房[双早] 双床 双早 1间2晚</td>\n",
       "      <td>成都航空 EU6678</td>\n",
       "      <td>直飞</td>\n",
       "      <td>21:55-01:15</td>\n",
       "      <td>成都航空 EU6677</td>\n",
       "      <td>直飞</td>\n",
       "      <td>17:45-20:35</td>\n",
       "      <td>4.6</td>\n",
       "      <td>舒适型</td>\n",
       "      <td>3</td>\n",
       "    </tr>\n",
       "    <tr>\n",
       "      <th>4</th>\n",
       "      <td>广州</td>\n",
       "      <td>天津</td>\n",
       "      <td>1608.0</td>\n",
       "      <td>422.0</td>\n",
       "      <td>广州-天津3天2晚 | 入住天津逸海明珠大酒店 + 奥凯航空/海南航空往返机票</td>\n",
       "      <td>天津逸海明珠大酒店 高档型 4.1分/5分</td>\n",
       "      <td>豪华双床房(预付) 双床 不含早 1间2晚</td>\n",
       "      <td>奥凯航空 BK2787</td>\n",
       "      <td>直飞</td>\n",
       "      <td>06:55-10:00</td>\n",
       "      <td>海南航空 HU7201</td>\n",
       "      <td>直飞</td>\n",
       "      <td>20:15-23:25</td>\n",
       "      <td>4.1</td>\n",
       "      <td>高档型</td>\n",
       "      <td>3</td>\n",
       "    </tr>\n",
       "  </tbody>\n",
       "</table>\n",
       "</div>"
      ],
      "text/plain": [
       "   出发地  目的地      价格     节省                                      路线名  \\\n",
       "0  哈尔滨   北海  2208.0  650.0     哈尔滨-北海3天2晚 | 入住北海祥丰嘉年华大酒店 + 春秋航空往返机票   \n",
       "1   成都  泸沽湖  1145.0  376.0    成都-泸沽湖3天2晚 | 入住7天酒店丽江古城中心店 + 成都航空往返机票   \n",
       "2   广州   沈阳  2702.0  618.0     广州-沈阳3天2晚 | 入住沈阳中煤宾馆 + 南方航空/深圳航空往返机票   \n",
       "3   上海  九寨沟  1954.0  484.0        上海-九寨沟3天2晚 | 入住红原芸谊大酒店 + 成都航空往返机票   \n",
       "4   广州   天津  1608.0  422.0  广州-天津3天2晚 | 入住天津逸海明珠大酒店 + 奥凯航空/海南航空往返机票   \n",
       "\n",
       "                        酒店                          房间         去程航司 去程方式  \\\n",
       "0   北海祥丰嘉年华大酒店 舒适型 4.7分/5分       标准双人间(双床) 双床 不含早 1间2晚  春秋航空 9C8741   直飞   \n",
       "1  7天酒店丽江古城中心店 经济型 4.0分/5分  经济房-不含早-限时特... 其他 不含早 1间2晚  成都航空 EU2237   直飞   \n",
       "2       沈阳中煤宾馆 舒适型 4.5分/5分          大床间(内宾) 大床 双早 1间2晚  南方航空 CZ6384   直飞   \n",
       "3      红原芸谊大酒店 舒适型 4.6分/5分        豪华双床房[双早] 双床 双早 1间2晚  成都航空 EU6678   直飞   \n",
       "4    天津逸海明珠大酒店 高档型 4.1分/5分       豪华双床房(预付) 双床 不含早 1间2晚  奥凯航空 BK2787   直飞   \n",
       "\n",
       "          去程时间         回程航司 回程方式         回程时间 酒店评分 酒店等级 天数  \n",
       "0  17:10-21:50  春秋航空 9C8742   直飞  10:20-15:05  4.7  舒适型  3  \n",
       "1  19:45-21:20  成都航空 EU2738   直飞  23:30-01:05  4.0  经济型  3  \n",
       "2  08:05-11:45  深圳航空 ZH9652   经停  08:20-13:05  4.5  舒适型  3  \n",
       "3  21:55-01:15  成都航空 EU6677   直飞  17:45-20:35  4.6  舒适型  3  \n",
       "4  06:55-10:00  海南航空 HU7201   直飞  20:15-23:25  4.1  高档型  3  "
      ]
     },
     "execution_count": 92,
     "metadata": {},
     "output_type": "execute_result"
    }
   ],
   "source": [
    "df.head()"
   ]
  }
 ],
 "metadata": {
  "kernelspec": {
   "display_name": "Python 3",
   "language": "python",
   "name": "python3"
  },
  "language_info": {
   "codemirror_mode": {
    "name": "ipython",
    "version": 3
   },
   "file_extension": ".py",
   "mimetype": "text/x-python",
   "name": "python",
   "nbconvert_exporter": "python",
   "pygments_lexer": "ipython3",
   "version": "3.8.5"
  }
 },
 "nbformat": 4,
 "nbformat_minor": 2
}
