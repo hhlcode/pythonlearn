{
 "cells": [
  {
   "cell_type": "code",
   "execution_count": 1,
   "metadata": {},
   "outputs": [],
   "source": [
    "import pynlpir\n",
    "import time\n",
    "import pandas as pd"
   ]
  },
  {
   "cell_type": "code",
   "execution_count": 2,
   "metadata": {},
   "outputs": [],
   "source": [
    "df = pd.read_csv('人工分词的药食同源.csv',encoding = 'utf-8')"
   ]
  },
  {
   "cell_type": "code",
   "execution_count": 3,
   "metadata": {},
   "outputs": [
    {
     "data": {
      "text/plain": [
       "0       中草药是我国文化的瑰宝,中医理论是中国传统医学的核心,其中的许多理念都可以与现代食品工业中的...\n",
       "1       葛根营养丰富,是一种重要的药食同源植物,可开发为多种药用和保健食品,市场前景广阔.综述了葛根...\n",
       "2       目的:分析近十年来药食同源类中药防治冠心病的应用及配伍规律.方法:检索中医临床诊疗文献数据库...\n",
       "3       建立了加速溶剂萃取-QuEChERS-超高效液相色谱-串联质谱测定药食同源性食品中种真菌毒素...\n",
       "4       目的:在国家卫生健康委员会公布的按照传统药食同源中药材目录中筛选抗新型冠状病毒肺炎中药,在疫...\n",
       "                              ...                        \n",
       "1581    北有人参，南有三七。三七是驰名中外的名贵中药材，也是我国民间最早使用的药食同源植物之一，素有...\n",
       "1582    果桑是专门用来生产优质桑果（桑葚）一类桑树的总称,位列国家卫计委确定并公布的＂既是食品又是药...\n",
       "1583    为了使沙棘提取果汁后的废弃物(沙棘籽渣)得到有效利用,解决黑木耳生产中原材料短缺和传统原材料...\n",
       "1584    <正>枸杞是药食同源植物,传统药物学认为枸杞滋阴补肾、明目、强身健体,现代科学分析枸杞的主要...\n",
       "1585    西洋参是药食同源植物，既是名贵上品中药，又是高级滋补佳品，被卫生部确定为“可用于保健食品的物...\n",
       "Name: 摘要, Length: 1586, dtype: object"
      ]
     },
     "execution_count": 3,
     "metadata": {},
     "output_type": "execute_result"
    }
   ],
   "source": [
    "abstract = df.摘要\n",
    "abstract"
   ]
  },
  {
   "cell_type": "code",
   "execution_count": 4,
   "metadata": {},
   "outputs": [],
   "source": [
    "\"\"\"\n",
    "#Python 消除换行符一定.replace('\\n','').replace('\\r','') \n",
    "将词表转化为一个list\n",
    "\"\"\"\n",
    "def vocabDict():\n",
    "    with open ('UserDict.txt','r',encoding = 'utf-8')as f:\n",
    "        vocabL = f.readlines() #读取的结果是list \n",
    "        vocabSet = []\n",
    "        for i in vocabL:#删除换行符\n",
    "            i = i.replace('\\n','').replace('\\r','').replace('t','')\n",
    "            vocabSet.append(i)\n",
    "        f.close()\n",
    "        return vocabSet"
   ]
  },
  {
   "cell_type": "code",
   "execution_count": 5,
   "metadata": {},
   "outputs": [],
   "source": [
    "vocabSet = vocabDict()"
   ]
  },
  {
   "cell_type": "code",
   "execution_count": 13,
   "metadata": {},
   "outputs": [
    {
     "name": "stdout",
     "output_type": "stream",
     "text": [
      "14.536421036720276\n"
     ]
    }
   ],
   "source": [
    "times = 0\n",
    "for i in range(10):\n",
    "    pynlpir.open()\n",
    "#     pynlpir.nlpir.ImportUserDict(b'UserDict.txt')\n",
    "    time_start = time.time()  # 记录开始时间\n",
    "    c = []\n",
    "    for ab in abstract:\n",
    "        l = [] #把每个文章的用到的药材提取出来放在列表中\n",
    "        contents = list(pynlpir.segment(str(ab), pos_tagging=False)) # 使用pos_tagging来关闭词性标注\n",
    "    #     print(contents)\n",
    "    #     break\n",
    "        for content in contents:\n",
    "    #             print(content)\n",
    "            if content  in vocabSet and content !='药食同源'and content not in l: #判断是否在词表里面，提取中药材的关键词\n",
    "                l.append(content)\n",
    "            s = str(l).replace(\"'\",'').replace('[','').replace(']','')#将其转化为一个一维的列表目的就是为转化为DataFrame类型\n",
    "        c.append(s)\n",
    "        l = []\n",
    "    time_end = time.time()  # 记录结束时间\n",
    "    time_sum = time_end - time_start  # 计算的时间差为程序的执行时间，单位为秒/s\n",
    "    times += time_sum\n",
    "    pynlpir.close()\n",
    "average = times/10\n",
    "print(average)\n",
    "#载入词典的分词时间14.342047524452209\n",
    "# 没载入词典的分词时间14.536421036720276"
   ]
  },
  {
   "cell_type": "code",
   "execution_count": null,
   "metadata": {},
   "outputs": [],
   "source": [
    "d= pd.DataFrame(c)\n",
    "# d\n",
    "df['引进词表的pynlpir提取的中药材'] = d"
   ]
  },
  {
   "cell_type": "code",
   "execution_count": 21,
   "metadata": {},
   "outputs": [],
   "source": [
    "df.to_csv('人工分词的药食同源.csv')"
   ]
  },
  {
   "cell_type": "code",
   "execution_count": 22,
   "metadata": {},
   "outputs": [
    {
     "data": {
      "text/html": [
       "<div>\n",
       "<style scoped>\n",
       "    .dataframe tbody tr th:only-of-type {\n",
       "        vertical-align: middle;\n",
       "    }\n",
       "\n",
       "    .dataframe tbody tr th {\n",
       "        vertical-align: top;\n",
       "    }\n",
       "\n",
       "    .dataframe thead th {\n",
       "        text-align: right;\n",
       "    }\n",
       "</style>\n",
       "<table border=\"1\" class=\"dataframe\">\n",
       "  <thead>\n",
       "    <tr style=\"text-align: right;\">\n",
       "      <th></th>\n",
       "      <th>count</th>\n",
       "      <th>mean</th>\n",
       "      <th>std</th>\n",
       "      <th>min</th>\n",
       "      <th>25%</th>\n",
       "      <th>50%</th>\n",
       "      <th>75%</th>\n",
       "      <th>max</th>\n",
       "    </tr>\n",
       "  </thead>\n",
       "  <tbody>\n",
       "    <tr>\n",
       "      <th>Unnamed: 0</th>\n",
       "      <td>1586.0</td>\n",
       "      <td>792.5</td>\n",
       "      <td>457.983078</td>\n",
       "      <td>0.0</td>\n",
       "      <td>396.25</td>\n",
       "      <td>792.5</td>\n",
       "      <td>1188.75</td>\n",
       "      <td>1585.0</td>\n",
       "    </tr>\n",
       "  </tbody>\n",
       "</table>\n",
       "</div>"
      ],
      "text/plain": [
       "             count   mean         std  min     25%    50%      75%     max\n",
       "Unnamed: 0  1586.0  792.5  457.983078  0.0  396.25  792.5  1188.75  1585.0"
      ]
     },
     "execution_count": 22,
     "metadata": {},
     "output_type": "execute_result"
    }
   ],
   "source": [
    "df.describe().T"
   ]
  },
  {
   "cell_type": "code",
   "execution_count": null,
   "metadata": {},
   "outputs": [],
   "source": []
  }
 ],
 "metadata": {
  "kernelspec": {
   "display_name": "Python 3",
   "language": "python",
   "name": "python3"
  },
  "language_info": {
   "codemirror_mode": {
    "name": "ipython",
    "version": 3
   },
   "file_extension": ".py",
   "mimetype": "text/x-python",
   "name": "python",
   "nbconvert_exporter": "python",
   "pygments_lexer": "ipython3",
   "version": "3.8.5"
  }
 },
 "nbformat": 4,
 "nbformat_minor": 4
}
