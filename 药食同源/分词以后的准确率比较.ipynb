{
 "cells": [
  {
   "cell_type": "code",
   "execution_count": 12,
   "metadata": {},
   "outputs": [],
   "source": [
    "import pandas as pd\n",
    "import random "
   ]
  },
  {
   "cell_type": "code",
   "execution_count": 13,
   "metadata": {},
   "outputs": [
    {
     "data": {
      "text/plain": [
       "1586"
      ]
     },
     "execution_count": 13,
     "metadata": {},
     "output_type": "execute_result"
    }
   ],
   "source": [
    "df = pd.read_csv('人工分词的药食同源.csv',encoding = 'utf-8')\n",
    "t = df.shape[0]\n",
    "t"
   ]
  },
  {
   "cell_type": "code",
   "execution_count": 14,
   "metadata": {},
   "outputs": [],
   "source": [
    "\"\"\"\n",
    "函数功能:随机切分训练集和测试集\n",
    "参数说明:\n",
    "dataSet:输入的数据集\n",
    "rate:训练集所占比例\n",
    "返回:切分好的训练集和测试集\n",
    "\"\"\"\n",
    "def randSplit(dataSet, rate):\n",
    "    l = list(dataSet.index) #提取序列号出索引\n",
    "    random.shuffle(l) #随机打乱索引\n",
    "#     print(l)\n",
    "    dataSet.index = l #将打乱后的索引重新赋值给原数据集\n",
    "    n = dataSet.shape[0] #总行数\n",
    "    m = int(n * rate) #训练集的数量\n",
    "    test= dataSet.loc[range(m), :] #提取前m个记录作为样本\n",
    "    dataSet.index = range(dataSet.shape[0]) #更新原数据集的索引\n",
    "    test.index = range(test.shape[0])\n",
    "    #更新测试集的索引\n",
    "    return test"
   ]
  },
  {
   "cell_type": "code",
   "execution_count": 15,
   "metadata": {},
   "outputs": [
    {
     "data": {
      "text/plain": [
       "1268"
      ]
     },
     "execution_count": 15,
     "metadata": {},
     "output_type": "execute_result"
    }
   ],
   "source": [
    "df= randSplit(df, 0.8)#抽取80%作为样本\n",
    "d = df.shape[0]\n",
    "d"
   ]
  },
  {
   "cell_type": "code",
   "execution_count": 32,
   "metadata": {},
   "outputs": [
    {
     "data": {
      "text/plain": [
       "0.7112824106517169"
      ]
     },
     "execution_count": 32,
     "metadata": {},
     "output_type": "execute_result"
    }
   ],
   "source": [
    "acc = (df.loc[:,'人工分词']==df.loc[:,'没引进词表的jieba提取的中药材']).mean()\n",
    "acc #准确率0.8126232741617357\n",
    "r = d*acc/t\n",
    "r#召回率0.6399747793190416\n",
    "f= acc*r*2/(acc+r)\n",
    "f#F值 0.7112824106517169"
   ]
  },
  {
   "cell_type": "code",
   "execution_count": 33,
   "metadata": {},
   "outputs": [
    {
     "data": {
      "text/plain": [
       "0.770147161878066"
      ]
     },
     "execution_count": 33,
     "metadata": {},
     "output_type": "execute_result"
    }
   ],
   "source": [
    "acc = (df.loc[:,'人工分词']==df.loc[:,'引进词表的jieba提取的中药材']).mean()\n",
    "acc#准确率0.878698224852071\n",
    "r = d*acc/t\n",
    "r#召回率0.692938209331652\n",
    "f= acc*r*2/(acc+r)\n",
    "f#F值 0.770147161878066"
   ]
  },
  {
   "cell_type": "code",
   "execution_count": 21,
   "metadata": {},
   "outputs": [
    {
     "data": {
      "text/plain": [
       "0.6594253679046953"
      ]
     },
     "execution_count": 21,
     "metadata": {},
     "output_type": "execute_result"
    }
   ],
   "source": [
    "acc = (df.loc[:,'人工分词']==df.loc[:,'plt载入词表的分词']).mean()\n",
    "acc#准确率0.7421135646687698\n",
    "r = d*acc/t\n",
    "r#召回率0.5933165195460278\n",
    "f= acc*r*2/(acc+r)\n",
    "f#F值 0.6517168885774351"
   ]
  },
  {
   "cell_type": "code",
   "execution_count": 18,
   "metadata": {},
   "outputs": [
    {
     "data": {
      "text/plain": [
       "0.6650315346881569"
      ]
     },
     "execution_count": 18,
     "metadata": {},
     "output_type": "execute_result"
    }
   ],
   "source": [
    "acc = (df.loc[:,'人工分词']==df.loc[:,'plt没载入词表的分词']).mean()\n",
    "acc#准确率0.748422712933754\n",
    "r = d*acc/t\n",
    "r#召回率0.5983606557377049\n",
    "f= acc*r*2/(acc+r)\n",
    "f#F值 0.6650315346881569"
   ]
  },
  {
   "cell_type": "code",
   "execution_count": 36,
   "metadata": {},
   "outputs": [
    {
     "data": {
      "text/plain": [
       "0.5837421163279608"
      ]
     },
     "execution_count": 36,
     "metadata": {},
     "output_type": "execute_result"
    }
   ],
   "source": [
    "acc = (df.loc[:,'人工分词']==df.loc[:,'thulac没引进词表的分词']).mean()\n",
    "acc#0.665680473372781\n",
    "r = d*acc/t\n",
    "r#召回率0.5252206809583859\n",
    "f= acc*r*2/(acc+r)\n",
    "f#F值 0.5837421163279608"
   ]
  },
  {
   "cell_type": "code",
   "execution_count": 37,
   "metadata": {},
   "outputs": [
    {
     "data": {
      "text/plain": [
       "0.6678346180798879"
      ]
     },
     "execution_count": 37,
     "metadata": {},
     "output_type": "execute_result"
    }
   ],
   "source": [
    "acc = (df.loc[:,'人工分词']==df.loc[:,'thulac引进词表的分词']).mean()\n",
    "acc#准确率0.7534516765285996\n",
    "r = d*acc/t\n",
    "r#召回率0.6008827238335435\n",
    "f= acc*r*2/(acc+r)\n",
    "f#F值 0.6678346180798879"
   ]
  },
  {
   "cell_type": "code",
   "execution_count": 6,
   "metadata": {},
   "outputs": [
    {
     "data": {
      "text/plain": [
       "0.5192711983181499"
      ]
     },
     "execution_count": 6,
     "metadata": {},
     "output_type": "execute_result"
    }
   ],
   "source": [
    "acc = (df.loc[:,'人工分词']==df.loc[:,'没进词表的pynlpir提取的中药材']).mean()\n",
    "acc#准确率0.5867850098619329\n",
    "r = d*acc/t\n",
    "r#召回率 0.4665825977301387\n",
    "f= acc*r*2/(acc+r)\n",
    "f#F值 0.5192711983181499"
   ]
  },
  {
   "cell_type": "code",
   "execution_count": 38,
   "metadata": {},
   "outputs": [
    {
     "data": {
      "text/plain": [
       "0.690960056061668"
      ]
     },
     "execution_count": 38,
     "metadata": {},
     "output_type": "execute_result"
    }
   ],
   "source": [
    "acc = (df.loc[:,'人工分词']==df.loc[:,'引进词表的pynlpir提取的中药材']).mean()\n",
    "acc#准确率0.796844181459566\n",
    "r = d*acc/t\n",
    "r#召回率 0.621689785624212\n",
    "f= acc*r*2/(acc+r)\n",
    "f#F值 0.690960056061668"
   ]
  },
  {
   "cell_type": "code",
   "execution_count": null,
   "metadata": {},
   "outputs": [],
   "source": []
  }
 ],
 "metadata": {
  "kernelspec": {
   "display_name": "Python 3",
   "language": "python",
   "name": "python3"
  },
  "language_info": {
   "codemirror_mode": {
    "name": "ipython",
    "version": 3
   },
   "file_extension": ".py",
   "mimetype": "text/x-python",
   "name": "python",
   "nbconvert_exporter": "python",
   "pygments_lexer": "ipython3",
   "version": "3.8.5"
  }
 },
 "nbformat": 4,
 "nbformat_minor": 4
}
