{
 "cells": [
  {
   "cell_type": "code",
   "execution_count": 61,
   "metadata": {},
   "outputs": [],
   "source": [
    "import numpy as np\n",
    "import pandas as pd\n",
    "import matplotlib.pyplot as plt\n",
    "import jieba\n",
    "%matplotlib inline \n",
    "#jupyter notebook一定运行这一行代码，在cell中显示图形"
   ]
  },
  {
   "cell_type": "code",
   "execution_count": 62,
   "metadata": {},
   "outputs": [],
   "source": [
    "df = pd.read_csv('药食同源1.csv',encoding= 'utf-8')"
   ]
  },
  {
   "cell_type": "code",
   "execution_count": 63,
   "metadata": {},
   "outputs": [
    {
     "name": "stdout",
     "output_type": "stream",
     "text": [
      "<class 'pandas.core.frame.DataFrame'>\n",
      "RangeIndex: 3421 entries, 0 to 3420\n",
      "Data columns (total 4 columns):\n",
      " #   Column  Non-Null Count  Dtype \n",
      "---  ------  --------------  ----- \n",
      " 0   篇名      3421 non-null   object\n",
      " 1   作者      3243 non-null   object\n",
      " 2   关键词     2879 non-null   object\n",
      " 3   摘要      3420 non-null   object\n",
      "dtypes: object(4)\n",
      "memory usage: 107.0+ KB\n"
     ]
    }
   ],
   "source": [
    "df.info()#了解数据结构，说明这个数据中有很多空数据"
   ]
  },
  {
   "cell_type": "code",
   "execution_count": 64,
   "metadata": {},
   "outputs": [
    {
     "data": {
      "text/html": [
       "<div>\n",
       "<style scoped>\n",
       "    .dataframe tbody tr th:only-of-type {\n",
       "        vertical-align: middle;\n",
       "    }\n",
       "\n",
       "    .dataframe tbody tr th {\n",
       "        vertical-align: top;\n",
       "    }\n",
       "\n",
       "    .dataframe thead th {\n",
       "        text-align: right;\n",
       "    }\n",
       "</style>\n",
       "<table border=\"1\" class=\"dataframe\">\n",
       "  <thead>\n",
       "    <tr style=\"text-align: right;\">\n",
       "      <th></th>\n",
       "      <th>篇名</th>\n",
       "      <th>作者</th>\n",
       "      <th>关键词</th>\n",
       "      <th>摘要</th>\n",
       "    </tr>\n",
       "  </thead>\n",
       "  <tbody>\n",
       "    <tr>\n",
       "      <th>0</th>\n",
       "      <td>药食同源利水方治疗原发性肝癌腹水的临床研究</td>\n",
       "      <td>郝爱凤</td>\n",
       "      <td>药食同源利水方,原发性肝癌腹水,临床治疗效果</td>\n",
       "      <td>目的研究药食同源利水方治疗原发性肝癌腹水的临床治疗效果,为临床治疗工作的开展提供必要保障.方...</td>\n",
       "    </tr>\n",
       "    <tr>\n",
       "      <th>1</th>\n",
       "      <td>大学生创新创业实践——以亳州学院\"药食同源烘焙坊\"创业实践项目为例</td>\n",
       "      <td>李娜,季思膊,李莹莹,杨雨琴,王婷,肖白云</td>\n",
       "      <td>大学生创新创业训练,药食同源,烘焙坊</td>\n",
       "      <td>在\"双创\"的背景下,国家大力支持大学生进行创新创业训练,亳州学院\"药食同源烘焙坊\"创业实践项...</td>\n",
       "    </tr>\n",
       "    <tr>\n",
       "      <th>2</th>\n",
       "      <td>黄芪等药食同源类中药作为功能性食品与肠道菌群的相互作用</td>\n",
       "      <td>田雨,丁艳平,邵宝平,杨晶,吴建国</td>\n",
       "      <td>黄芪,药食同源,功能性成分,肠道菌群,中草药功能性食品</td>\n",
       "      <td>中草药是我国文化的瑰宝,中医理论是中国传统医学的核心,其中的许多理念都可以与现代食品工业中的...</td>\n",
       "    </tr>\n",
       "    <tr>\n",
       "      <th>3</th>\n",
       "      <td>药食同源植物葛根的研究进展</td>\n",
       "      <td>董彐倩,梅瑜,王继华,黄能旭,蔡时可</td>\n",
       "      <td>药食同源,葛根,化学成分,食品开发,育种</td>\n",
       "      <td>葛根营养丰富,是一种重要的药食同源植物,可开发为多种药用和保健食品,市场前景广阔.综述了葛根...</td>\n",
       "    </tr>\n",
       "    <tr>\n",
       "      <th>4</th>\n",
       "      <td>药食同源蔬菜赤苍藤新品种桂赤苍藤号和桂赤苍藤号的选育</td>\n",
       "      <td>张尚文,李婷,石前,潘颖南,庾韦花,蒙平,张向军</td>\n",
       "      <td>赤苍藤,桂赤苍藤号,桂赤苍藤号,药食同源蔬菜</td>\n",
       "      <td>桂赤苍藤号和桂赤苍藤号是从广西野生赤苍藤种质资源中筛选出的优良株系,采用组培快繁为主、扦插繁...</td>\n",
       "    </tr>\n",
       "  </tbody>\n",
       "</table>\n",
       "</div>"
      ],
      "text/plain": [
       "                                  篇名                        作者  \\\n",
       "0              药食同源利水方治疗原发性肝癌腹水的临床研究                       郝爱凤   \n",
       "1  大学生创新创业实践——以亳州学院\"药食同源烘焙坊\"创业实践项目为例     李娜,季思膊,李莹莹,杨雨琴,王婷,肖白云   \n",
       "2        黄芪等药食同源类中药作为功能性食品与肠道菌群的相互作用         田雨,丁艳平,邵宝平,杨晶,吴建国   \n",
       "3                      药食同源植物葛根的研究进展        董彐倩,梅瑜,王继华,黄能旭,蔡时可   \n",
       "4         药食同源蔬菜赤苍藤新品种桂赤苍藤号和桂赤苍藤号的选育  张尚文,李婷,石前,潘颖南,庾韦花,蒙平,张向军   \n",
       "\n",
       "                           关键词  \\\n",
       "0       药食同源利水方,原发性肝癌腹水,临床治疗效果   \n",
       "1           大学生创新创业训练,药食同源,烘焙坊   \n",
       "2  黄芪,药食同源,功能性成分,肠道菌群,中草药功能性食品   \n",
       "3         药食同源,葛根,化学成分,食品开发,育种   \n",
       "4       赤苍藤,桂赤苍藤号,桂赤苍藤号,药食同源蔬菜   \n",
       "\n",
       "                                                  摘要  \n",
       "0  目的研究药食同源利水方治疗原发性肝癌腹水的临床治疗效果,为临床治疗工作的开展提供必要保障.方...  \n",
       "1  在\"双创\"的背景下,国家大力支持大学生进行创新创业训练,亳州学院\"药食同源烘焙坊\"创业实践项...  \n",
       "2  中草药是我国文化的瑰宝,中医理论是中国传统医学的核心,其中的许多理念都可以与现代食品工业中的...  \n",
       "3  葛根营养丰富,是一种重要的药食同源植物,可开发为多种药用和保健食品,市场前景广阔.综述了葛根...  \n",
       "4  桂赤苍藤号和桂赤苍藤号是从广西野生赤苍藤种质资源中筛选出的优良株系,采用组培快繁为主、扦插繁...  "
      ]
     },
     "execution_count": 64,
     "metadata": {},
     "output_type": "execute_result"
    }
   ],
   "source": [
    "df.head()"
   ]
  },
  {
   "cell_type": "code",
   "execution_count": 65,
   "metadata": {},
   "outputs": [
    {
     "data": {
      "text/plain": [
       "(3421, 4)"
      ]
     },
     "execution_count": 65,
     "metadata": {},
     "output_type": "execute_result"
    }
   ],
   "source": [
    "df.shape#了解数据形状"
   ]
  },
  {
   "cell_type": "code",
   "execution_count": 66,
   "metadata": {},
   "outputs": [
    {
     "data": {
      "text/html": [
       "<div>\n",
       "<style scoped>\n",
       "    .dataframe tbody tr th:only-of-type {\n",
       "        vertical-align: middle;\n",
       "    }\n",
       "\n",
       "    .dataframe tbody tr th {\n",
       "        vertical-align: top;\n",
       "    }\n",
       "\n",
       "    .dataframe thead th {\n",
       "        text-align: right;\n",
       "    }\n",
       "</style>\n",
       "<table border=\"1\" class=\"dataframe\">\n",
       "  <thead>\n",
       "    <tr style=\"text-align: right;\">\n",
       "      <th></th>\n",
       "      <th>篇名</th>\n",
       "      <th>作者</th>\n",
       "      <th>关键词</th>\n",
       "      <th>摘要</th>\n",
       "    </tr>\n",
       "  </thead>\n",
       "  <tbody>\n",
       "    <tr>\n",
       "      <th>count</th>\n",
       "      <td>3421</td>\n",
       "      <td>3243</td>\n",
       "      <td>2879</td>\n",
       "      <td>3420</td>\n",
       "    </tr>\n",
       "    <tr>\n",
       "      <th>unique</th>\n",
       "      <td>3140</td>\n",
       "      <td>2787</td>\n",
       "      <td>2844</td>\n",
       "      <td>3420</td>\n",
       "    </tr>\n",
       "    <tr>\n",
       "      <th>top</th>\n",
       "      <td>药食同源中药抗衰老研究进展</td>\n",
       "      <td>吴向红,余杰</td>\n",
       "      <td>@@</td>\n",
       "      <td>古有“神农尝百草”。今有神农庄园精选各种“药食同源”的食材。在夏初呈现各式新鲜味。无论是新鲜...</td>\n",
       "    </tr>\n",
       "    <tr>\n",
       "      <th>freq</th>\n",
       "      <td>6</td>\n",
       "      <td>11</td>\n",
       "      <td>3</td>\n",
       "      <td>1</td>\n",
       "    </tr>\n",
       "  </tbody>\n",
       "</table>\n",
       "</div>"
      ],
      "text/plain": [
       "                   篇名      作者   关键词  \\\n",
       "count            3421    3243  2879   \n",
       "unique           3140    2787  2844   \n",
       "top     药食同源中药抗衰老研究进展  吴向红,余杰    @@   \n",
       "freq                6      11     3   \n",
       "\n",
       "                                                       摘要  \n",
       "count                                                3420  \n",
       "unique                                               3420  \n",
       "top     古有“神农尝百草”。今有神农庄园精选各种“药食同源”的食材。在夏初呈现各式新鲜味。无论是新鲜...  \n",
       "freq                                                    1  "
      ]
     },
     "execution_count": 66,
     "metadata": {},
     "output_type": "execute_result"
    }
   ],
   "source": [
    "df.describe()"
   ]
  },
  {
   "cell_type": "code",
   "execution_count": 68,
   "metadata": {},
   "outputs": [
    {
     "data": {
      "text/plain": [
       "0"
      ]
     },
     "execution_count": 68,
     "metadata": {},
     "output_type": "execute_result"
    }
   ],
   "source": [
    "df.duplicated().sum()#有14个重复值"
   ]
  },
  {
   "cell_type": "code",
   "execution_count": 69,
   "metadata": {},
   "outputs": [],
   "source": [
    "df.drop_duplicates(inplace=True) "
   ]
  },
  {
   "cell_type": "code",
   "execution_count": 21,
   "metadata": {},
   "outputs": [
    {
     "data": {
      "text/html": [
       "<div>\n",
       "<style scoped>\n",
       "    .dataframe tbody tr th:only-of-type {\n",
       "        vertical-align: middle;\n",
       "    }\n",
       "\n",
       "    .dataframe tbody tr th {\n",
       "        vertical-align: top;\n",
       "    }\n",
       "\n",
       "    .dataframe thead th {\n",
       "        text-align: right;\n",
       "    }\n",
       "</style>\n",
       "<table border=\"1\" class=\"dataframe\">\n",
       "  <thead>\n",
       "    <tr style=\"text-align: right;\">\n",
       "      <th></th>\n",
       "      <th>篇名</th>\n",
       "      <th>作者</th>\n",
       "      <th>关键词</th>\n",
       "      <th>摘要</th>\n",
       "    </tr>\n",
       "  </thead>\n",
       "  <tbody>\n",
       "    <tr>\n",
       "      <th>count</th>\n",
       "      <td>3421</td>\n",
       "      <td>3243</td>\n",
       "      <td>2879</td>\n",
       "      <td>3420</td>\n",
       "    </tr>\n",
       "    <tr>\n",
       "      <th>unique</th>\n",
       "      <td>3140</td>\n",
       "      <td>2787</td>\n",
       "      <td>2844</td>\n",
       "      <td>3420</td>\n",
       "    </tr>\n",
       "    <tr>\n",
       "      <th>top</th>\n",
       "      <td>药食同源中药抗衰老研究进展</td>\n",
       "      <td>吴向红,余杰</td>\n",
       "      <td>@@</td>\n",
       "      <td>古有“神农尝百草”。今有神农庄园精选各种“药食同源”的食材。在夏初呈现各式新鲜味。无论是新鲜...</td>\n",
       "    </tr>\n",
       "    <tr>\n",
       "      <th>freq</th>\n",
       "      <td>6</td>\n",
       "      <td>11</td>\n",
       "      <td>3</td>\n",
       "      <td>1</td>\n",
       "    </tr>\n",
       "  </tbody>\n",
       "</table>\n",
       "</div>"
      ],
      "text/plain": [
       "                   篇名      作者   关键词  \\\n",
       "count            3421    3243  2879   \n",
       "unique           3140    2787  2844   \n",
       "top     药食同源中药抗衰老研究进展  吴向红,余杰    @@   \n",
       "freq                6      11     3   \n",
       "\n",
       "                                                       摘要  \n",
       "count                                                3420  \n",
       "unique                                               3420  \n",
       "top     古有“神农尝百草”。今有神农庄园精选各种“药食同源”的食材。在夏初呈现各式新鲜味。无论是新鲜...  \n",
       "freq                                                    1  "
      ]
     },
     "execution_count": 21,
     "metadata": {},
     "output_type": "execute_result"
    }
   ],
   "source": [
    "df.describe()"
   ]
  },
  {
   "cell_type": "code",
   "execution_count": 70,
   "metadata": {},
   "outputs": [
    {
     "data": {
      "text/html": [
       "<div>\n",
       "<style scoped>\n",
       "    .dataframe tbody tr th:only-of-type {\n",
       "        vertical-align: middle;\n",
       "    }\n",
       "\n",
       "    .dataframe tbody tr th {\n",
       "        vertical-align: top;\n",
       "    }\n",
       "\n",
       "    .dataframe thead th {\n",
       "        text-align: right;\n",
       "    }\n",
       "</style>\n",
       "<table border=\"1\" class=\"dataframe\">\n",
       "  <thead>\n",
       "    <tr style=\"text-align: right;\">\n",
       "      <th></th>\n",
       "      <th>篇名</th>\n",
       "      <th>作者</th>\n",
       "      <th>关键词</th>\n",
       "      <th>摘要</th>\n",
       "    </tr>\n",
       "  </thead>\n",
       "  <tbody>\n",
       "    <tr>\n",
       "      <th>36</th>\n",
       "      <td>肝癌合并腹水患者应用药食同源利水方治疗的临床效果观察</td>\n",
       "      <td>郝爱凤</td>\n",
       "      <td>肝癌腹水,药食同源利水方,中西医联合治疗</td>\n",
       "      <td>目的对应用药食同源利水方治疗肝癌合并腹水患者的临床效果进行观察分析.方法对治疗的肝癌合并腹水...</td>\n",
       "    </tr>\n",
       "    <tr>\n",
       "      <th>167</th>\n",
       "      <td>药食同源药材中重金属铬的污染状况评价</td>\n",
       "      <td>金波,马辰</td>\n",
       "      <td>重金属,铬,药食同源药材,污染,石墨炉原子吸收法</td>\n",
       "      <td>目的:评价药食同源药材中重金属铬的污染状况.方法:采用微波消解-石墨炉原子吸收法测定个药食同...</td>\n",
       "    </tr>\n",
       "    <tr>\n",
       "      <th>178</th>\n",
       "      <td>氢化物发生-原子荧光法同时测定药食同源药材中痕量锡和铋</td>\n",
       "      <td>金波,马辰</td>\n",
       "      <td>氢化物发生-原子荧光光度法,锡,铋,药食同源药材</td>\n",
       "      <td>目的:建立氢化物发生-原子荧光法同时测定药食同源药材中锡和铋的分析方法.方法:以比色管作消化...</td>\n",
       "    </tr>\n",
       "    <tr>\n",
       "      <th>194</th>\n",
       "      <td>中华大健康、未来大趋势——国家中医“药食同源”亚健康调理方案凌绍棠</td>\n",
       "      <td>NaN</td>\n",
       "      <td>大健康,国家,中医,药食同源,亚健康,生物科技园,生命科学研究,环保项目,股份,战略合作,文...</td>\n",
       "      <td>中圣和文化发展(集团)股份有限公司简称中圣和,是—家集大健康、大环保、大互联、大生态、大旅游...</td>\n",
       "    </tr>\n",
       "    <tr>\n",
       "      <th>198</th>\n",
       "      <td>药食同源解决糖友夏日烦恼之口渴</td>\n",
       "      <td>景然</td>\n",
       "      <td>药食同源,口渴,饮水量,夏季,四气调神大论,自然环境,气候特点,体生长,医经,养生,干渴,地气</td>\n",
       "      <td>夏季已经来临,烈日炎炎,万物生长.《素问·四气调神大论》中所说:“夏三月,此谓蕃秀;天地气交...</td>\n",
       "    </tr>\n",
       "    <tr>\n",
       "      <th>...</th>\n",
       "      <td>...</td>\n",
       "      <td>...</td>\n",
       "      <td>...</td>\n",
       "      <td>...</td>\n",
       "    </tr>\n",
       "    <tr>\n",
       "      <th>3414</th>\n",
       "      <td>金华青菱—泥鳅生态套养模式</td>\n",
       "      <td>严志萱,施政杰,徐小燕,杜利鑫,阮进华</td>\n",
       "      <td>水生草本植物;水中人参;药食同源植物;浮叶;菱属;营养价值;套养;产业前景;模式优势;枯枝落叶;</td>\n",
       "      <td>菱属一年生浮叶水生草本植物,泥鳅是杂食性小型淡水鱼类,可在水中共生同存。不同之处是,菱是药食...</td>\n",
       "    </tr>\n",
       "    <tr>\n",
       "      <th>3415</th>\n",
       "      <td>无公害牛蒡的栽培管理</td>\n",
       "      <td>王洁,王文,王丹丹</td>\n",
       "      <td>牛蒡根;大力子;Arctium;药食同源植物;lappa;家畜饲料;茎生叶;花冠筒;伞房状;...</td>\n",
       "      <td>牛蒡（ArctiumlappaL）为二年生菊科植物,是药食同源植物,牛蒡根产量大,牛蒡种子为...</td>\n",
       "    </tr>\n",
       "    <tr>\n",
       "      <th>3416</th>\n",
       "      <td>不同主食构成对型糖尿病患者血糖及血脂影响的比较</td>\n",
       "      <td>张家瑜,马方,刘鹏举,何书励,方京徽</td>\n",
       "      <td>型糖尿病;药食同源谷物粉;小麦膳食纤维;</td>\n",
       "      <td>目的：比较添加药食同源谷物粉与小麦膳食纤维的主食对型糖尿病患者血糖控制的影响。方法：例型糖尿...</td>\n",
       "    </tr>\n",
       "    <tr>\n",
       "      <th>3418</th>\n",
       "      <td>四种植物的乙醇提取液对鸡蛋保鲜效果的比较研究</td>\n",
       "      <td>王婵,马敬中,袁超</td>\n",
       "      <td>鸡蛋;金银花;药食同源物品;乙醇提取物;</td>\n",
       "      <td>研究对鸡蛋保鲜有效的中草药提取液。采用银杏叶、金银花、蒲公英和肉桂皮种植物的乙醇提取液作为保...</td>\n",
       "    </tr>\n",
       "    <tr>\n",
       "      <th>3419</th>\n",
       "      <td>枸杞天然精华素——枸杞籽油</td>\n",
       "      <td>NaN</td>\n",
       "      <td>枸杞籽;现代科学;枸杞多糖;滋阴补肾;精华素;药食同源植物;甜菜碱;生物活性物质;超氧化歧化...</td>\n",
       "      <td>&lt;正&gt;枸杞是药食同源植物,传统药物学认为枸杞滋阴补肾、明目、强身健体,现代科学分析枸杞的主要...</td>\n",
       "    </tr>\n",
       "  </tbody>\n",
       "</table>\n",
       "<p>633 rows × 4 columns</p>\n",
       "</div>"
      ],
      "text/plain": [
       "                                     篇名                   作者  \\\n",
       "36           肝癌合并腹水患者应用药食同源利水方治疗的临床效果观察                  郝爱凤   \n",
       "167                  药食同源药材中重金属铬的污染状况评价                金波,马辰   \n",
       "178         氢化物发生-原子荧光法同时测定药食同源药材中痕量锡和铋                金波,马辰   \n",
       "194   中华大健康、未来大趋势——国家中医“药食同源”亚健康调理方案凌绍棠                  NaN   \n",
       "198                     药食同源解决糖友夏日烦恼之口渴                   景然   \n",
       "...                                 ...                  ...   \n",
       "3414                      金华青菱—泥鳅生态套养模式  严志萱,施政杰,徐小燕,杜利鑫,阮进华   \n",
       "3415                         无公害牛蒡的栽培管理            王洁,王文,王丹丹   \n",
       "3416            不同主食构成对型糖尿病患者血糖及血脂影响的比较   张家瑜,马方,刘鹏举,何书励,方京徽   \n",
       "3418             四种植物的乙醇提取液对鸡蛋保鲜效果的比较研究            王婵,马敬中,袁超   \n",
       "3419                      枸杞天然精华素——枸杞籽油                  NaN   \n",
       "\n",
       "                                                    关键词  \\\n",
       "36                                 肝癌腹水,药食同源利水方,中西医联合治疗   \n",
       "167                            重金属,铬,药食同源药材,污染,石墨炉原子吸收法   \n",
       "178                            氢化物发生-原子荧光光度法,锡,铋,药食同源药材   \n",
       "194   大健康,国家,中医,药食同源,亚健康,生物科技园,生命科学研究,环保项目,股份,战略合作,文...   \n",
       "198     药食同源,口渴,饮水量,夏季,四气调神大论,自然环境,气候特点,体生长,医经,养生,干渴,地气   \n",
       "...                                                 ...   \n",
       "3414   水生草本植物;水中人参;药食同源植物;浮叶;菱属;营养价值;套养;产业前景;模式优势;枯枝落叶;   \n",
       "3415  牛蒡根;大力子;Arctium;药食同源植物;lappa;家畜饲料;茎生叶;花冠筒;伞房状;...   \n",
       "3416                               型糖尿病;药食同源谷物粉;小麦膳食纤维;   \n",
       "3418                               鸡蛋;金银花;药食同源物品;乙醇提取物;   \n",
       "3419  枸杞籽;现代科学;枸杞多糖;滋阴补肾;精华素;药食同源植物;甜菜碱;生物活性物质;超氧化歧化...   \n",
       "\n",
       "                                                     摘要  \n",
       "36    目的对应用药食同源利水方治疗肝癌合并腹水患者的临床效果进行观察分析.方法对治疗的肝癌合并腹水...  \n",
       "167   目的:评价药食同源药材中重金属铬的污染状况.方法:采用微波消解-石墨炉原子吸收法测定个药食同...  \n",
       "178   目的:建立氢化物发生-原子荧光法同时测定药食同源药材中锡和铋的分析方法.方法:以比色管作消化...  \n",
       "194   中圣和文化发展(集团)股份有限公司简称中圣和,是—家集大健康、大环保、大互联、大生态、大旅游...  \n",
       "198   夏季已经来临,烈日炎炎,万物生长.《素问·四气调神大论》中所说:“夏三月,此谓蕃秀;天地气交...  \n",
       "...                                                 ...  \n",
       "3414  菱属一年生浮叶水生草本植物,泥鳅是杂食性小型淡水鱼类,可在水中共生同存。不同之处是,菱是药食...  \n",
       "3415  牛蒡（ArctiumlappaL）为二年生菊科植物,是药食同源植物,牛蒡根产量大,牛蒡种子为...  \n",
       "3416  目的：比较添加药食同源谷物粉与小麦膳食纤维的主食对型糖尿病患者血糖控制的影响。方法：例型糖尿...  \n",
       "3418  研究对鸡蛋保鲜有效的中草药提取液。采用银杏叶、金银花、蒲公英和肉桂皮种植物的乙醇提取液作为保...  \n",
       "3419  <正>枸杞是药食同源植物,传统药物学认为枸杞滋阴补肾、明目、强身健体,现代科学分析枸杞的主要...  \n",
       "\n",
       "[633 rows x 4 columns]"
      ]
     },
     "execution_count": 70,
     "metadata": {},
     "output_type": "execute_result"
    }
   ],
   "source": [
    "#df[df['作者'].duplicated()]#and df['作者'].duplicated()] "
   ]
  },
  {
   "cell_type": "code",
   "execution_count": 29,
   "metadata": {},
   "outputs": [
    {
     "data": {
      "text/html": [
       "<div>\n",
       "<style scoped>\n",
       "    .dataframe tbody tr th:only-of-type {\n",
       "        vertical-align: middle;\n",
       "    }\n",
       "\n",
       "    .dataframe tbody tr th {\n",
       "        vertical-align: top;\n",
       "    }\n",
       "\n",
       "    .dataframe thead th {\n",
       "        text-align: right;\n",
       "    }\n",
       "</style>\n",
       "<table border=\"1\" class=\"dataframe\">\n",
       "  <thead>\n",
       "    <tr style=\"text-align: right;\">\n",
       "      <th></th>\n",
       "      <th>篇名</th>\n",
       "      <th>作者</th>\n",
       "      <th>关键词</th>\n",
       "      <th>摘要</th>\n",
       "    </tr>\n",
       "  </thead>\n",
       "  <tbody>\n",
       "    <tr>\n",
       "      <th>count</th>\n",
       "      <td>3421</td>\n",
       "      <td>3243</td>\n",
       "      <td>2879</td>\n",
       "      <td>3420</td>\n",
       "    </tr>\n",
       "    <tr>\n",
       "      <th>unique</th>\n",
       "      <td>3140</td>\n",
       "      <td>2787</td>\n",
       "      <td>2844</td>\n",
       "      <td>3420</td>\n",
       "    </tr>\n",
       "    <tr>\n",
       "      <th>top</th>\n",
       "      <td>药食同源中药抗衰老研究进展</td>\n",
       "      <td>吴向红,余杰</td>\n",
       "      <td>@@</td>\n",
       "      <td>古有“神农尝百草”。今有神农庄园精选各种“药食同源”的食材。在夏初呈现各式新鲜味。无论是新鲜...</td>\n",
       "    </tr>\n",
       "    <tr>\n",
       "      <th>freq</th>\n",
       "      <td>6</td>\n",
       "      <td>11</td>\n",
       "      <td>3</td>\n",
       "      <td>1</td>\n",
       "    </tr>\n",
       "  </tbody>\n",
       "</table>\n",
       "</div>"
      ],
      "text/plain": [
       "                   篇名      作者   关键词  \\\n",
       "count            3421    3243  2879   \n",
       "unique           3140    2787  2844   \n",
       "top     药食同源中药抗衰老研究进展  吴向红,余杰    @@   \n",
       "freq                6      11     3   \n",
       "\n",
       "                                                       摘要  \n",
       "count                                                3420  \n",
       "unique                                               3420  \n",
       "top     古有“神农尝百草”。今有神农庄园精选各种“药食同源”的食材。在夏初呈现各式新鲜味。无论是新鲜...  \n",
       "freq                                                    1  "
      ]
     },
     "execution_count": 29,
     "metadata": {},
     "output_type": "execute_result"
    }
   ],
   "source": [
    "df.describe()"
   ]
  },
  {
   "cell_type": "code",
   "execution_count": 71,
   "metadata": {},
   "outputs": [
    {
     "data": {
      "text/plain": [
       "281"
      ]
     },
     "execution_count": 71,
     "metadata": {},
     "output_type": "execute_result"
    }
   ],
   "source": [
    "aa= [] ##将列表中所有重复的行元素删除\n",
    "i=0\n",
    "while (i<len(df[df['篇名'].duplicated()])):\n",
    "    aa.append(df[df['篇名'].duplicated()].index[i])\n",
    "    i+=1\n",
    "i=0\n",
    "len(aa)\n",
    "# bb=[]\n",
    "# while (i<len(df[df['作者'].duplicated()])):\n",
    "#     bb.append(df[df['作者'].duplicated()].index[i])\n",
    "#     i+=1\n",
    "# i"
   ]
  },
  {
   "cell_type": "code",
   "execution_count": 46,
   "metadata": {},
   "outputs": [],
   "source": [
    "# for c in bb:\n",
    "#     if (c in aa) :\n",
    "#         df.drop(c,inplace= True)"
   ]
  },
  {
   "cell_type": "code",
   "execution_count": 72,
   "metadata": {},
   "outputs": [
    {
     "data": {
      "text/html": [
       "<div>\n",
       "<style scoped>\n",
       "    .dataframe tbody tr th:only-of-type {\n",
       "        vertical-align: middle;\n",
       "    }\n",
       "\n",
       "    .dataframe tbody tr th {\n",
       "        vertical-align: top;\n",
       "    }\n",
       "\n",
       "    .dataframe thead th {\n",
       "        text-align: right;\n",
       "    }\n",
       "</style>\n",
       "<table border=\"1\" class=\"dataframe\">\n",
       "  <thead>\n",
       "    <tr style=\"text-align: right;\">\n",
       "      <th></th>\n",
       "      <th>篇名</th>\n",
       "      <th>作者</th>\n",
       "      <th>关键词</th>\n",
       "      <th>摘要</th>\n",
       "    </tr>\n",
       "  </thead>\n",
       "  <tbody>\n",
       "    <tr>\n",
       "      <th>58</th>\n",
       "      <td>河北省药食同源大豆产业发展现状及对策</td>\n",
       "      <td>胡春芳,李敏,冯改静</td>\n",
       "      <td>河北省,药食同源,大豆,种植面积,产量,加工企业,发展现状,存在问题,建议</td>\n",
       "      <td>对河北省药食同源大豆的种植生产情况、加工企业现状进行分析,发现存在的问题,以期提出大豆产业发...</td>\n",
       "    </tr>\n",
       "    <tr>\n",
       "      <th>91</th>\n",
       "      <td>药食同源中药抗衰老研究进展</td>\n",
       "      <td>薛立英,高丽,秦雪梅,杜冠华,周玉枝</td>\n",
       "      <td>抗衰老,药食同源,抗氧化,机制</td>\n",
       "      <td>“药食同源”即“医食同源,药食同根”,药食同源中药兼具了丰富的营养价值和药用价值.近年来,对...</td>\n",
       "    </tr>\n",
       "    <tr>\n",
       "      <th>132</th>\n",
       "      <td>药食同源植物的营养价值分析</td>\n",
       "      <td>姜程曦,程锦国,罗婷</td>\n",
       "      <td>药食同源植物,传统营养学,现代营养学</td>\n",
       "      <td>“医食同源,药食同根”,药食同源植物兼具了丰富的营养价值和药用价值,目前国内外越来越重视药食...</td>\n",
       "    </tr>\n",
       "    <tr>\n",
       "      <th>134</th>\n",
       "      <td>药食同源中草药在功能饮料开发中的应用进展</td>\n",
       "      <td>刘晓,林太凤</td>\n",
       "      <td>功能饮料,药食同源,中草药,开发,应用进展</td>\n",
       "      <td>随着功能饮料行业的蓬勃发展,药食同源中草药在功能饮料开发研究中起着重要作用.在此对几种常见药...</td>\n",
       "    </tr>\n",
       "    <tr>\n",
       "      <th>334</th>\n",
       "      <td>药食同源话枸杞</td>\n",
       "      <td>崔海燕</td>\n",
       "      <td>NaN</td>\n",
       "      <td>枸杞素有\"宝树\"\"药树\"的美称,其嫩茎和叶可作蔬菜食用,而枸杞果实(枸杞子)、根皮(地骨皮)...</td>\n",
       "    </tr>\n",
       "    <tr>\n",
       "      <th>...</th>\n",
       "      <td>...</td>\n",
       "      <td>...</td>\n",
       "      <td>...</td>\n",
       "      <td>...</td>\n",
       "    </tr>\n",
       "    <tr>\n",
       "      <th>3414</th>\n",
       "      <td>金华青菱—泥鳅生态套养模式</td>\n",
       "      <td>严志萱,施政杰,徐小燕,杜利鑫,阮进华</td>\n",
       "      <td>水生草本植物;水中人参;药食同源植物;浮叶;菱属;营养价值;套养;产业前景;模式优势;枯枝落叶;</td>\n",
       "      <td>菱属一年生浮叶水生草本植物,泥鳅是杂食性小型淡水鱼类,可在水中共生同存。不同之处是,菱是药食...</td>\n",
       "    </tr>\n",
       "    <tr>\n",
       "      <th>3415</th>\n",
       "      <td>无公害牛蒡的栽培管理</td>\n",
       "      <td>王洁,王文,王丹丹</td>\n",
       "      <td>牛蒡根;大力子;Arctium;药食同源植物;lappa;家畜饲料;茎生叶;花冠筒;伞房状;...</td>\n",
       "      <td>牛蒡（ArctiumlappaL）为二年生菊科植物,是药食同源植物,牛蒡根产量大,牛蒡种子为...</td>\n",
       "    </tr>\n",
       "    <tr>\n",
       "      <th>3416</th>\n",
       "      <td>不同主食构成对型糖尿病患者血糖及血脂影响的比较</td>\n",
       "      <td>张家瑜,马方,刘鹏举,何书励,方京徽</td>\n",
       "      <td>型糖尿病;药食同源谷物粉;小麦膳食纤维;</td>\n",
       "      <td>目的：比较添加药食同源谷物粉与小麦膳食纤维的主食对型糖尿病患者血糖控制的影响。方法：例型糖尿...</td>\n",
       "    </tr>\n",
       "    <tr>\n",
       "      <th>3417</th>\n",
       "      <td>主食替换对型糖尿病患者餐后血糖的影响</td>\n",
       "      <td>陶利,,柳园,胡德群,袁红,胡雯,</td>\n",
       "      <td>药食同源主食;型糖尿病;餐后血糖;</td>\n",
       "      <td>目的通过药食同源主食替换传统主食,评价其对型糖尿病患者餐后血糖的影响。方法将例型糖尿病患者按...</td>\n",
       "    </tr>\n",
       "    <tr>\n",
       "      <th>3418</th>\n",
       "      <td>四种植物的乙醇提取液对鸡蛋保鲜效果的比较研究</td>\n",
       "      <td>王婵,马敬中,袁超</td>\n",
       "      <td>鸡蛋;金银花;药食同源物品;乙醇提取物;</td>\n",
       "      <td>研究对鸡蛋保鲜有效的中草药提取液。采用银杏叶、金银花、蒲公英和肉桂皮种植物的乙醇提取液作为保...</td>\n",
       "    </tr>\n",
       "  </tbody>\n",
       "</table>\n",
       "<p>281 rows × 4 columns</p>\n",
       "</div>"
      ],
      "text/plain": [
       "                           篇名                   作者  \\\n",
       "58         河北省药食同源大豆产业发展现状及对策           胡春芳,李敏,冯改静   \n",
       "91              药食同源中药抗衰老研究进展   薛立英,高丽,秦雪梅,杜冠华,周玉枝   \n",
       "132             药食同源植物的营养价值分析           姜程曦,程锦国,罗婷   \n",
       "134      药食同源中草药在功能饮料开发中的应用进展               刘晓,林太凤   \n",
       "334                   药食同源话枸杞                  崔海燕   \n",
       "...                       ...                  ...   \n",
       "3414            金华青菱—泥鳅生态套养模式  严志萱,施政杰,徐小燕,杜利鑫,阮进华   \n",
       "3415               无公害牛蒡的栽培管理            王洁,王文,王丹丹   \n",
       "3416  不同主食构成对型糖尿病患者血糖及血脂影响的比较   张家瑜,马方,刘鹏举,何书励,方京徽   \n",
       "3417       主食替换对型糖尿病患者餐后血糖的影响    陶利,,柳园,胡德群,袁红,胡雯,   \n",
       "3418   四种植物的乙醇提取液对鸡蛋保鲜效果的比较研究            王婵,马敬中,袁超   \n",
       "\n",
       "                                                    关键词  \\\n",
       "58                河北省,药食同源,大豆,种植面积,产量,加工企业,发展现状,存在问题,建议   \n",
       "91                                      抗衰老,药食同源,抗氧化,机制   \n",
       "132                                  药食同源植物,传统营养学,现代营养学   \n",
       "134                               功能饮料,药食同源,中草药,开发,应用进展   \n",
       "334                                                 NaN   \n",
       "...                                                 ...   \n",
       "3414   水生草本植物;水中人参;药食同源植物;浮叶;菱属;营养价值;套养;产业前景;模式优势;枯枝落叶;   \n",
       "3415  牛蒡根;大力子;Arctium;药食同源植物;lappa;家畜饲料;茎生叶;花冠筒;伞房状;...   \n",
       "3416                               型糖尿病;药食同源谷物粉;小麦膳食纤维;   \n",
       "3417                                  药食同源主食;型糖尿病;餐后血糖;   \n",
       "3418                               鸡蛋;金银花;药食同源物品;乙醇提取物;   \n",
       "\n",
       "                                                     摘要  \n",
       "58    对河北省药食同源大豆的种植生产情况、加工企业现状进行分析,发现存在的问题,以期提出大豆产业发...  \n",
       "91    “药食同源”即“医食同源,药食同根”,药食同源中药兼具了丰富的营养价值和药用价值.近年来,对...  \n",
       "132   “医食同源,药食同根”,药食同源植物兼具了丰富的营养价值和药用价值,目前国内外越来越重视药食...  \n",
       "134   随着功能饮料行业的蓬勃发展,药食同源中草药在功能饮料开发研究中起着重要作用.在此对几种常见药...  \n",
       "334   枸杞素有\"宝树\"\"药树\"的美称,其嫩茎和叶可作蔬菜食用,而枸杞果实(枸杞子)、根皮(地骨皮)...  \n",
       "...                                                 ...  \n",
       "3414  菱属一年生浮叶水生草本植物,泥鳅是杂食性小型淡水鱼类,可在水中共生同存。不同之处是,菱是药食...  \n",
       "3415  牛蒡（ArctiumlappaL）为二年生菊科植物,是药食同源植物,牛蒡根产量大,牛蒡种子为...  \n",
       "3416  目的：比较添加药食同源谷物粉与小麦膳食纤维的主食对型糖尿病患者血糖控制的影响。方法：例型糖尿...  \n",
       "3417  目的通过药食同源主食替换传统主食,评价其对型糖尿病患者餐后血糖的影响。方法将例型糖尿病患者按...  \n",
       "3418  研究对鸡蛋保鲜有效的中草药提取液。采用银杏叶、金银花、蒲公英和肉桂皮种植物的乙醇提取液作为保...  \n",
       "\n",
       "[281 rows x 4 columns]"
      ]
     },
     "execution_count": 72,
     "metadata": {},
     "output_type": "execute_result"
    }
   ],
   "source": [
    "df[df['篇名'].duplicated()]"
   ]
  },
  {
   "cell_type": "code",
   "execution_count": 73,
   "metadata": {},
   "outputs": [],
   "source": [
    "for k in aa:\n",
    "     df.drop(k,inplace= True)"
   ]
  },
  {
   "cell_type": "code",
   "execution_count": 75,
   "metadata": {},
   "outputs": [
    {
     "data": {
      "text/html": [
       "<div>\n",
       "<style scoped>\n",
       "    .dataframe tbody tr th:only-of-type {\n",
       "        vertical-align: middle;\n",
       "    }\n",
       "\n",
       "    .dataframe tbody tr th {\n",
       "        vertical-align: top;\n",
       "    }\n",
       "\n",
       "    .dataframe thead th {\n",
       "        text-align: right;\n",
       "    }\n",
       "</style>\n",
       "<table border=\"1\" class=\"dataframe\">\n",
       "  <thead>\n",
       "    <tr style=\"text-align: right;\">\n",
       "      <th></th>\n",
       "      <th>count</th>\n",
       "      <th>unique</th>\n",
       "      <th>top</th>\n",
       "      <th>freq</th>\n",
       "    </tr>\n",
       "  </thead>\n",
       "  <tbody>\n",
       "    <tr>\n",
       "      <th>篇名</th>\n",
       "      <td>3140</td>\n",
       "      <td>3140</td>\n",
       "      <td>黄精资源培育及深加工关键技术</td>\n",
       "      <td>1</td>\n",
       "    </tr>\n",
       "    <tr>\n",
       "      <th>作者</th>\n",
       "      <td>2962</td>\n",
       "      <td>2696</td>\n",
       "      <td>吴向红,余杰</td>\n",
       "      <td>11</td>\n",
       "    </tr>\n",
       "    <tr>\n",
       "      <th>关键词</th>\n",
       "      <td>2606</td>\n",
       "      <td>2578</td>\n",
       "      <td>@@</td>\n",
       "      <td>3</td>\n",
       "    </tr>\n",
       "    <tr>\n",
       "      <th>摘要</th>\n",
       "      <td>3139</td>\n",
       "      <td>3139</td>\n",
       "      <td>目的:探讨药食同源药膳产品参山固体饮料在体外对人结直肠癌HT-细胞增殖、迁移的影响.方法:将...</td>\n",
       "      <td>1</td>\n",
       "    </tr>\n",
       "  </tbody>\n",
       "</table>\n",
       "</div>"
      ],
      "text/plain": [
       "    count unique                                                top freq\n",
       "篇名   3140   3140                                     黄精资源培育及深加工关键技术    1\n",
       "作者   2962   2696                                             吴向红,余杰   11\n",
       "关键词  2606   2578                                                 @@    3\n",
       "摘要   3139   3139  目的:探讨药食同源药膳产品参山固体饮料在体外对人结直肠癌HT-细胞增殖、迁移的影响.方法:将...    1"
      ]
     },
     "execution_count": 75,
     "metadata": {},
     "output_type": "execute_result"
    }
   ],
   "source": [
    "df.index = range(df.shape[0])\n",
    "df.describe().T"
   ]
  },
  {
   "cell_type": "code",
   "execution_count": 50,
   "metadata": {},
   "outputs": [],
   "source": [
    "# df.to_csv(\"药食同源1.csv\")"
   ]
  },
  {
   "cell_type": "code",
   "execution_count": 51,
   "metadata": {},
   "outputs": [
    {
     "data": {
      "text/plain": [
       "篇名       0\n",
       "作者       0\n",
       "关键词    534\n",
       "摘要       1\n",
       "dtype: int64"
      ]
     },
     "execution_count": 51,
     "metadata": {},
     "output_type": "execute_result"
    }
   ],
   "source": [
    "# df.isnull().sum()"
   ]
  },
  {
   "cell_type": "code",
   "execution_count": 52,
   "metadata": {},
   "outputs": [],
   "source": [
    "# df.作者.isnull().sum()"
   ]
  },
  {
   "cell_type": "code",
   "execution_count": 76,
   "metadata": {},
   "outputs": [],
   "source": [
    "df['作者'].fillna('张三',inplace= True)\n",
    "#处理价格缺失值\n",
    "# df['价格'].fillna(round(df['价格'].mean(),0),inplace=True)"
   ]
  },
  {
   "cell_type": "code",
   "execution_count": 77,
   "metadata": {},
   "outputs": [],
   "source": [
    "df.to_csv(\"药食同源.csv\")"
   ]
  },
  {
   "cell_type": "code",
   "execution_count": 78,
   "metadata": {},
   "outputs": [
    {
     "data": {
      "text/plain": [
       "0"
      ]
     },
     "execution_count": 78,
     "metadata": {},
     "output_type": "execute_result"
    }
   ],
   "source": [
    "df.作者.isnull().sum()"
   ]
  },
  {
   "cell_type": "code",
   "execution_count": 79,
   "metadata": {},
   "outputs": [
    {
     "data": {
      "text/html": [
       "<div>\n",
       "<style scoped>\n",
       "    .dataframe tbody tr th:only-of-type {\n",
       "        vertical-align: middle;\n",
       "    }\n",
       "\n",
       "    .dataframe tbody tr th {\n",
       "        vertical-align: top;\n",
       "    }\n",
       "\n",
       "    .dataframe thead th {\n",
       "        text-align: right;\n",
       "    }\n",
       "</style>\n",
       "<table border=\"1\" class=\"dataframe\">\n",
       "  <thead>\n",
       "    <tr style=\"text-align: right;\">\n",
       "      <th></th>\n",
       "      <th>count</th>\n",
       "      <th>unique</th>\n",
       "      <th>top</th>\n",
       "      <th>freq</th>\n",
       "    </tr>\n",
       "  </thead>\n",
       "  <tbody>\n",
       "    <tr>\n",
       "      <th>篇名</th>\n",
       "      <td>3140</td>\n",
       "      <td>3140</td>\n",
       "      <td>黄精资源培育及深加工关键技术</td>\n",
       "      <td>1</td>\n",
       "    </tr>\n",
       "    <tr>\n",
       "      <th>作者</th>\n",
       "      <td>3140</td>\n",
       "      <td>2697</td>\n",
       "      <td>张三</td>\n",
       "      <td>178</td>\n",
       "    </tr>\n",
       "    <tr>\n",
       "      <th>关键词</th>\n",
       "      <td>2606</td>\n",
       "      <td>2578</td>\n",
       "      <td>@@</td>\n",
       "      <td>3</td>\n",
       "    </tr>\n",
       "    <tr>\n",
       "      <th>摘要</th>\n",
       "      <td>3139</td>\n",
       "      <td>3139</td>\n",
       "      <td>目的:探讨药食同源药膳产品参山固体饮料在体外对人结直肠癌HT-细胞增殖、迁移的影响.方法:将...</td>\n",
       "      <td>1</td>\n",
       "    </tr>\n",
       "  </tbody>\n",
       "</table>\n",
       "</div>"
      ],
      "text/plain": [
       "    count unique                                                top freq\n",
       "篇名   3140   3140                                     黄精资源培育及深加工关键技术    1\n",
       "作者   3140   2697                                                 张三  178\n",
       "关键词  2606   2578                                                 @@    3\n",
       "摘要   3139   3139  目的:探讨药食同源药膳产品参山固体饮料在体外对人结直肠癌HT-细胞增殖、迁移的影响.方法:将...    1"
      ]
     },
     "execution_count": 79,
     "metadata": {},
     "output_type": "execute_result"
    }
   ],
   "source": [
    "df.describe().T"
   ]
  },
  {
   "cell_type": "code",
   "execution_count": 57,
   "metadata": {},
   "outputs": [
    {
     "data": {
      "text/html": [
       "<div>\n",
       "<style scoped>\n",
       "    .dataframe tbody tr th:only-of-type {\n",
       "        vertical-align: middle;\n",
       "    }\n",
       "\n",
       "    .dataframe tbody tr th {\n",
       "        vertical-align: top;\n",
       "    }\n",
       "\n",
       "    .dataframe thead th {\n",
       "        text-align: right;\n",
       "    }\n",
       "</style>\n",
       "<table border=\"1\" class=\"dataframe\">\n",
       "  <thead>\n",
       "    <tr style=\"text-align: right;\">\n",
       "      <th></th>\n",
       "      <th>count</th>\n",
       "      <th>unique</th>\n",
       "      <th>top</th>\n",
       "      <th>freq</th>\n",
       "    </tr>\n",
       "  </thead>\n",
       "  <tbody>\n",
       "    <tr>\n",
       "      <th>篇名</th>\n",
       "      <td>3035</td>\n",
       "      <td>2998</td>\n",
       "      <td>薯蓣属种药食同源植物红外光谱鉴别研究</td>\n",
       "      <td>2</td>\n",
       "    </tr>\n",
       "    <tr>\n",
       "      <th>作者</th>\n",
       "      <td>3035</td>\n",
       "      <td>2668</td>\n",
       "      <td>张三</td>\n",
       "      <td>144</td>\n",
       "    </tr>\n",
       "    <tr>\n",
       "      <th>关键词</th>\n",
       "      <td>2501</td>\n",
       "      <td>2473</td>\n",
       "      <td>@@</td>\n",
       "      <td>3</td>\n",
       "    </tr>\n",
       "    <tr>\n",
       "      <th>摘要</th>\n",
       "      <td>3034</td>\n",
       "      <td>3034</td>\n",
       "      <td>目的:探讨药食同源药膳产品参山固体饮料在体外对人结直肠癌HT-细胞增殖、迁移的影响.方法:将...</td>\n",
       "      <td>1</td>\n",
       "    </tr>\n",
       "  </tbody>\n",
       "</table>\n",
       "</div>"
      ],
      "text/plain": [
       "    count unique                                                top freq\n",
       "篇名   3035   2998                                 薯蓣属种药食同源植物红外光谱鉴别研究    2\n",
       "作者   3035   2668                                                 张三  144\n",
       "关键词  2501   2473                                                 @@    3\n",
       "摘要   3034   3034  目的:探讨药食同源药膳产品参山固体饮料在体外对人结直肠癌HT-细胞增殖、迁移的影响.方法:将...    1"
      ]
     },
     "execution_count": 57,
     "metadata": {},
     "output_type": "execute_result"
    }
   ],
   "source": [
    "df.describe().T"
   ]
  },
  {
   "cell_type": "code",
   "execution_count": 60,
   "metadata": {},
   "outputs": [
    {
     "data": {
      "text/html": [
       "<div>\n",
       "<style scoped>\n",
       "    .dataframe tbody tr th:only-of-type {\n",
       "        vertical-align: middle;\n",
       "    }\n",
       "\n",
       "    .dataframe tbody tr th {\n",
       "        vertical-align: top;\n",
       "    }\n",
       "\n",
       "    .dataframe thead th {\n",
       "        text-align: right;\n",
       "    }\n",
       "</style>\n",
       "<table border=\"1\" class=\"dataframe\">\n",
       "  <thead>\n",
       "    <tr style=\"text-align: right;\">\n",
       "      <th></th>\n",
       "      <th>count</th>\n",
       "      <th>unique</th>\n",
       "      <th>top</th>\n",
       "      <th>freq</th>\n",
       "    </tr>\n",
       "  </thead>\n",
       "  <tbody>\n",
       "    <tr>\n",
       "      <th>篇名</th>\n",
       "      <td>3035</td>\n",
       "      <td>2998</td>\n",
       "      <td>薯蓣属种药食同源植物红外光谱鉴别研究</td>\n",
       "      <td>2</td>\n",
       "    </tr>\n",
       "    <tr>\n",
       "      <th>作者</th>\n",
       "      <td>3035</td>\n",
       "      <td>2668</td>\n",
       "      <td>张三</td>\n",
       "      <td>144</td>\n",
       "    </tr>\n",
       "    <tr>\n",
       "      <th>关键词</th>\n",
       "      <td>2501</td>\n",
       "      <td>2473</td>\n",
       "      <td>@@</td>\n",
       "      <td>3</td>\n",
       "    </tr>\n",
       "    <tr>\n",
       "      <th>摘要</th>\n",
       "      <td>3034</td>\n",
       "      <td>3034</td>\n",
       "      <td>目的:探讨药食同源药膳产品参山固体饮料在体外对人结直肠癌HT-细胞增殖、迁移的影响.方法:将...</td>\n",
       "      <td>1</td>\n",
       "    </tr>\n",
       "  </tbody>\n",
       "</table>\n",
       "</div>"
      ],
      "text/plain": [
       "    count unique                                                top freq\n",
       "篇名   3035   2998                                 薯蓣属种药食同源植物红外光谱鉴别研究    2\n",
       "作者   3035   2668                                                 张三  144\n",
       "关键词  2501   2473                                                 @@    3\n",
       "摘要   3034   3034  目的:探讨药食同源药膳产品参山固体饮料在体外对人结直肠癌HT-细胞增殖、迁移的影响.方法:将...    1"
      ]
     },
     "execution_count": 60,
     "metadata": {},
     "output_type": "execute_result"
    }
   ],
   "source": [
    "df.describe().T"
   ]
  },
  {
   "cell_type": "code",
   "execution_count": 34,
   "metadata": {},
   "outputs": [
    {
     "name": "stderr",
     "output_type": "stream",
     "text": [
      "Building prefix dict from the default dictionary ...\n",
      "Dumping model to file cache /tmp/jieba.cache\n",
      "Loading model cost 0.482 seconds.\n",
      "Prefix dict has been built successfully.\n"
     ]
    }
   ],
   "source": []
  },
  {
   "cell_type": "markdown",
   "metadata": {},
   "source": [
    "# 消除换行符和空格相关的连接 https://blog.csdn.net/jerrygaoling/article/details/81051447?ops_request_misc=%257B%2522request%255Fid%2522%253A%2522161167583716780262581411%2522%252C%2522scm%2522%253A%252220140713.130102334..%2522%257D&request_id=161167583716780262581411&biz_id=0&utm_medium=distribute.pc_search_result.none-task-blog-2~all~sobaiduend~default-2-81051447.first_rank_v2_pc_rank_v29&utm_term=python%E5%AD%97%E7%AC%A6%E4%B8%B2%E5%88%A0%E9%99%A4%E6%8D%A2%E8%A1%8C%E7%AC%A6&spm=1018.2226.3001.4187"
   ]
  }
 ],
 "metadata": {
  "kernelspec": {
   "display_name": "Python 3",
   "language": "python",
   "name": "python3"
  },
  "language_info": {
   "codemirror_mode": {
    "name": "ipython",
    "version": 3
   },
   "file_extension": ".py",
   "mimetype": "text/x-python",
   "name": "python",
   "nbconvert_exporter": "python",
   "pygments_lexer": "ipython3",
   "version": "3.8.8"
  }
 },
 "nbformat": 4,
 "nbformat_minor": 4
}
