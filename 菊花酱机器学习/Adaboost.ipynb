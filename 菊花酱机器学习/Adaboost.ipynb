{
 "cells": [
  {
   "cell_type": "code",
   "execution_count": 3,
   "metadata": {},
   "outputs": [],
   "source": [
    "import pandas as pd \n",
    "import numpy as np"
   ]
  },
  {
   "cell_type": "code",
   "execution_count": 4,
   "metadata": {},
   "outputs": [],
   "source": [
    "#获得特征矩阵和标签矩阵\n",
    "def get_Mat(path):\n",
    "    dataSet = pd.read_table(path,header = None)\n",
    "    xMat = np.mat(dataSet.iloc[:,:-1].values) #前两个作为X\n",
    "    yMat = np.mat(dataSet.iloc[:,-1].values).T #最后一个作为Y\n",
    "    return xMat,yMat"
   ]
  },
  {
   "cell_type": "code",
   "execution_count": 5,
   "metadata": {},
   "outputs": [],
   "source": [
    "xMat,yMat = get_Mat('simpdata.txt')"
   ]
  },
  {
   "cell_type": "code",
   "execution_count": 6,
   "metadata": {},
   "outputs": [
    {
     "data": {
      "text/plain": [
       "matrix([[1. , 2.1],\n",
       "        [1.5, 1.6],\n",
       "        [1.3, 1. ],\n",
       "        [1. , 1. ],\n",
       "        [2. , 1. ]])"
      ]
     },
     "execution_count": 6,
     "metadata": {},
     "output_type": "execute_result"
    }
   ],
   "source": [
    "xMat"
   ]
  },
  {
   "cell_type": "code",
   "execution_count": 7,
   "metadata": {},
   "outputs": [
    {
     "data": {
      "text/plain": [
       "matrix([[ 1.],\n",
       "        [ 1.],\n",
       "        [-1.],\n",
       "        [-1.],\n",
       "        [ 1.]])"
      ]
     },
     "execution_count": 7,
     "metadata": {},
     "output_type": "execute_result"
    }
   ],
   "source": [
    "yMat"
   ]
  },
  {
   "cell_type": "code",
   "execution_count": 8,
   "metadata": {},
   "outputs": [],
   "source": [
    "import matplotlib.pyplot as plt\n",
    "plt.rcParams['font.sans-serif']=['simhei']#为了显示中文\n",
    "%matplotlib inline"
   ]
  },
  {
   "cell_type": "code",
   "execution_count": 9,
   "metadata": {},
   "outputs": [],
   "source": [
    "#数据集可视化函数\n",
    "def  showPlot(xMat,yMat):\n",
    "    x = np.array(xMat[:,0])#第一列，横坐标\n",
    "    y = np.array(xMat[:,1])#第二列纵坐标\n",
    "    label = np.array(yMat)#标签\n",
    "    plt.scatter(x,y,c= label)\n",
    "    plt.title(\"单层决策树测试数据\")\n",
    "    plt.show()"
   ]
  },
  {
   "cell_type": "code",
   "execution_count": 10,
   "metadata": {},
   "outputs": [
    {
     "data": {
      "text/plain": [
       "matrix([[1. ],\n",
       "        [1.5],\n",
       "        [1.3],\n",
       "        [1. ],\n",
       "        [2. ]])"
      ]
     },
     "execution_count": 10,
     "metadata": {},
     "output_type": "execute_result"
    }
   ],
   "source": [
    "xMat[:,0]#第一列"
   ]
  },
  {
   "cell_type": "code",
   "execution_count": 11,
   "metadata": {},
   "outputs": [
    {
     "data": {
      "text/plain": [
       "matrix([[2.1],\n",
       "        [1.6],\n",
       "        [1. ],\n",
       "        [1. ],\n",
       "        [1. ]])"
      ]
     },
     "execution_count": 11,
     "metadata": {},
     "output_type": "execute_result"
    }
   ],
   "source": [
    "xMat[:,1]#第二列"
   ]
  },
  {
   "cell_type": "code",
   "execution_count": 12,
   "metadata": {},
   "outputs": [
    {
     "name": "stderr",
     "output_type": "stream",
     "text": [
      "findfont: Font family ['sans-serif'] not found. Falling back to DejaVu Sans.\n",
      "/home/hhl/anaconda3/lib/python3.8/site-packages/matplotlib/backends/backend_agg.py:238: RuntimeWarning: Glyph 21333 missing from current font.\n",
      "  font.set_text(s, 0.0, flags=flags)\n",
      "/home/hhl/anaconda3/lib/python3.8/site-packages/matplotlib/backends/backend_agg.py:238: RuntimeWarning: Glyph 23618 missing from current font.\n",
      "  font.set_text(s, 0.0, flags=flags)\n",
      "/home/hhl/anaconda3/lib/python3.8/site-packages/matplotlib/backends/backend_agg.py:238: RuntimeWarning: Glyph 20915 missing from current font.\n",
      "  font.set_text(s, 0.0, flags=flags)\n",
      "/home/hhl/anaconda3/lib/python3.8/site-packages/matplotlib/backends/backend_agg.py:238: RuntimeWarning: Glyph 31574 missing from current font.\n",
      "  font.set_text(s, 0.0, flags=flags)\n",
      "/home/hhl/anaconda3/lib/python3.8/site-packages/matplotlib/backends/backend_agg.py:238: RuntimeWarning: Glyph 26641 missing from current font.\n",
      "  font.set_text(s, 0.0, flags=flags)\n",
      "/home/hhl/anaconda3/lib/python3.8/site-packages/matplotlib/backends/backend_agg.py:238: RuntimeWarning: Glyph 27979 missing from current font.\n",
      "  font.set_text(s, 0.0, flags=flags)\n",
      "/home/hhl/anaconda3/lib/python3.8/site-packages/matplotlib/backends/backend_agg.py:238: RuntimeWarning: Glyph 35797 missing from current font.\n",
      "  font.set_text(s, 0.0, flags=flags)\n",
      "/home/hhl/anaconda3/lib/python3.8/site-packages/matplotlib/backends/backend_agg.py:238: RuntimeWarning: Glyph 25968 missing from current font.\n",
      "  font.set_text(s, 0.0, flags=flags)\n",
      "/home/hhl/anaconda3/lib/python3.8/site-packages/matplotlib/backends/backend_agg.py:238: RuntimeWarning: Glyph 25454 missing from current font.\n",
      "  font.set_text(s, 0.0, flags=flags)\n",
      "findfont: Font family ['sans-serif'] not found. Falling back to DejaVu Sans.\n",
      "/home/hhl/anaconda3/lib/python3.8/site-packages/matplotlib/backends/backend_agg.py:201: RuntimeWarning: Glyph 21333 missing from current font.\n",
      "  font.set_text(s, 0, flags=flags)\n",
      "/home/hhl/anaconda3/lib/python3.8/site-packages/matplotlib/backends/backend_agg.py:201: RuntimeWarning: Glyph 23618 missing from current font.\n",
      "  font.set_text(s, 0, flags=flags)\n",
      "/home/hhl/anaconda3/lib/python3.8/site-packages/matplotlib/backends/backend_agg.py:201: RuntimeWarning: Glyph 20915 missing from current font.\n",
      "  font.set_text(s, 0, flags=flags)\n",
      "/home/hhl/anaconda3/lib/python3.8/site-packages/matplotlib/backends/backend_agg.py:201: RuntimeWarning: Glyph 31574 missing from current font.\n",
      "  font.set_text(s, 0, flags=flags)\n",
      "/home/hhl/anaconda3/lib/python3.8/site-packages/matplotlib/backends/backend_agg.py:201: RuntimeWarning: Glyph 26641 missing from current font.\n",
      "  font.set_text(s, 0, flags=flags)\n",
      "/home/hhl/anaconda3/lib/python3.8/site-packages/matplotlib/backends/backend_agg.py:201: RuntimeWarning: Glyph 27979 missing from current font.\n",
      "  font.set_text(s, 0, flags=flags)\n",
      "/home/hhl/anaconda3/lib/python3.8/site-packages/matplotlib/backends/backend_agg.py:201: RuntimeWarning: Glyph 35797 missing from current font.\n",
      "  font.set_text(s, 0, flags=flags)\n",
      "/home/hhl/anaconda3/lib/python3.8/site-packages/matplotlib/backends/backend_agg.py:201: RuntimeWarning: Glyph 25968 missing from current font.\n",
      "  font.set_text(s, 0, flags=flags)\n",
      "/home/hhl/anaconda3/lib/python3.8/site-packages/matplotlib/backends/backend_agg.py:201: RuntimeWarning: Glyph 25454 missing from current font.\n",
      "  font.set_text(s, 0, flags=flags)\n"
     ]
    },
    {
     "data": {
      "image/png": "[encoded data removed]",
      "text/plain": [
       "<Figure size 432x288 with 1 Axes>"
      ]
     },
     "metadata": {
      "needs_background": "light"
     },
     "output_type": "display_data"
    }
   ],
   "source": [
    "showPlot(xMat,yMat) #这两个函数的数据有问题，先不运行"
   ]
  },
  {
   "cell_type": "code",
   "execution_count": 13,
   "metadata": {},
   "outputs": [],
   "source": [
    "\"\"\"\n",
    "函数功能：单层决策树分类函数\n",
    "参数说明：\n",
    "xMat:数据矩阵\n",
    "i:第i列，也就是第几个特征\n",
    "Q:阙值\n",
    "S:标志\n",
    "返回：\n",
    "re:分类结果\n",
    "\"\"\"\n",
    "def Classify0(xMat,i,Q,S):\n",
    "    re = np.ones((xMat.shape[0],1))#初始化re为1\n",
    "    if S =='lt':\n",
    "        re[xMat[:,i]<=Q] = -1\n",
    "        #如果小于阙值，则赋值为-1\n",
    "    else:\n",
    "        re[xMat[:,i]>Q] = -1\n",
    "        #如果大于阙值，则赋值为-1\n",
    "    return re "
   ]
  },
  {
   "cell_type": "code",
   "execution_count": 14,
   "metadata": {},
   "outputs": [
    {
     "data": {
      "text/plain": [
       "array([[1.],\n",
       "       [1.],\n",
       "       [1.],\n",
       "       [1.],\n",
       "       [1.]])"
      ]
     },
     "execution_count": 14,
     "metadata": {},
     "output_type": "execute_result"
    }
   ],
   "source": [
    "np.ones((xMat.shape[0],1))"
   ]
  },
  {
   "cell_type": "code",
   "execution_count": 15,
   "metadata": {},
   "outputs": [],
   "source": [
    "\"\"\"\n",
    "函数功能： 找到数据集上最佳的单层决策树\n",
    "参数说明：\n",
    "xMat：特征矩阵\n",
    "yMat:标签矩阵\n",
    "D:样本权重\n",
    "返回：\n",
    "bestStump:最佳单层决策树信息\n",
    "minE：最小误差\n",
    "bestClas:最佳分类结果\n",
    "\"\"\"\n",
    "def get_Stump(xMat,yMat,D):#xMat 特征矩阵，yMat标签矩阵，D 样本权重\n",
    "    m,n = xMat.shape # m为样本个数5，n为特征数2(5, 2)\n",
    "    Steps = 10 #初始化一个步数\n",
    "    bestStump = {} # 用字典形式来储存树桩信息\n",
    "    bestClas = np.mat(np.zeros((m,1)))#初始化分类结果为1\n",
    "    minE = np.inf # 最小误差初始化为正无穷大inf 代表无穷大\n",
    "    for i in range(n):# 遍历所有特征\n",
    "        Min = xMat[:,i].min() # 找到特征中最小值\n",
    "        Max = xMat[:,i].max() # 找到特征中最大值\n",
    "        stepSize = (Max - Min)/Steps # 计算步长\n",
    "        print(stepSize)\n",
    "        for j in range (-1, int(Steps)+1):#步数的作用？\n",
    "            for S in ['lt','gt']:#大于和小于的情况均遍历。lt:less than,gt:greater than\n",
    "                Q = (Min+j*stepSize)#计算阙值 阙值的作用\n",
    "                print(Q)\n",
    "                re = Classify0(xMat,i,Q,S)   #计算分类结果 （调用这个函数是为了进行分类，但分类结果可能不正确，需要后面验证）\n",
    "                err = np.mat(np.ones((m,1))) #这是个误差矩阵\n",
    "                err[re == yMat]=0 #分类正确的，赋值\n",
    "                eca = D.T*err #计算误差 利用权重*误差得到分类器的误差\n",
    "                print(f'切分特征:{i},阙值：{np.round(Q,2)},标志：{S},权重误差：{np.round(eca,3)}')\n",
    "                if eca < minE:#找到最小的误差方式\n",
    "                    minE = eca\n",
    "                    bestClas = re.copy()\n",
    "                    bestStump['特征列'] = i\n",
    "                    bestStump['阙值'] = Q\n",
    "                    bestStump['标志'] = S\n",
    "    return  bestStump,minE,bestClas"
   ]
  },
  {
   "cell_type": "code",
   "execution_count": 16,
   "metadata": {},
   "outputs": [
    {
     "data": {
      "text/plain": [
       "(5, 2)"
      ]
     },
     "execution_count": 16,
     "metadata": {},
     "output_type": "execute_result"
    }
   ],
   "source": [
    "xMat.shape "
   ]
  },
  {
   "cell_type": "code",
   "execution_count": 17,
   "metadata": {},
   "outputs": [
    {
     "data": {
      "text/plain": [
       "matrix([[0.],\n",
       "        [0.],\n",
       "        [0.],\n",
       "        [0.],\n",
       "        [0.]])"
      ]
     },
     "execution_count": 17,
     "metadata": {},
     "output_type": "execute_result"
    }
   ],
   "source": [
    "np.mat(np.zeros((5,1)))"
   ]
  },
  {
   "cell_type": "code",
   "execution_count": 18,
   "metadata": {},
   "outputs": [
    {
     "data": {
      "text/plain": [
       "inf"
      ]
     },
     "execution_count": 18,
     "metadata": {},
     "output_type": "execute_result"
    }
   ],
   "source": [
    "np.inf "
   ]
  },
  {
   "cell_type": "code",
   "execution_count": 19,
   "metadata": {},
   "outputs": [
    {
     "data": {
      "text/plain": [
       "range(-1, 11)"
      ]
     },
     "execution_count": 19,
     "metadata": {},
     "output_type": "execute_result"
    }
   ],
   "source": [
    "range (-1, int(10)+1)"
   ]
  },
  {
   "cell_type": "code",
   "execution_count": 20,
   "metadata": {},
   "outputs": [
    {
     "data": {
      "text/plain": [
       "matrix([[1.],\n",
       "        [1.],\n",
       "        [1.],\n",
       "        [1.],\n",
       "        [1.]])"
      ]
     },
     "execution_count": 20,
     "metadata": {},
     "output_type": "execute_result"
    }
   ],
   "source": [
    "m=5\n",
    "np.mat(np.ones((m,1)))"
   ]
  },
  {
   "cell_type": "code",
   "execution_count": 22,
   "metadata": {},
   "outputs": [],
   "source": [
    "m = xMat.shape[0]\n",
    "D =np.mat(np.ones((m,1))/m)\n",
    "#初始化样本权重（每个样本权重相等）\n",
    "bestStump,minE,bestClas = get_Stump(xMat,yMat,D)"
   ]
  },
  {
   "cell_type": "code",
   "execution_count": 23,
   "metadata": {},
   "outputs": [
    {
     "data": {
      "text/plain": [
       "{}"
      ]
     },
     "execution_count": 23,
     "metadata": {},
     "output_type": "execute_result"
    }
   ],
   "source": [
    "bestStump"
   ]
  },
  {
   "cell_type": "code",
   "execution_count": 24,
   "metadata": {},
   "outputs": [
    {
     "data": {
      "text/plain": [
       "inf"
      ]
     },
     "execution_count": 24,
     "metadata": {},
     "output_type": "execute_result"
    }
   ],
   "source": [
    "minE"
   ]
  },
  {
   "cell_type": "code",
   "execution_count": 25,
   "metadata": {},
   "outputs": [
    {
     "data": {
      "text/plain": [
       "matrix([[0.],\n",
       "        [0.],\n",
       "        [0.],\n",
       "        [0.],\n",
       "        [0.]])"
      ]
     },
     "execution_count": 25,
     "metadata": {},
     "output_type": "execute_result"
    }
   ],
   "source": [
    "bestClas"
   ]
  },
  {
   "cell_type": "code",
   "execution_count": null,
   "metadata": {},
   "outputs": [],
   "source": []
  },
  {
   "cell_type": "code",
   "execution_count": null,
   "metadata": {},
   "outputs": [],
   "source": []
  }
 ],
 "metadata": {
  "kernelspec": {
   "display_name": "Python 3",
   "language": "python",
   "name": "python3"
  },
  "language_info": {
   "codemirror_mode": {
    "name": "ipython",
    "version": 3
   },
   "file_extension": ".py",
   "mimetype": "text/x-python",
   "name": "python",
   "nbconvert_exporter": "python",
   "pygments_lexer": "ipython3",
   "version": "3.8.5"
  }
 },
 "nbformat": 4,
 "nbformat_minor": 4
}
