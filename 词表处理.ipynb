{
 "cells": [
  {
   "cell_type": "code",
   "execution_count": 1,
   "metadata": {},
   "outputs": [],
   "source": [
    "with open ('新建文本文档.txt') as f,open('new.txt','w',encoding = 'utf-8') as fd:\n",
    "    txt =[]\n",
    "    for i in f.readlines():\n",
    "        i = i.strip().replace('\"','').replace(')','').replace(':','').replace(',','').replace('(','').replace('-','').replace('●','').replace('↓','')\n",
    "        i = i.replace('!','').replace('。','').replace('，','').replace('+二画','').replace(' ','\\n').replace('i','').replace('I','').replace(';','').replace(\"'\",'').replace('\\n\\n','\\n')\n",
    "        if i!='':\n",
    "            txt.append(i)\n",
    "    for i in txt:\n",
    "        s= i+'\\n'\n",
    "        fd.write(s)\n",
    "f.close()\n",
    "fd.close()"
   ]
  },
  {
   "cell_type": "code",
   "execution_count": 7,
   "metadata": {},
   "outputs": [
    {
     "name": "stdout",
     "output_type": "stream",
     "text": [
      "输出成功....\n"
     ]
    }
   ],
   "source": [
    "\n",
    "\"\"\"\n",
    "读取存在空行的文件，删除其中的空行，并将其保存到新的文件中\n",
    "\"\"\"\n",
    "\n",
    "with open('new.txt','r',encoding = 'utf-8') as fr,open('new1.txt','w',encoding = 'utf-8') as fd:\n",
    "        for text in fr.readlines():\n",
    "                if text.split():\n",
    "                        fd.write(text)\n",
    "        print('输出成功....')"
   ]
  },
  {
   "cell_type": "code",
   "execution_count": 21,
   "metadata": {},
   "outputs": [
    {
     "name": "stdout",
     "output_type": "stream",
     "text": [
      "完成\n"
     ]
    }
   ],
   "source": [
    "\"\"\"\n",
    "将三个词典汇总，并且形成一个不重复的词汇表\n",
    "\"\"\"\n",
    "with open('new1.txt','r',encoding ='utf-8') as f1,open('中草药汇编.txt','r',encoding = 'utf-8') as f2,open('中药大辞典.txt','r',encoding='utf-8')as f3, open('中药大词典合集.txt','w',encoding = 'utf-8') as ff: \n",
    "        l1,l2,l3 = f1.readlines(),f2.readlines(),f3.readlines()\n",
    "#         print (l1)\n",
    "        ll = []\n",
    "        ll.append(l1)\n",
    "        ll.append(l2)\n",
    "        ll.append(l3)\n",
    "#         print(len(ll))\n",
    "        vocabSet = set() # 创建一个空集\n",
    "        for i in ll: #遍历每一个子集\n",
    "            vocabSet = vocabSet | set(i)#取并集\n",
    "        vocabList  = list(vocabSet)\n",
    "#         print(vocabList)\n",
    "        for i in vocabList:\n",
    "            ff.write(i)\n",
    "        print('完成')\n",
    "        f1.close()\n",
    "        f2.close()\n",
    "        f3.close()\n",
    "            "
   ]
  },
  {
   "cell_type": "code",
   "execution_count": null,
   "metadata": {},
   "outputs": [],
   "source": []
  }
 ],
 "metadata": {
  "kernelspec": {
   "display_name": "Python 3",
   "language": "python",
   "name": "python3"
  },
  "language_info": {
   "codemirror_mode": {
    "name": "ipython",
    "version": 3
   },
   "file_extension": ".py",
   "mimetype": "text/x-python",
   "name": "python",
   "nbconvert_exporter": "python",
   "pygments_lexer": "ipython3",
   "version": "3.8.8"
  }
 },
 "nbformat": 4,
 "nbformat_minor": 4
}
